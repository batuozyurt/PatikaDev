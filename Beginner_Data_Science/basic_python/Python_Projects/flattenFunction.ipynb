{
 "cells": [
  {
   "cell_type": "markdown",
   "id": "be01cf59",
   "metadata": {},
   "source": [
    "# Flatten Function Project\n",
    "---\n",
    "> Bir listeyi düzleştiren (flatten) fonksiyon yazın. Elemanları birden çok katmanlı listelerden ([[3],2] gibi) oluşabileceği gibi, non-scalar verilerden de oluşabilir. Örnek olarak:\n",
    "\n",
    "`input: [[1,'a',['cat'],2],[[[3]],'dog'],4,5]`\n",
    "\n",
    "`output: [1,'a','cat',2,3,'dog',4,5]`\n",
    "\n",
    "---"
   ]
  },
  {
   "cell_type": "code",
   "execution_count": 1,
   "id": "0be04416",
   "metadata": {},
   "outputs": [
    {
     "name": "stdout",
     "output_type": "stream",
     "text": [
      "[1, 'a', 'cat', 2, 3, 'dog', 4, 5]\n"
     ]
    }
   ],
   "source": [
    "l = [[1,'a',['cat'],2],[[[3]],'dog'],4,5]\n",
    "new_l = []\n",
    "def flatten(n):\n",
    "    for i in n:\n",
    "        if isinstance(i, list):\n",
    "            flatten(i)\n",
    "        else:\n",
    "            new_l.append(i)\n",
    "\n",
    "flatten(l)\n",
    "print(new_l)"
   ]
  }
 ],
 "metadata": {
  "kernelspec": {
   "display_name": "Python 3 (ipykernel)",
   "language": "python",
   "name": "python3"
  },
  "language_info": {
   "codemirror_mode": {
    "name": "ipython",
    "version": 3
   },
   "file_extension": ".py",
   "mimetype": "text/x-python",
   "name": "python",
   "nbconvert_exporter": "python",
   "pygments_lexer": "ipython3",
   "version": "3.9.12"
  }
 },
 "nbformat": 4,
 "nbformat_minor": 5
}
