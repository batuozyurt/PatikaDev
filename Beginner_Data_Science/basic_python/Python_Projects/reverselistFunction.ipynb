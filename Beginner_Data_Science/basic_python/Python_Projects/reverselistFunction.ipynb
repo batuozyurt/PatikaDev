{
 "cells": [
  {
   "cell_type": "markdown",
   "id": "f40a4f95",
   "metadata": {},
   "source": [
    "# Reverse List Function Project\n",
    "---\n",
    "> Verilen listenin içindeki elemanları tersine döndüren bir fonksiyon yazın. Eğer listenin içindeki elemanlar da liste içeriyorsa onların elemanlarını da tersine döndürün. Örnek olarak:\n",
    "\n",
    "`input: [[1, 2], [3, 4], [5, 6, 7]]`\n",
    "\n",
    "`output: [[[7, 6, 5], [4, 3], [2, 1]]`\n",
    "\n",
    "---"
   ]
  },
  {
   "cell_type": "code",
   "execution_count": 75,
   "id": "faa77db0",
   "metadata": {},
   "outputs": [],
   "source": [
    "l = [[1, 2], [3, 4], [5, 6, 7]]"
   ]
  },
  {
   "cell_type": "code",
   "execution_count": 85,
   "id": "55f93d1c",
   "metadata": {},
   "outputs": [],
   "source": [
    "def reverselist(x):\n",
    "    l.reverse()\n",
    "    for i in l:\n",
    "        i.reverse()\n",
    "    print(l)"
   ]
  },
  {
   "cell_type": "code",
   "execution_count": 89,
   "id": "2e162409",
   "metadata": {
    "scrolled": true
   },
   "outputs": [
    {
     "name": "stdout",
     "output_type": "stream",
     "text": [
      "[[7, 6, 5], [4, 3], [2, 1]]\n"
     ]
    }
   ],
   "source": [
    "reverselist(l)"
   ]
  }
 ],
 "metadata": {
  "kernelspec": {
   "display_name": "Python 3 (ipykernel)",
   "language": "python",
   "name": "python3"
  },
  "language_info": {
   "codemirror_mode": {
    "name": "ipython",
    "version": 3
   },
   "file_extension": ".py",
   "mimetype": "text/x-python",
   "name": "python",
   "nbconvert_exporter": "python",
   "pygments_lexer": "ipython3",
   "version": "3.9.12"
  }
 },
 "nbformat": 4,
 "nbformat_minor": 5
}
