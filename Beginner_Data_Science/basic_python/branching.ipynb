{
 "cells": [
  {
   "cell_type": "markdown",
   "id": "109dff97",
   "metadata": {},
   "source": [
    "# Branching (Programı Dallandırma)\n",
    "---\n",
    "- İfadelerin değerlerinin True veya False olduklarını veren karşılaştırmalara ve mantıksal operatörlere bakmıştık.\n",
    "- Şimdi bunların sonuçlarına göre programımızı dallandırmaya bakacağız.\n",
    "\n",
    "\n",
    "### if\n",
    "---\n",
    "- Eğer testimin değeri True ise **if** bloğunun içinde yazanı yapacağız.\n",
    "- Yapılacakların **if** bloğuna ait olduğunu anlatmak için kodu **if** in içine yazarız. Python'ın o bloğun içinde olduğumuzu anlaması için boşluk bırakmamız gerekir."
   ]
  },
  {
   "cell_type": "code",
   "execution_count": 1,
   "id": "a69e7bfe",
   "metadata": {},
   "outputs": [
    {
     "name": "stdout",
     "output_type": "stream",
     "text": [
      "Bir sayı giriniz:2\n",
      "Sayınız çift sayı\n",
      "Programınız sona ulaştı.\n"
     ]
    }
   ],
   "source": [
    "x = int(input(\"Bir sayı giriniz:\"))\n",
    "\n",
    "if x % 2 == 0:\n",
    "    print(\"Sayınız çift sayı\")\n",
    "\n",
    "print(\"Programınız sona ulaştı.\")"
   ]
  },
  {
   "cell_type": "markdown",
   "id": "ceb32f03",
   "metadata": {},
   "source": [
    "### else\n",
    "---\n",
    "- **if** ile kontrolümüz (veya elseif-elif) **False** sonucu döndürülürse yapılacak blok:"
   ]
  },
  {
   "cell_type": "code",
   "execution_count": 3,
   "id": "a9cfd5d1",
   "metadata": {},
   "outputs": [
    {
     "name": "stdout",
     "output_type": "stream",
     "text": [
      "Bir sayı giriniz:3\n",
      "Sayınız tek sayı\n",
      "Programınız sona ulaştı.\n"
     ]
    }
   ],
   "source": [
    "x = int(input(\"Bir sayı giriniz:\"))\n",
    "\n",
    "if x % 2 == 0:\n",
    "    print(\"Sayınız çift sayı\")\n",
    "else:\n",
    "    print(\"Sayınız tek sayı\")\n",
    "        \n",
    "print(\"Programınız sona ulaştı.\")"
   ]
  },
  {
   "cell_type": "markdown",
   "id": "b9654b91",
   "metadata": {},
   "source": [
    "### elif\n",
    "---\n",
    "- **elif if** ile yaptığımız teste ek olarak başka testler yapmak istiyorsak kullanılır."
   ]
  },
  {
   "cell_type": "code",
   "execution_count": 4,
   "id": "67d52ccd",
   "metadata": {},
   "outputs": [
    {
     "name": "stdout",
     "output_type": "stream",
     "text": [
      "Bir sayı giriniz:11\n",
      "Sayı 10'dan büyük\n",
      "Programınız sona ulaştı.\n"
     ]
    }
   ],
   "source": [
    "x = int(input(\"Bir sayı giriniz:\"))\n",
    "\n",
    "if x < 10:\n",
    "    print(\"Sayı 10'dan küçük\")\n",
    "elif x == 10:\n",
    "    print(\"Sayı 10'a eşit\")\n",
    "else:\n",
    "    print(\"Sayı 10'dan büyük\")\n",
    "    \n",
    "print(\"Programınız sona ulaştı.\")"
   ]
  },
  {
   "cell_type": "code",
   "execution_count": 5,
   "id": "54c94009",
   "metadata": {},
   "outputs": [
    {
     "name": "stdout",
     "output_type": "stream",
     "text": [
      "0 ile 100 arasında bir sayı girin: 123\n",
      "Sayı 90 ile 100 arasında\n",
      "Programınız sona ulaştı\n"
     ]
    }
   ],
   "source": [
    "x = int(input(\"0 ile 100 arasında bir sayı girin: \"))\n",
    "\n",
    "if x == 100:\n",
    "    print(\"Sayı 100\")\n",
    "\n",
    "elif x >= 90:\n",
    "    print(\"Sayı 90 ile 100 arasında\")\n",
    "\n",
    "elif x >= 80:\n",
    "    print(\"Sayı 80 ile 90 arasında\")\n",
    "    \n",
    "else:\n",
    "    print(\"Sayı 80'den küçük\")\n",
    "    \n",
    "print(\"Programınız sona ulaştı\")\n"
   ]
  },
  {
   "cell_type": "markdown",
   "id": "09eb6d49",
   "metadata": {},
   "source": [
    "### Nested if\n",
    "---\n",
    "- **if, elif ve else** bloğunun içine yazdığımız kod normal koddan farklı değil, o yüzden bunların içine de ayrıca **if, elif ve else** yazabiliriz."
   ]
  },
  {
   "cell_type": "code",
   "execution_count": 6,
   "id": "04243c7d",
   "metadata": {},
   "outputs": [
    {
     "name": "stdout",
     "output_type": "stream",
     "text": [
      "Bir sayı girin: 9\n",
      "Sayı 3'e bölünüyor ama 2'ye bölünmüyor\n",
      "Programınız sona ulaştı\n"
     ]
    }
   ],
   "source": [
    "x = int(input(\"Bir sayı girin: \"))\n",
    "\n",
    "if x % 3 == 0:\n",
    "    if x % 2 == 0:\n",
    "        print(\"Sayı hem 2'ye hem de 3'e bölünüyor\")\n",
    "    else:\n",
    "        print(\"Sayı 3'e bölünüyor ama 2'ye bölünmüyor\")\n",
    "\n",
    "else:\n",
    "    \n",
    "    print(\"3'e bölünmüyor\")\n",
    "    \n",
    "print(\"Programınız sona ulaştı\")"
   ]
  },
  {
   "cell_type": "markdown",
   "id": "00afceef",
   "metadata": {},
   "source": [
    "### Test Olarak Mantıksal Operatörleri Kullanmak\n",
    "---"
   ]
  },
  {
   "cell_type": "code",
   "execution_count": 8,
   "id": "bef4de37",
   "metadata": {},
   "outputs": [
    {
     "name": "stdout",
     "output_type": "stream",
     "text": [
      "Bir sayı girin: 9\n",
      "Programınız sona ulaştı\n"
     ]
    }
   ],
   "source": [
    "x = int(input(\"Bir sayı girin: \"))\n",
    "\n",
    "if (x % 3 == 0) and (x % 2) == 0:\n",
    "    print(\"Sayı hem 2'ye hem de 3'e bölünüyor\")\n",
    "    \n",
    "print(\"Programınız sona ulaştı\")"
   ]
  },
  {
   "cell_type": "code",
   "execution_count": 9,
   "id": "f20c7c0e",
   "metadata": {},
   "outputs": [
    {
     "name": "stdout",
     "output_type": "stream",
     "text": [
      "Bir sayı girin: 11\n",
      "Programınız sona ulaştı\n"
     ]
    }
   ],
   "source": [
    "x = int(input(\"Bir sayı girin: \"))\n",
    "\n",
    "if (x % 3 == 0) or (x % 2 == 0):\n",
    "    print(\"Sayı 2 veya 3'den en az birine bölünüyor\")\n",
    "    \n",
    "print(\"Programınız sona ulaştı\")"
   ]
  }
 ],
 "metadata": {
  "kernelspec": {
   "display_name": "Python 3 (ipykernel)",
   "language": "python",
   "name": "python3"
  },
  "language_info": {
   "codemirror_mode": {
    "name": "ipython",
    "version": 3
   },
   "file_extension": ".py",
   "mimetype": "text/x-python",
   "name": "python",
   "nbconvert_exporter": "python",
   "pygments_lexer": "ipython3",
   "version": "3.9.12"
  }
 },
 "nbformat": 4,
 "nbformat_minor": 5
}
