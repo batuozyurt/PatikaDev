{
 "cells": [
  {
   "cell_type": "markdown",
   "id": "db588d18",
   "metadata": {},
   "source": [
    "# Temel Veri Tipleri\n",
    "---\n",
    "- Programlar veri objelerini (data object) manipüle ederek istediklerimizi yapabilirler.\n",
    "- Programa istediklerimizi yaptırabilmemiz için girdilerimizi ve programın içerisinde kullanılacak verileri ifade edebilmemiz lazım.\n",
    "\n",
    "- Veri objeleri ikiye ayrılır:\n",
    "    * Scalar: Daha alt parçalara bölünemeyen yapılar (sayılar gibi)\n",
    "    * Non-scalar: Daha alt parçalara bölünebilen, içsel yapısına erişilebilen (sayıları ard arda koyduğumuz bir yapı buna bir örnek olabilir.)\n",
    "\n",
    "- Her objenin bir veri tipi vardır. Program bu veri tiplerine göre onlarla nasıl işlem yapabileceğine karar verir. Mesela iki sayıyı toplamak; iki sayıyı birleştirmek."
   ]
  },
  {
   "cell_type": "markdown",
   "id": "5bd76178",
   "metadata": {},
   "source": [
    "### integers (tam sayılar)\n",
    "---"
   ]
  },
  {
   "cell_type": "code",
   "execution_count": 1,
   "id": "60d4cc86",
   "metadata": {},
   "outputs": [
    {
     "data": {
      "text/plain": [
       "3"
      ]
     },
     "execution_count": 1,
     "metadata": {},
     "output_type": "execute_result"
    }
   ],
   "source": [
    "3"
   ]
  },
  {
   "cell_type": "code",
   "execution_count": 3,
   "id": "99a6ca1f",
   "metadata": {},
   "outputs": [
    {
     "data": {
      "text/plain": [
       "int"
      ]
     },
     "execution_count": 3,
     "metadata": {},
     "output_type": "execute_result"
    }
   ],
   "source": [
    "a = 3\n",
    "type(a)"
   ]
  },
  {
   "cell_type": "markdown",
   "id": "f574e682",
   "metadata": {},
   "source": [
    "### floats (kesirli sayılar)\n",
    "---"
   ]
  },
  {
   "cell_type": "code",
   "execution_count": 4,
   "id": "a771e1d2",
   "metadata": {},
   "outputs": [
    {
     "data": {
      "text/plain": [
       "2.5"
      ]
     },
     "execution_count": 4,
     "metadata": {},
     "output_type": "execute_result"
    }
   ],
   "source": [
    "2.5"
   ]
  },
  {
   "cell_type": "code",
   "execution_count": 5,
   "id": "96e342a8",
   "metadata": {},
   "outputs": [
    {
     "data": {
      "text/plain": [
       "float"
      ]
     },
     "execution_count": 5,
     "metadata": {},
     "output_type": "execute_result"
    }
   ],
   "source": [
    "b = 3.5\n",
    "type(b)"
   ]
  },
  {
   "cell_type": "markdown",
   "id": "52963d95",
   "metadata": {},
   "source": [
    "### boolean\n",
    "---\n",
    "- Bir önermenin doğru (True) yada yanlış (False) olduğunu gösterir."
   ]
  },
  {
   "cell_type": "code",
   "execution_count": 6,
   "id": "f8ae7111",
   "metadata": {},
   "outputs": [
    {
     "data": {
      "text/plain": [
       "True"
      ]
     },
     "execution_count": 6,
     "metadata": {},
     "output_type": "execute_result"
    }
   ],
   "source": [
    "True"
   ]
  },
  {
   "cell_type": "code",
   "execution_count": 8,
   "id": "d975b0d1",
   "metadata": {},
   "outputs": [
    {
     "data": {
      "text/plain": [
       "False"
      ]
     },
     "execution_count": 8,
     "metadata": {},
     "output_type": "execute_result"
    }
   ],
   "source": [
    "False"
   ]
  },
  {
   "cell_type": "code",
   "execution_count": 7,
   "id": "023bbd82",
   "metadata": {},
   "outputs": [
    {
     "data": {
      "text/plain": [
       "bool"
      ]
     },
     "execution_count": 7,
     "metadata": {},
     "output_type": "execute_result"
    }
   ],
   "source": [
    "type(True)"
   ]
  },
  {
   "cell_type": "markdown",
   "id": "2ce97316",
   "metadata": {},
   "source": [
    "### type casting (tip dönüştürmesi)\n",
    "---"
   ]
  },
  {
   "cell_type": "code",
   "execution_count": 9,
   "id": "6d0d9128",
   "metadata": {},
   "outputs": [
    {
     "data": {
      "text/plain": [
       "float"
      ]
     },
     "execution_count": 9,
     "metadata": {},
     "output_type": "execute_result"
    }
   ],
   "source": [
    "c = 2.4\n",
    "type(c)"
   ]
  },
  {
   "cell_type": "code",
   "execution_count": 10,
   "id": "4f2ee0c0",
   "metadata": {},
   "outputs": [
    {
     "data": {
      "text/plain": [
       "2"
      ]
     },
     "execution_count": 10,
     "metadata": {},
     "output_type": "execute_result"
    }
   ],
   "source": [
    "int(c)"
   ]
  },
  {
   "cell_type": "code",
   "execution_count": 11,
   "id": "f363a25b",
   "metadata": {},
   "outputs": [
    {
     "data": {
      "text/plain": [
       "3"
      ]
     },
     "execution_count": 11,
     "metadata": {},
     "output_type": "execute_result"
    }
   ],
   "source": [
    "# sayılar yuvarlanmaz, sadece tam olan kısmı alır ve yazdırır.\n",
    "int(3.9)"
   ]
  }
 ],
 "metadata": {
  "kernelspec": {
   "display_name": "Python 3 (ipykernel)",
   "language": "python",
   "name": "python3"
  },
  "language_info": {
   "codemirror_mode": {
    "name": "ipython",
    "version": 3
   },
   "file_extension": ".py",
   "mimetype": "text/x-python",
   "name": "python",
   "nbconvert_exporter": "python",
   "pygments_lexer": "ipython3",
   "version": "3.9.12"
  }
 },
 "nbformat": 4,
 "nbformat_minor": 5
}
