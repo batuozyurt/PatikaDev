{
 "cells": [
  {
   "cell_type": "markdown",
   "id": "772d6367",
   "metadata": {},
   "source": [
    "# Experiment with Numeric Data Types\n",
    "---\n",
    "-  Bir programın farklı durumlar olduğunda başka davranışlar göstermesini isteyebiliriz. Bunun için belirli testler yapmamız lazım ve bu testler sonucuca göre farklı davranışlar tasarlamamız lazım.\n",
    "\n",
    "- Bu testler için verilerimizi birbirleri ile karşılaştırabilir olmamız lazım. Bunları Comparison Operator'lar (karşılaştırma operatörleri) ile yapacağız. Cevabın True veya False olmasına göre, farklı durumlarda farklı davranacak program tasarlayabiliriz. Bu karşılaştırmalar o programların temelini oluşturacak.\n",
    "\n",
    "- Nümerik veri tiplerinde karşılaştırma deyince aklımıza bir kaç şey gelebilir:\n",
    "    - **i == j** eşitlik testi (equality test). i ve j birbirlerine eşitse bu ifadenin değeri **boolean** veri objesi **True**, eşit değilse **False** olacak. **=** değişken atama operatörü olarak tanımlandığı için eşitlik test ederken onu kullanırsak **=**'in sağındaki değere solundaki adı vermiş oluruz.\n",
    "    - **i != j** eşitsizlik testi (inequality test). i ve j birbirlerine eşit değilse bu ifadenin değeri **boolean** veri objesi **True**, eşitse **False** olacak.\n",
    "    - **i > j** i, j'den büyükse bu ifadenin değeri **boolean** veri objesi **True**, eşit veya az ise **False** olacak.\n",
    "    - **i>=j** i, j'den büyükse veya eşitse bu ifadenin değeri **boolean** veri objesi **True**, az ise **False** olacak.\n",
    "    - **i < j** i, j'den küçükse bu ifadenin değeri **boolean** veri objesi **True**, eşit veya büyük ise **False** olacak.\n",
    "    - **i <= j** i, j'den küçükse veya eşitse bu ifadenin değeri **boolean** veri objesi **True**, büyük ise **False** olacak."
   ]
  },
  {
   "cell_type": "markdown",
   "id": "439c9dd3",
   "metadata": {},
   "source": [
    "### == operator\n",
    "---"
   ]
  },
  {
   "cell_type": "code",
   "execution_count": 1,
   "id": "06472caa",
   "metadata": {},
   "outputs": [
    {
     "data": {
      "text/plain": [
       "False"
      ]
     },
     "execution_count": 1,
     "metadata": {},
     "output_type": "execute_result"
    }
   ],
   "source": [
    "5 == 4"
   ]
  },
  {
   "cell_type": "code",
   "execution_count": 2,
   "id": "8600f431",
   "metadata": {},
   "outputs": [
    {
     "data": {
      "text/plain": [
       "True"
      ]
     },
     "execution_count": 2,
     "metadata": {},
     "output_type": "execute_result"
    }
   ],
   "source": [
    "5 == 5"
   ]
  },
  {
   "cell_type": "code",
   "execution_count": 3,
   "id": "8b63c0a0",
   "metadata": {},
   "outputs": [],
   "source": [
    "i = 10\n",
    "j = 20"
   ]
  },
  {
   "cell_type": "code",
   "execution_count": 4,
   "id": "68cac782",
   "metadata": {},
   "outputs": [
    {
     "data": {
      "text/plain": [
       "False"
      ]
     },
     "execution_count": 4,
     "metadata": {},
     "output_type": "execute_result"
    }
   ],
   "source": [
    "i == j"
   ]
  },
  {
   "cell_type": "markdown",
   "id": "9f213a95",
   "metadata": {},
   "source": [
    "- Float veri tipleri için eşitlik karşılaştırması yaparken == kullanılması çok mantıklı değil."
   ]
  },
  {
   "cell_type": "code",
   "execution_count": 5,
   "id": "cfe98d83",
   "metadata": {},
   "outputs": [
    {
     "data": {
      "text/plain": [
       "False"
      ]
     },
     "execution_count": 5,
     "metadata": {},
     "output_type": "execute_result"
    }
   ],
   "source": [
    "5.3 == 5.4"
   ]
  },
  {
   "cell_type": "code",
   "execution_count": 6,
   "id": "7b563372",
   "metadata": {},
   "outputs": [
    {
     "data": {
      "text/plain": [
       "True"
      ]
     },
     "execution_count": 6,
     "metadata": {},
     "output_type": "execute_result"
    }
   ],
   "source": [
    "5.4 == 5.4"
   ]
  },
  {
   "cell_type": "code",
   "execution_count": 7,
   "id": "980afbba",
   "metadata": {},
   "outputs": [
    {
     "data": {
      "text/plain": [
       "False"
      ]
     },
     "execution_count": 7,
     "metadata": {},
     "output_type": "execute_result"
    }
   ],
   "source": [
    "x = (0.3 * 3) + 0.1\n",
    "y = 1.0\n",
    "x == y"
   ]
  },
  {
   "cell_type": "markdown",
   "id": "0b318927",
   "metadata": {},
   "source": [
    "### != operator\n",
    "---"
   ]
  },
  {
   "cell_type": "code",
   "execution_count": 8,
   "id": "2ec131f0",
   "metadata": {},
   "outputs": [
    {
     "data": {
      "text/plain": [
       "True"
      ]
     },
     "execution_count": 8,
     "metadata": {},
     "output_type": "execute_result"
    }
   ],
   "source": [
    "5 != 4"
   ]
  },
  {
   "cell_type": "code",
   "execution_count": 9,
   "id": "87e67596",
   "metadata": {},
   "outputs": [
    {
     "data": {
      "text/plain": [
       "False"
      ]
     },
     "execution_count": 9,
     "metadata": {},
     "output_type": "execute_result"
    }
   ],
   "source": [
    "5 != 5"
   ]
  },
  {
   "cell_type": "code",
   "execution_count": 10,
   "id": "454193fa",
   "metadata": {},
   "outputs": [],
   "source": [
    "i = 10\n",
    "j = 20"
   ]
  },
  {
   "cell_type": "code",
   "execution_count": 11,
   "id": "a2509d08",
   "metadata": {},
   "outputs": [
    {
     "data": {
      "text/plain": [
       "True"
      ]
     },
     "execution_count": 11,
     "metadata": {},
     "output_type": "execute_result"
    }
   ],
   "source": [
    "i != j"
   ]
  },
  {
   "cell_type": "markdown",
   "id": "72ae20b3",
   "metadata": {},
   "source": [
    "### > operator\n",
    "---"
   ]
  },
  {
   "cell_type": "code",
   "execution_count": 12,
   "id": "88ef52cd",
   "metadata": {},
   "outputs": [
    {
     "data": {
      "text/plain": [
       "True"
      ]
     },
     "execution_count": 12,
     "metadata": {},
     "output_type": "execute_result"
    }
   ],
   "source": [
    "5 > 4"
   ]
  },
  {
   "cell_type": "code",
   "execution_count": 13,
   "id": "e8260101",
   "metadata": {},
   "outputs": [
    {
     "data": {
      "text/plain": [
       "False"
      ]
     },
     "execution_count": 13,
     "metadata": {},
     "output_type": "execute_result"
    }
   ],
   "source": [
    "5 > 5"
   ]
  },
  {
   "cell_type": "code",
   "execution_count": 14,
   "id": "cf397dcb",
   "metadata": {},
   "outputs": [],
   "source": [
    "i = 10\n",
    "j = 20"
   ]
  },
  {
   "cell_type": "code",
   "execution_count": 15,
   "id": "5d0300a3",
   "metadata": {},
   "outputs": [
    {
     "data": {
      "text/plain": [
       "False"
      ]
     },
     "execution_count": 15,
     "metadata": {},
     "output_type": "execute_result"
    }
   ],
   "source": [
    "i > j"
   ]
  },
  {
   "cell_type": "code",
   "execution_count": 16,
   "id": "658d947b",
   "metadata": {},
   "outputs": [
    {
     "data": {
      "text/plain": [
       "False"
      ]
     },
     "execution_count": 16,
     "metadata": {},
     "output_type": "execute_result"
    }
   ],
   "source": [
    "5.3 > 5.4 "
   ]
  },
  {
   "cell_type": "code",
   "execution_count": 17,
   "id": "5bfa801e",
   "metadata": {},
   "outputs": [
    {
     "data": {
      "text/plain": [
       "True"
      ]
     },
     "execution_count": 17,
     "metadata": {},
     "output_type": "execute_result"
    }
   ],
   "source": [
    "5.4 > 5.3"
   ]
  },
  {
   "cell_type": "markdown",
   "id": "e857b52a",
   "metadata": {},
   "source": [
    "### >= operator\n",
    "---"
   ]
  },
  {
   "cell_type": "code",
   "execution_count": 18,
   "id": "1201a489",
   "metadata": {},
   "outputs": [
    {
     "data": {
      "text/plain": [
       "True"
      ]
     },
     "execution_count": 18,
     "metadata": {},
     "output_type": "execute_result"
    }
   ],
   "source": [
    "5 >= 4"
   ]
  },
  {
   "cell_type": "code",
   "execution_count": 19,
   "id": "b47f411e",
   "metadata": {},
   "outputs": [
    {
     "data": {
      "text/plain": [
       "True"
      ]
     },
     "execution_count": 19,
     "metadata": {},
     "output_type": "execute_result"
    }
   ],
   "source": [
    "5 >= 5"
   ]
  },
  {
   "cell_type": "code",
   "execution_count": 20,
   "id": "227d2b91",
   "metadata": {},
   "outputs": [
    {
     "data": {
      "text/plain": [
       "False"
      ]
     },
     "execution_count": 20,
     "metadata": {},
     "output_type": "execute_result"
    }
   ],
   "source": [
    "5 >= 7"
   ]
  },
  {
   "cell_type": "markdown",
   "id": "53ed15f2",
   "metadata": {},
   "source": [
    "### < operator\n",
    "---"
   ]
  },
  {
   "cell_type": "code",
   "execution_count": 21,
   "id": "de91bef4",
   "metadata": {},
   "outputs": [
    {
     "data": {
      "text/plain": [
       "False"
      ]
     },
     "execution_count": 21,
     "metadata": {},
     "output_type": "execute_result"
    }
   ],
   "source": [
    "5 < 4"
   ]
  },
  {
   "cell_type": "code",
   "execution_count": 22,
   "id": "a922cb54",
   "metadata": {},
   "outputs": [
    {
     "data": {
      "text/plain": [
       "True"
      ]
     },
     "execution_count": 22,
     "metadata": {},
     "output_type": "execute_result"
    }
   ],
   "source": [
    "4 < 5"
   ]
  },
  {
   "cell_type": "markdown",
   "id": "0eee17f5",
   "metadata": {},
   "source": [
    "### <= operator\n",
    "---"
   ]
  },
  {
   "cell_type": "code",
   "execution_count": 23,
   "id": "fd768dee",
   "metadata": {},
   "outputs": [
    {
     "data": {
      "text/plain": [
       "False"
      ]
     },
     "execution_count": 23,
     "metadata": {},
     "output_type": "execute_result"
    }
   ],
   "source": [
    "5 <= 4"
   ]
  },
  {
   "cell_type": "code",
   "execution_count": 24,
   "id": "9fb795ae",
   "metadata": {},
   "outputs": [
    {
     "data": {
      "text/plain": [
       "True"
      ]
     },
     "execution_count": 24,
     "metadata": {},
     "output_type": "execute_result"
    }
   ],
   "source": [
    "5 <= 5"
   ]
  },
  {
   "cell_type": "code",
   "execution_count": 25,
   "id": "ef43ede0",
   "metadata": {},
   "outputs": [],
   "source": [
    "i = 10\n",
    "j = 20"
   ]
  },
  {
   "cell_type": "code",
   "execution_count": 26,
   "id": "33ef627e",
   "metadata": {},
   "outputs": [
    {
     "data": {
      "text/plain": [
       "True"
      ]
     },
     "execution_count": 26,
     "metadata": {},
     "output_type": "execute_result"
    }
   ],
   "source": [
    "i <= j"
   ]
  },
  {
   "cell_type": "markdown",
   "id": "2b87e053",
   "metadata": {},
   "source": [
    "## Stringlerde Karşılaştırma\n",
    "---"
   ]
  },
  {
   "cell_type": "code",
   "execution_count": 1,
   "id": "f15af3a3",
   "metadata": {},
   "outputs": [
    {
     "data": {
      "text/plain": [
       "False"
      ]
     },
     "execution_count": 1,
     "metadata": {},
     "output_type": "execute_result"
    }
   ],
   "source": [
    "\"Elma\" == \"elma\""
   ]
  },
  {
   "cell_type": "code",
   "execution_count": 2,
   "id": "22ea105a",
   "metadata": {},
   "outputs": [
    {
     "data": {
      "text/plain": [
       "True"
      ]
     },
     "execution_count": 2,
     "metadata": {},
     "output_type": "execute_result"
    }
   ],
   "source": [
    "\"Elma\" != \"elma\""
   ]
  },
  {
   "cell_type": "code",
   "execution_count": 3,
   "id": "f5157b1a",
   "metadata": {},
   "outputs": [
    {
     "data": {
      "text/plain": [
       "True"
      ]
     },
     "execution_count": 3,
     "metadata": {},
     "output_type": "execute_result"
    }
   ],
   "source": [
    "\"elma\" == \"elma\""
   ]
  },
  {
   "cell_type": "code",
   "execution_count": 4,
   "id": "af44968c",
   "metadata": {},
   "outputs": [],
   "source": [
    "a = \"elma\""
   ]
  },
  {
   "cell_type": "code",
   "execution_count": 5,
   "id": "c94a14a4",
   "metadata": {},
   "outputs": [],
   "source": [
    "b = \"elma\""
   ]
  },
  {
   "cell_type": "code",
   "execution_count": 6,
   "id": "f45c324f",
   "metadata": {},
   "outputs": [
    {
     "data": {
      "text/plain": [
       "True"
      ]
     },
     "execution_count": 6,
     "metadata": {},
     "output_type": "execute_result"
    }
   ],
   "source": [
    "a == b"
   ]
  },
  {
   "cell_type": "code",
   "execution_count": 7,
   "id": "64720e15",
   "metadata": {},
   "outputs": [
    {
     "data": {
      "text/plain": [
       "True"
      ]
     },
     "execution_count": 7,
     "metadata": {},
     "output_type": "execute_result"
    }
   ],
   "source": [
    "\"a\" < \"b\""
   ]
  },
  {
   "cell_type": "code",
   "execution_count": 8,
   "id": "e9514dd2",
   "metadata": {},
   "outputs": [
    {
     "data": {
      "text/plain": [
       "True"
      ]
     },
     "execution_count": 8,
     "metadata": {},
     "output_type": "execute_result"
    }
   ],
   "source": [
    "\"ab\" < \"b\""
   ]
  },
  {
   "cell_type": "code",
   "execution_count": 9,
   "id": "d95f9338",
   "metadata": {},
   "outputs": [
    {
     "data": {
      "text/plain": [
       "True"
      ]
     },
     "execution_count": 9,
     "metadata": {},
     "output_type": "execute_result"
    }
   ],
   "source": [
    "\"ab\" < \"badsfadsf\""
   ]
  },
  {
   "cell_type": "code",
   "execution_count": 10,
   "id": "944abf4a",
   "metadata": {},
   "outputs": [
    {
     "data": {
      "text/plain": [
       "True"
      ]
     },
     "execution_count": 10,
     "metadata": {},
     "output_type": "execute_result"
    }
   ],
   "source": [
    "\"ab\" < \"ac\""
   ]
  },
  {
   "cell_type": "code",
   "execution_count": 11,
   "id": "a8f84180",
   "metadata": {},
   "outputs": [
    {
     "data": {
      "text/plain": [
       "False"
      ]
     },
     "execution_count": 11,
     "metadata": {},
     "output_type": "execute_result"
    }
   ],
   "source": [
    "\"abc\" < \"abb\""
   ]
  }
 ],
 "metadata": {
  "kernelspec": {
   "display_name": "Python 3 (ipykernel)",
   "language": "python",
   "name": "python3"
  },
  "language_info": {
   "codemirror_mode": {
    "name": "ipython",
    "version": 3
   },
   "file_extension": ".py",
   "mimetype": "text/x-python",
   "name": "python",
   "nbconvert_exporter": "python",
   "pygments_lexer": "ipython3",
   "version": "3.9.12"
  }
 },
 "nbformat": 4,
 "nbformat_minor": 5
}
