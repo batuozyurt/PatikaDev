{
 "cells": [
  {
   "cell_type": "markdown",
   "id": "89f9672f",
   "metadata": {},
   "source": [
    "# Functions (Fonksiyonlar)\n",
    "---\n",
    "- Çok kod yazmak her zaman iyi bir şey değildir.\n",
    "- Minimal ve okunabilir olması daha önemli.\n",
    "- Gereksiz kod tekrarından kaçınmak gerekir. (DRY; dont repeat ur self)\n",
    "- Belirli fonksiyonalite katan kod bloklarını belirli bir yapı altında tutup, o işleme ihtiyaç duyduğum zaman tekrar tekrar kullanabilirim. Bu yapıyı **fonksiyon**lar olarak isimlendiriyoruz.\n",
    "- Fonksiyonlar kodumuzda abstraction (soyutlama) ve decomposition (problemi küçük parçalara ayırma) (modülerlik) yapmamızı sağlar. \n",
    "---\n",
    "\n",
    "\n",
    "#### Abstraction Nedir?\n",
    "- Bir araba düşünün:\n",
    "    - Araba bizi istediğimiz bir yere götüren bir araçtır.\n",
    "    - Arabanın hareketini sağlayan arka planda çokça mekanizma vardır.\n",
    "    - Motor, yanma etc.\n",
    "    - Ama aracı kullanırken bunları hiç düşünmüyoruz, sürmemiz için gerekli olan sadece pedallara basmak ve direksiyonu çevirmek.\n",
    "- Abstraction temel mantığı ayrıntılardansa bütünü düşünmek. Arabayı kullanmak için, arabanın nasıl çalıştığı ayrıntısını bilmeme gerek yok. Tek bilmem gereken direksiyon ve pedaller ile nasıl kontrol edebileceğim.\n",
    "\n",
    "\n",
    "- Bu mantık yanlış anlaşılmasın. Bu \"kodun bazı kısımlarını yazmakla ilgilenmeyeceğiz.\" anlamına gelmiyor. İstediğimiz komutlar bütününü bir fonksiyon altında toplayıp (bu örnekte tüm o ateşleme, motorun çalışmasını **pedal** fonksiyonu altına topladığımızı düşünelim.), artık o eylemi yapmak istediğim zaman sadece o fonksiyonu çağırıyorum ve bu fonksiyonun yaptığını kullanarak daha komplike davranışlar tanımlayabiliyorum. Buradaki en önemli nokta, üst üste koyarak inşa ettiğim yapıda yazdığım fonksiyonların ayrıntılarındansa ne yaptıklarını bilip ona göre üzerlerine, onları yapının bir parçası olarak görerek mantık kurmak.\n",
    "\n",
    "\n",
    "- Özet olarak: Fonksiyonun o işi nasıl yaptığıyla ne yaptığını ayırmak ve ne yaptığına odaklanıp onun üzerine mantık kurmak.\n",
    "---\n",
    "\n",
    "#### Decomposition Nedir?\n",
    "- Elimdeki problemi kendi içerisinde anlamlı, daha küçük problemlere bölmektir. Arabanın çalışması arka planda bir çok mekanizmayla gerçekleşir. Motorun ateşlenmesi, havanın motora alınması, yakıtın aktarılması etc. Bunların hepsi aslında ayrı ayrı fonksiyonlar olarak düşünebiliriz. Problemi (arabanın hareket etmesi) alt birimlere ayırıp, tanımlayıp, çözüyoruz. Birden çok alt yapı bir arada çalışıp daha büyük bir sistem oluşturuyor. \n",
    "    - Kodumuzun farklı yerlerinde kullanılabilecek, beraber bir mantık oluşturacak kodlarımı fonksiyon tanımlayıp içine yazacağım.\n",
    "    - Fonksiyonların adı, parametreleri(0 veya daha fazla), açıklaması(opsiyoneli ama iyi bir pratik), ve kodları bulunur.\n",
    "    - Sadece adlarını yazınca çağrılmazlar. **()** ile çağırmamız lazım (**function call** veya **function invocation** olarak geçer.)\n",
    "\n",
    "\n",
    "#### function return\n",
    "---\n",
    "- Bir fonksiyonu çalıştırdığımda onun sonucuyla bir işlem yapmak isteyebilirim. Sonucu bana versin diye özellikle söylemem lazım ve bunu **return** keyword (anahtar kelime) ile sağlayacağız.\n",
    "- **return** yazmasaydık fonksiyon hiç bir şey döndürmezdi.\n",
    "- fonksiyon yazdığımı Python'a anlatmak için:\n",
    "    - **def fonksiyonun_adı(input):**\n",
    "- öbür yapılarda da olduğu gibi, bir kod bloğunun belirttiğimiz yapıya ait olduğunu anlatmak için boşluk bırakarak içine yazmamız gerekiyor. \n",
    "- şimdi verdiğimiz değerin karesini alan bir fonksiyon yazalım."
   ]
  },
  {
   "cell_type": "code",
   "execution_count": 7,
   "id": "80e5103d",
   "metadata": {},
   "outputs": [],
   "source": [
    "def square(x):\n",
    "    x*x"
   ]
  },
  {
   "cell_type": "markdown",
   "id": "5fed5d8b",
   "metadata": {},
   "source": [
    "- Fonksiyonu tanımladıktan sonra tanımladığımız isim ile onu çağırabiliriz. Yapımız şöyle olacak; **fonksiyonun_adi(input)**, bir fonksiyon çağırmak için inputları **()** içine yazmalıyız. Bazı durumlarda hiç input olmayabilir, bazı durumlarda birden çok olabilir. "
   ]
  },
  {
   "cell_type": "code",
   "execution_count": 8,
   "id": "b0fc9b87",
   "metadata": {},
   "outputs": [],
   "source": [
    "a = square(3)"
   ]
  },
  {
   "cell_type": "code",
   "execution_count": 9,
   "id": "64591eac",
   "metadata": {},
   "outputs": [
    {
     "name": "stdout",
     "output_type": "stream",
     "text": [
      "None\n"
     ]
    }
   ],
   "source": [
    "print(a)"
   ]
  },
  {
   "cell_type": "markdown",
   "id": "46d5bf9e",
   "metadata": {},
   "source": [
    "- bize **x*x** i değer olarak vermedi. Vermesi için bana o değeri döndür diye özellikle söylemem lazım. Bunu **return** ile sağlıyoruz."
   ]
  },
  {
   "cell_type": "code",
   "execution_count": 12,
   "id": "6f642b30",
   "metadata": {},
   "outputs": [
    {
     "data": {
      "text/plain": [
       "4"
      ]
     },
     "execution_count": 12,
     "metadata": {},
     "output_type": "execute_result"
    }
   ],
   "source": [
    "def square(x):\n",
    "    return x * x\n",
    "\n",
    "a = square(2)\n",
    "a"
   ]
  },
  {
   "cell_type": "markdown",
   "id": "710b36cf",
   "metadata": {},
   "source": [
    "- Bu döndürülen değerin int 4 'ten bir farkı yok, nereden nasıl geldiği önemli değil, a = 4 dediğimdeki 4 ile aynı. Bu değerle istediğimi yapabilirim."
   ]
  },
  {
   "cell_type": "code",
   "execution_count": 13,
   "id": "fe0e184c",
   "metadata": {},
   "outputs": [
    {
     "data": {
      "text/plain": [
       "5"
      ]
     },
     "execution_count": 13,
     "metadata": {},
     "output_type": "execute_result"
    }
   ],
   "source": [
    "1 + square(2)"
   ]
  },
  {
   "cell_type": "markdown",
   "id": "3e0c1bc6",
   "metadata": {},
   "source": [
    "- Bilgisayar için o da sadece bir değerdi. Aşağıdaki örnekte de square(3) bize 9 döndürüyor, bilgisayar için aşağıdaki kod, square(9) ile aynıdır."
   ]
  },
  {
   "cell_type": "code",
   "execution_count": 14,
   "id": "ef397c42",
   "metadata": {},
   "outputs": [
    {
     "data": {
      "text/plain": [
       "81"
      ]
     },
     "execution_count": 14,
     "metadata": {},
     "output_type": "execute_result"
    }
   ],
   "source": [
    "square(square(3))"
   ]
  },
  {
   "cell_type": "markdown",
   "id": "765b6050",
   "metadata": {},
   "source": [
    "- hiç bir inputu olmaya da bilirdi."
   ]
  },
  {
   "cell_type": "code",
   "execution_count": 15,
   "id": "09831ff6",
   "metadata": {},
   "outputs": [],
   "source": [
    "def weird():\n",
    "    return 5"
   ]
  },
  {
   "cell_type": "code",
   "execution_count": 16,
   "id": "5eb1ef1a",
   "metadata": {},
   "outputs": [
    {
     "data": {
      "text/plain": [
       "5"
      ]
     },
     "execution_count": 16,
     "metadata": {},
     "output_type": "execute_result"
    }
   ],
   "source": [
    "weird()"
   ]
  },
  {
   "cell_type": "markdown",
   "id": "8cfce5ad",
   "metadata": {},
   "source": [
    "- Fonksiyonlar **return**'e geldikten sonrasına bakmıyor, **return**'ün sağına yazılan değeri veriyor ve fonksiyondan çıkıyor."
   ]
  },
  {
   "cell_type": "code",
   "execution_count": 19,
   "id": "82deb64a",
   "metadata": {},
   "outputs": [],
   "source": [
    "def square(x):\n",
    "    res = x * x \n",
    "    return res \n",
    "    \n",
    "    print(\"Square of \" + str(x) + \": \" + str(res)) # Bu yüzden burada bastırma kısmını yapmadı çünkü o kod return 'ün altında yer alıyor."
   ]
  },
  {
   "cell_type": "code",
   "execution_count": 18,
   "id": "45dac018",
   "metadata": {},
   "outputs": [
    {
     "data": {
      "text/plain": [
       "9"
      ]
     },
     "execution_count": 18,
     "metadata": {},
     "output_type": "execute_result"
    }
   ],
   "source": [
    "square(3)"
   ]
  },
  {
   "cell_type": "markdown",
   "id": "a391c7e5",
   "metadata": {},
   "source": [
    "- Bu yüzden burada bastırma kısmını yapmadı çünkü o kod **return** 'ün altında yer alıyor."
   ]
  },
  {
   "cell_type": "code",
   "execution_count": 20,
   "id": "17e38367",
   "metadata": {},
   "outputs": [],
   "source": [
    "def square(x):\n",
    "    res = x * x\n",
    "    print(\"Square of \" + str(x) + \": \" + str(res))\n",
    "    return res"
   ]
  },
  {
   "cell_type": "code",
   "execution_count": 21,
   "id": "f1d10470",
   "metadata": {},
   "outputs": [
    {
     "name": "stdout",
     "output_type": "stream",
     "text": [
      "Square of 4: 16\n"
     ]
    },
    {
     "data": {
      "text/plain": [
       "16"
      ]
     },
     "execution_count": 21,
     "metadata": {},
     "output_type": "execute_result"
    }
   ],
   "source": [
    "square(4)"
   ]
  },
  {
   "cell_type": "markdown",
   "id": "d4317ce2",
   "metadata": {},
   "source": [
    "- Fonksiyona durumsallık da katabiliriz."
   ]
  },
  {
   "cell_type": "code",
   "execution_count": 24,
   "id": "aa244b4c",
   "metadata": {},
   "outputs": [],
   "source": [
    "def f(x):\n",
    "    res = x * x\n",
    "    \n",
    "    if x % 2 == 0:\n",
    "        return res\n",
    "    else:\n",
    "        return res + 10"
   ]
  },
  {
   "cell_type": "code",
   "execution_count": 23,
   "id": "77ccc5f1",
   "metadata": {},
   "outputs": [
    {
     "data": {
      "text/plain": [
       "100"
      ]
     },
     "execution_count": 23,
     "metadata": {},
     "output_type": "execute_result"
    }
   ],
   "source": [
    "f(10)"
   ]
  },
  {
   "cell_type": "markdown",
   "id": "49b24fa8",
   "metadata": {},
   "source": [
    "- Fonksiyonların içinde döngü mantığı da olabilir."
   ]
  },
  {
   "cell_type": "code",
   "execution_count": 27,
   "id": "e4cc5fc8",
   "metadata": {},
   "outputs": [],
   "source": [
    "def f(x):\n",
    "    res = x * x \n",
    "    \n",
    "    for i in range(10):\n",
    "        res += 20 \n",
    "    return res"
   ]
  },
  {
   "cell_type": "code",
   "execution_count": 28,
   "id": "b9fe91c5",
   "metadata": {},
   "outputs": [
    {
     "data": {
      "text/plain": [
       "300"
      ]
     },
     "execution_count": 28,
     "metadata": {},
     "output_type": "execute_result"
    }
   ],
   "source": [
    "f(10)"
   ]
  },
  {
   "cell_type": "code",
   "execution_count": 35,
   "id": "911b783c",
   "metadata": {},
   "outputs": [],
   "source": [
    "def f(x):\n",
    "    \n",
    "    l = []\n",
    "    res = x * x\n",
    "    for i in range(10):\n",
    "        res += 20\n",
    "        l.append(res)\n",
    "    return l"
   ]
  },
  {
   "cell_type": "code",
   "execution_count": 36,
   "id": "d440d719",
   "metadata": {},
   "outputs": [
    {
     "data": {
      "text/plain": [
       "[120, 140, 160, 180, 200, 220, 240, 260, 280, 300]"
      ]
     },
     "execution_count": 36,
     "metadata": {},
     "output_type": "execute_result"
    }
   ],
   "source": [
    "f(10)"
   ]
  },
  {
   "cell_type": "markdown",
   "id": "41feae7d",
   "metadata": {},
   "source": [
    "### Void Fonksiyonlar (Değer Döndürmeyen Fonksiyonlar)\n",
    "---"
   ]
  },
  {
   "cell_type": "code",
   "execution_count": 37,
   "id": "717f3640",
   "metadata": {},
   "outputs": [],
   "source": [
    "def f(x):\n",
    "    x = 2"
   ]
  },
  {
   "cell_type": "code",
   "execution_count": 38,
   "id": "e6f95966",
   "metadata": {},
   "outputs": [],
   "source": [
    "f(2)"
   ]
  },
  {
   "cell_type": "code",
   "execution_count": 39,
   "id": "82e2b0f2",
   "metadata": {},
   "outputs": [
    {
     "ename": "TypeError",
     "evalue": "unsupported operand type(s) for +: 'NoneType' and 'int'",
     "output_type": "error",
     "traceback": [
      "\u001b[0;31m---------------------------------------------------------------------------\u001b[0m",
      "\u001b[0;31mTypeError\u001b[0m                                 Traceback (most recent call last)",
      "Input \u001b[0;32mIn [39]\u001b[0m, in \u001b[0;36m<cell line: 1>\u001b[0;34m()\u001b[0m\n\u001b[0;32m----> 1\u001b[0m \u001b[43mf\u001b[49m\u001b[43m(\u001b[49m\u001b[38;5;241;43m10\u001b[39;49m\u001b[43m)\u001b[49m\u001b[43m \u001b[49m\u001b[38;5;241;43m+\u001b[39;49m\u001b[43m \u001b[49m\u001b[38;5;241;43m4\u001b[39;49m\n",
      "\u001b[0;31mTypeError\u001b[0m: unsupported operand type(s) for +: 'NoneType' and 'int'"
     ]
    }
   ],
   "source": [
    "f(10) + 4"
   ]
  },
  {
   "cell_type": "code",
   "execution_count": 40,
   "id": "ff5a0703",
   "metadata": {},
   "outputs": [
    {
     "name": "stdout",
     "output_type": "stream",
     "text": [
      "None\n"
     ]
    }
   ],
   "source": [
    "print(f(3))"
   ]
  },
  {
   "cell_type": "code",
   "execution_count": 41,
   "id": "01a0fe8b",
   "metadata": {},
   "outputs": [
    {
     "data": {
      "text/plain": [
       "NoneType"
      ]
     },
     "execution_count": 41,
     "metadata": {},
     "output_type": "execute_result"
    }
   ],
   "source": [
    "type(f(3))"
   ]
  },
  {
   "cell_type": "code",
   "execution_count": 42,
   "id": "a18e43b7",
   "metadata": {},
   "outputs": [],
   "source": [
    "# Bu kod x in karesini değer olarak bize vermiyor, sadece ekrana bastıracak\n",
    "def square(x):\n",
    "    \n",
    "    print(x,\"in/ün/un karesi:\", x*x)"
   ]
  },
  {
   "cell_type": "code",
   "execution_count": 43,
   "id": "ce3e44b2",
   "metadata": {},
   "outputs": [
    {
     "name": "stdout",
     "output_type": "stream",
     "text": [
      "3 in/ün/un karesi: 9\n"
     ]
    }
   ],
   "source": [
    "square(3)"
   ]
  },
  {
   "cell_type": "code",
   "execution_count": 44,
   "id": "99c1a049",
   "metadata": {},
   "outputs": [
    {
     "name": "stdout",
     "output_type": "stream",
     "text": [
      "4 in/ün/un karesi: 16\n"
     ]
    },
    {
     "data": {
      "text/plain": [
       "NoneType"
      ]
     },
     "execution_count": 44,
     "metadata": {},
     "output_type": "execute_result"
    }
   ],
   "source": [
    "type(square(4))"
   ]
  },
  {
   "cell_type": "code",
   "execution_count": 45,
   "id": "bbe4660c",
   "metadata": {},
   "outputs": [],
   "source": [
    "# hem bir değer bastırıp aynı anda o değeri döndüre de bilirdi\n",
    "\n",
    "def square(x):\n",
    "    \n",
    "    res = x * x\n",
    "    \n",
    "    print(x,\"in/ün/un karesi:\", x*x)\n",
    "    \n",
    "    return res"
   ]
  },
  {
   "cell_type": "code",
   "execution_count": 46,
   "id": "d8ad00f6",
   "metadata": {},
   "outputs": [
    {
     "name": "stdout",
     "output_type": "stream",
     "text": [
      "4 in/ün/un karesi: 16\n"
     ]
    },
    {
     "data": {
      "text/plain": [
       "16"
      ]
     },
     "execution_count": 46,
     "metadata": {},
     "output_type": "execute_result"
    }
   ],
   "source": [
    "square(4)"
   ]
  },
  {
   "cell_type": "code",
   "execution_count": 49,
   "id": "55c4e691",
   "metadata": {},
   "outputs": [],
   "source": [
    "def f(x):\n",
    "    res = 5\n",
    "    res *= res\n",
    "    if x % 2 == 0:\n",
    "        print(\"Sonuc:\", res)\n",
    "        return res\n",
    "    else:\n",
    "        print(\"Sonuc:\", res)\n",
    "        return res + 10"
   ]
  },
  {
   "cell_type": "code",
   "execution_count": 51,
   "id": "ef73e4e1",
   "metadata": {},
   "outputs": [
    {
     "name": "stdout",
     "output_type": "stream",
     "text": [
      "Sonuc: 25\n"
     ]
    },
    {
     "data": {
      "text/plain": [
       "35"
      ]
     },
     "execution_count": 51,
     "metadata": {},
     "output_type": "execute_result"
    }
   ],
   "source": [
    "f(7)"
   ]
  },
  {
   "cell_type": "markdown",
   "id": "4b6e9386",
   "metadata": {},
   "source": [
    "### Fonksiyonlara Açıklama Yazmak (docstring)\n",
    "---"
   ]
  },
  {
   "cell_type": "code",
   "execution_count": 52,
   "id": "be361401",
   "metadata": {},
   "outputs": [],
   "source": [
    "def square(x):\n",
    "    \n",
    "    res = x * x\n",
    "    \n",
    "    return res\n"
   ]
  },
  {
   "cell_type": "code",
   "execution_count": 53,
   "id": "1e410b00",
   "metadata": {},
   "outputs": [],
   "source": [
    "def square(x):\n",
    "    \"\"\"\n",
    "    x'in karesini hesaplar\n",
    "    \"\"\"\n",
    "    return x * x"
   ]
  },
  {
   "cell_type": "code",
   "execution_count": 54,
   "id": "83ccc641",
   "metadata": {},
   "outputs": [],
   "source": [
    "?square"
   ]
  },
  {
   "cell_type": "markdown",
   "id": "8a69fcec",
   "metadata": {},
   "source": [
    "### Birden Çok Input\n",
    "---\n",
    "- Fonksiyonların birden çok parametresi olabilir."
   ]
  },
  {
   "cell_type": "code",
   "execution_count": 55,
   "id": "3d278425",
   "metadata": {},
   "outputs": [],
   "source": [
    "def square(x):\n",
    "    return x *x"
   ]
  },
  {
   "cell_type": "code",
   "execution_count": 56,
   "id": "7bfaf9d4",
   "metadata": {},
   "outputs": [
    {
     "data": {
      "text/plain": [
       "9"
      ]
     },
     "execution_count": 56,
     "metadata": {},
     "output_type": "execute_result"
    }
   ],
   "source": [
    "square(3)"
   ]
  },
  {
   "cell_type": "code",
   "execution_count": 57,
   "id": "8fb504f4",
   "metadata": {},
   "outputs": [],
   "source": [
    "def power(x, y):\n",
    "    \n",
    "    return x ** y"
   ]
  },
  {
   "cell_type": "code",
   "execution_count": 58,
   "id": "6562ab42",
   "metadata": {},
   "outputs": [
    {
     "data": {
      "text/plain": [
       "81"
      ]
     },
     "execution_count": 58,
     "metadata": {},
     "output_type": "execute_result"
    }
   ],
   "source": [
    "power(3,4)"
   ]
  },
  {
   "cell_type": "markdown",
   "id": "6d9bb19e",
   "metadata": {},
   "source": [
    "### Birden Çok Değer Döndüren Fonksiyonlar\n",
    "---"
   ]
  },
  {
   "cell_type": "code",
   "execution_count": 59,
   "id": "b5937793",
   "metadata": {},
   "outputs": [],
   "source": [
    "def f(x):\n",
    "    \n",
    "    return 2*x, 10*x"
   ]
  },
  {
   "cell_type": "code",
   "execution_count": 60,
   "id": "84d8b4ac",
   "metadata": {},
   "outputs": [
    {
     "data": {
      "text/plain": [
       "(20, 100)"
      ]
     },
     "execution_count": 60,
     "metadata": {},
     "output_type": "execute_result"
    }
   ],
   "source": [
    "f(10)"
   ]
  },
  {
   "cell_type": "markdown",
   "id": "2968721f",
   "metadata": {},
   "source": [
    "- Bana sonucu **tuple** olarak döndürdü.\n",
    "- **Variable Unpacking** kısmında gördüğümüz gibi bu iki değeri farklı değişkenlere eşitleyebilirim."
   ]
  },
  {
   "cell_type": "code",
   "execution_count": 61,
   "id": "c7a6d6a8",
   "metadata": {},
   "outputs": [],
   "source": [
    "a, b = f(10)"
   ]
  },
  {
   "cell_type": "code",
   "execution_count": 62,
   "id": "71ef99ba",
   "metadata": {},
   "outputs": [
    {
     "data": {
      "text/plain": [
       "20"
      ]
     },
     "execution_count": 62,
     "metadata": {},
     "output_type": "execute_result"
    }
   ],
   "source": [
    "a"
   ]
  },
  {
   "cell_type": "code",
   "execution_count": 63,
   "id": "bf7ffb92",
   "metadata": {},
   "outputs": [
    {
     "data": {
      "text/plain": [
       "100"
      ]
     },
     "execution_count": 63,
     "metadata": {},
     "output_type": "execute_result"
    }
   ],
   "source": [
    "b"
   ]
  },
  {
   "cell_type": "code",
   "execution_count": 64,
   "id": "ce37372e",
   "metadata": {},
   "outputs": [],
   "source": [
    "def f(x,y):\n",
    "    \n",
    "    return 2*x*y, (10*x)**y"
   ]
  },
  {
   "cell_type": "code",
   "execution_count": 65,
   "id": "684ec212",
   "metadata": {},
   "outputs": [
    {
     "data": {
      "text/plain": [
       "(40, 10000)"
      ]
     },
     "execution_count": 65,
     "metadata": {},
     "output_type": "execute_result"
    }
   ],
   "source": [
    "f(10,2)"
   ]
  },
  {
   "cell_type": "markdown",
   "id": "5ba251d9",
   "metadata": {},
   "source": [
    "### Predefined Parameters\n",
    "---"
   ]
  },
  {
   "cell_type": "code",
   "execution_count": 68,
   "id": "16ac3be0",
   "metadata": {},
   "outputs": [],
   "source": [
    "def hello(end, start = \"Hello\"):\n",
    "    print(start + \" \" + end)"
   ]
  },
  {
   "cell_type": "code",
   "execution_count": 71,
   "id": "586bb953",
   "metadata": {},
   "outputs": [
    {
     "name": "stdout",
     "output_type": "stream",
     "text": [
      "Hello Denis\n"
     ]
    }
   ],
   "source": [
    "hello(\"Denis\")"
   ]
  },
  {
   "cell_type": "code",
   "execution_count": 72,
   "id": "18f523cf",
   "metadata": {},
   "outputs": [
    {
     "name": "stdout",
     "output_type": "stream",
     "text": [
      "Hey Denis\n"
     ]
    }
   ],
   "source": [
    "hello(\"Denis\", start = \"Hey\")"
   ]
  },
  {
   "cell_type": "code",
   "execution_count": 73,
   "id": "6ef079ff",
   "metadata": {},
   "outputs": [
    {
     "name": "stdout",
     "output_type": "stream",
     "text": [
      "Hey Denis\n"
     ]
    }
   ],
   "source": [
    "hello(\"Denis\",\"Hey\")"
   ]
  },
  {
   "cell_type": "code",
   "execution_count": 74,
   "id": "c4f42e93",
   "metadata": {},
   "outputs": [],
   "source": [
    "def power(x, y=1):\n",
    "    \n",
    "    return x ** y"
   ]
  },
  {
   "cell_type": "code",
   "execution_count": 75,
   "id": "c6f3bad3",
   "metadata": {},
   "outputs": [
    {
     "data": {
      "text/plain": [
       "3"
      ]
     },
     "execution_count": 75,
     "metadata": {},
     "output_type": "execute_result"
    }
   ],
   "source": [
    "power(3)"
   ]
  },
  {
   "cell_type": "code",
   "execution_count": 76,
   "id": "fbd0645f",
   "metadata": {},
   "outputs": [
    {
     "data": {
      "text/plain": [
       "16"
      ]
     },
     "execution_count": 76,
     "metadata": {},
     "output_type": "execute_result"
    }
   ],
   "source": [
    "power(4, 2)"
   ]
  },
  {
   "cell_type": "code",
   "execution_count": 77,
   "id": "c00e087a",
   "metadata": {},
   "outputs": [
    {
     "ename": "SyntaxError",
     "evalue": "non-default argument follows default argument (3210565564.py, line 3)",
     "output_type": "error",
     "traceback": [
      "\u001b[0;36m  Input \u001b[0;32mIn [77]\u001b[0;36m\u001b[0m\n\u001b[0;31m    def hello(start = \"Hello\", end):\u001b[0m\n\u001b[0m                                  ^\u001b[0m\n\u001b[0;31mSyntaxError\u001b[0m\u001b[0;31m:\u001b[0m non-default argument follows default argument\n"
     ]
    }
   ],
   "source": [
    "# Fonksiyon, aksini belirtmezsek predefined değerleri kullanacak.\n",
    "# predefined olarak vereceğimiz değerleri en sona yazmalıyız yoksa hata alırız.\n",
    "def hello(start = \"Hello\", end):\n",
    "    \n",
    "    print(start + end)"
   ]
  },
  {
   "cell_type": "code",
   "execution_count": 78,
   "id": "b2fa18fc",
   "metadata": {},
   "outputs": [],
   "source": [
    "def f(x, y=1, z=2):\n",
    "    \n",
    "    return x + y + z"
   ]
  },
  {
   "cell_type": "code",
   "execution_count": 79,
   "id": "8559d525",
   "metadata": {},
   "outputs": [
    {
     "data": {
      "text/plain": [
       "5"
      ]
     },
     "execution_count": 79,
     "metadata": {},
     "output_type": "execute_result"
    }
   ],
   "source": [
    "f(2)"
   ]
  },
  {
   "cell_type": "code",
   "execution_count": 80,
   "id": "c062ac70",
   "metadata": {},
   "outputs": [
    {
     "data": {
      "text/plain": [
       "9"
      ]
     },
     "execution_count": 80,
     "metadata": {},
     "output_type": "execute_result"
    }
   ],
   "source": [
    "f(2,5)"
   ]
  },
  {
   "cell_type": "code",
   "execution_count": 81,
   "id": "9401ba4e",
   "metadata": {},
   "outputs": [
    {
     "data": {
      "text/plain": [
       "13"
      ]
     },
     "execution_count": 81,
     "metadata": {},
     "output_type": "execute_result"
    }
   ],
   "source": [
    "f(2,5,6)"
   ]
  },
  {
   "cell_type": "markdown",
   "id": "27573993",
   "metadata": {},
   "source": [
    "### Argümanların Değerlerinin Güncellenip Güncellenmediği Durumlar\n",
    "#### Integer ve Floatların Değerlerin Değişmez\n",
    "---"
   ]
  },
  {
   "cell_type": "code",
   "execution_count": 90,
   "id": "7253c34f",
   "metadata": {},
   "outputs": [],
   "source": [
    "a = 2"
   ]
  },
  {
   "cell_type": "code",
   "execution_count": 91,
   "id": "23a1e090",
   "metadata": {},
   "outputs": [],
   "source": [
    "def f(x):\n",
    "    x = 4\n",
    "    return x"
   ]
  },
  {
   "cell_type": "code",
   "execution_count": 92,
   "id": "116b6a04",
   "metadata": {},
   "outputs": [
    {
     "data": {
      "text/plain": [
       "4"
      ]
     },
     "execution_count": 92,
     "metadata": {},
     "output_type": "execute_result"
    }
   ],
   "source": [
    "f(a)"
   ]
  },
  {
   "cell_type": "code",
   "execution_count": 93,
   "id": "4b8503a2",
   "metadata": {},
   "outputs": [
    {
     "data": {
      "text/plain": [
       "2"
      ]
     },
     "execution_count": 93,
     "metadata": {},
     "output_type": "execute_result"
    }
   ],
   "source": [
    "a"
   ]
  },
  {
   "cell_type": "code",
   "execution_count": 94,
   "id": "15d5ba50",
   "metadata": {},
   "outputs": [],
   "source": [
    "b = 3.4"
   ]
  },
  {
   "cell_type": "code",
   "execution_count": 95,
   "id": "ecd77c48",
   "metadata": {},
   "outputs": [
    {
     "data": {
      "text/plain": [
       "3.4"
      ]
     },
     "execution_count": 95,
     "metadata": {},
     "output_type": "execute_result"
    }
   ],
   "source": [
    "b"
   ]
  },
  {
   "cell_type": "code",
   "execution_count": 96,
   "id": "56f5033d",
   "metadata": {},
   "outputs": [
    {
     "data": {
      "text/plain": [
       "4"
      ]
     },
     "execution_count": 96,
     "metadata": {},
     "output_type": "execute_result"
    }
   ],
   "source": [
    "f(b)"
   ]
  },
  {
   "cell_type": "markdown",
   "id": "81088d01",
   "metadata": {},
   "source": [
    "#### listler\n",
    "---"
   ]
  },
  {
   "cell_type": "code",
   "execution_count": 97,
   "id": "85415e89",
   "metadata": {},
   "outputs": [],
   "source": [
    "l = [1,2,3]"
   ]
  },
  {
   "cell_type": "code",
   "execution_count": 98,
   "id": "321779d1",
   "metadata": {},
   "outputs": [],
   "source": [
    "l2 = l.copy()"
   ]
  },
  {
   "cell_type": "code",
   "execution_count": 99,
   "id": "60633cd8",
   "metadata": {},
   "outputs": [
    {
     "data": {
      "text/plain": [
       "[1, 2, 3]"
      ]
     },
     "execution_count": 99,
     "metadata": {},
     "output_type": "execute_result"
    }
   ],
   "source": [
    "l2"
   ]
  },
  {
   "cell_type": "code",
   "execution_count": 100,
   "id": "ecdb7735",
   "metadata": {},
   "outputs": [
    {
     "data": {
      "text/plain": [
       "[1, 2, 3]"
      ]
     },
     "execution_count": 100,
     "metadata": {},
     "output_type": "execute_result"
    }
   ],
   "source": [
    "l"
   ]
  },
  {
   "cell_type": "code",
   "execution_count": 101,
   "id": "eacb77b2",
   "metadata": {},
   "outputs": [],
   "source": [
    "def f(l):\n",
    "    l[0] = \"a\"\n",
    "    return l"
   ]
  },
  {
   "cell_type": "code",
   "execution_count": 102,
   "id": "7aaf6baa",
   "metadata": {},
   "outputs": [
    {
     "data": {
      "text/plain": [
       "['a', 2, 3]"
      ]
     },
     "execution_count": 102,
     "metadata": {},
     "output_type": "execute_result"
    }
   ],
   "source": [
    "f(l)"
   ]
  },
  {
   "cell_type": "markdown",
   "id": "5ef407b6",
   "metadata": {},
   "source": [
    "### First Class Function\n",
    "---\n",
    "- Python'da fonksiyonlar **first class function** olarak değerlendirilir. Bunun anlamı fonksiyonların diğer veri tipleri gibi manipüle edilebilir ve başka fonksiyonlara argüman olarak verilebilir.\n",
    "- Bir fonksiyonu bir değişkene atabiliriz."
   ]
  },
  {
   "cell_type": "code",
   "execution_count": 106,
   "id": "98815870",
   "metadata": {},
   "outputs": [],
   "source": [
    "def kare(x):\n",
    "    return x**2"
   ]
  },
  {
   "cell_type": "code",
   "execution_count": 107,
   "id": "ca76ac28",
   "metadata": {},
   "outputs": [],
   "source": [
    "a = kare"
   ]
  },
  {
   "cell_type": "code",
   "execution_count": 108,
   "id": "74eccf34",
   "metadata": {},
   "outputs": [
    {
     "data": {
      "text/plain": [
       "25"
      ]
     },
     "execution_count": 108,
     "metadata": {},
     "output_type": "execute_result"
    }
   ],
   "source": [
    "kare(5)"
   ]
  },
  {
   "cell_type": "code",
   "execution_count": 110,
   "id": "f1d9b78c",
   "metadata": {},
   "outputs": [
    {
     "data": {
      "text/plain": [
       "25"
      ]
     },
     "execution_count": 110,
     "metadata": {},
     "output_type": "execute_result"
    }
   ],
   "source": [
    "a(5)"
   ]
  },
  {
   "cell_type": "markdown",
   "id": "67b202cb",
   "metadata": {},
   "source": [
    "- Bir fonksiyonu başka bir fonksiyona argüman olarak verebiliriz."
   ]
  },
  {
   "cell_type": "code",
   "execution_count": 111,
   "id": "f6477b09",
   "metadata": {},
   "outputs": [],
   "source": [
    "def f2(x, f):\n",
    "    return f(x) + 4"
   ]
  },
  {
   "cell_type": "code",
   "execution_count": 112,
   "id": "790e5c35",
   "metadata": {},
   "outputs": [
    {
     "data": {
      "text/plain": [
       "13"
      ]
     },
     "execution_count": 112,
     "metadata": {},
     "output_type": "execute_result"
    }
   ],
   "source": [
    "f2(3,kare)"
   ]
  },
  {
   "cell_type": "code",
   "execution_count": 113,
   "id": "3699993c",
   "metadata": {},
   "outputs": [],
   "source": [
    "def f3(x):\n",
    "    return x**5"
   ]
  },
  {
   "cell_type": "code",
   "execution_count": 114,
   "id": "31f8637c",
   "metadata": {},
   "outputs": [
    {
     "data": {
      "text/plain": [
       "36"
      ]
     },
     "execution_count": 114,
     "metadata": {},
     "output_type": "execute_result"
    }
   ],
   "source": [
    "f2(2,f3)"
   ]
  },
  {
   "cell_type": "markdown",
   "id": "b571a581",
   "metadata": {},
   "source": [
    "### for-function\n",
    "---\n",
    "- Fonksiyonları Obje Olarak Kullanmak\n",
    "- Python'da fonksiyonların first class function olduklarını konuşmuştuk.\n",
    "- Şimdi bu mantığı kullanarak belirli fonksiyonları listenin elemanlarına uygulayacağız."
   ]
  },
  {
   "cell_type": "code",
   "execution_count": 115,
   "id": "f55f4638",
   "metadata": {},
   "outputs": [],
   "source": [
    "l = [1,2,3,4]"
   ]
  },
  {
   "cell_type": "code",
   "execution_count": 116,
   "id": "bd2c9596",
   "metadata": {},
   "outputs": [],
   "source": [
    "def apply(l, f):\n",
    "    \"\"\"\n",
    "    l bir liste, \n",
    "    f listenin tüm elemanlarına uygulanacak fonksiyon\n",
    "    sonunda listenin orijinali elemanlarına fonksiyonun uygulanmış haliyle güncellenir\n",
    "    \"\"\"\n",
    "    \n",
    "    n = len(l)\n",
    "    \n",
    "    for i in range(n):\n",
    "        l[i] = f(l[i])"
   ]
  },
  {
   "cell_type": "code",
   "execution_count": 117,
   "id": "79ba2933",
   "metadata": {},
   "outputs": [],
   "source": [
    "def kare(x):\n",
    "    return x**2"
   ]
  },
  {
   "cell_type": "code",
   "execution_count": 118,
   "id": "bee0e916",
   "metadata": {},
   "outputs": [],
   "source": [
    "apply(l, kare)"
   ]
  },
  {
   "cell_type": "code",
   "execution_count": 119,
   "id": "5cd0566a",
   "metadata": {},
   "outputs": [
    {
     "data": {
      "text/plain": [
       "[1, 4, 9, 16]"
      ]
     },
     "execution_count": 119,
     "metadata": {},
     "output_type": "execute_result"
    }
   ],
   "source": [
    "l"
   ]
  },
  {
   "cell_type": "markdown",
   "id": "43cd4b4b",
   "metadata": {},
   "source": [
    "- Tüm elemanlara fonksiyon uygulandı ve güncelledik."
   ]
  },
  {
   "cell_type": "code",
   "execution_count": 120,
   "id": "23402b09",
   "metadata": {},
   "outputs": [],
   "source": [
    "l = [1,2,3,4]"
   ]
  },
  {
   "cell_type": "code",
   "execution_count": 121,
   "id": "17c7eb9a",
   "metadata": {},
   "outputs": [],
   "source": [
    "def kup(x):\n",
    "    return x**3"
   ]
  },
  {
   "cell_type": "code",
   "execution_count": 122,
   "id": "e9a15dde",
   "metadata": {},
   "outputs": [],
   "source": [
    "apply(l,kup)"
   ]
  },
  {
   "cell_type": "code",
   "execution_count": 123,
   "id": "57efe537",
   "metadata": {},
   "outputs": [
    {
     "data": {
      "text/plain": [
       "[1, 8, 27, 64]"
      ]
     },
     "execution_count": 123,
     "metadata": {},
     "output_type": "execute_result"
    }
   ],
   "source": [
    "l"
   ]
  },
  {
   "cell_type": "markdown",
   "id": "4f828995",
   "metadata": {},
   "source": [
    "### Fonksiyonlar Listesini Belirli Bir Değere Uygulamak\n",
    "---"
   ]
  },
  {
   "cell_type": "code",
   "execution_count": 124,
   "id": "82a9bb31",
   "metadata": {},
   "outputs": [],
   "source": [
    "def apply_funcs(f_list, x):\n",
    "    l = []\n",
    "    for f in f_list:\n",
    "        l.append(f(x))\n",
    "        \n",
    "    return l"
   ]
  },
  {
   "cell_type": "code",
   "execution_count": 125,
   "id": "b968f4e3",
   "metadata": {},
   "outputs": [
    {
     "data": {
      "text/plain": [
       "[25, 125]"
      ]
     },
     "execution_count": 125,
     "metadata": {},
     "output_type": "execute_result"
    }
   ],
   "source": [
    "apply_funcs([kare, kup], 5)"
   ]
  },
  {
   "cell_type": "markdown",
   "id": "64d69857",
   "metadata": {},
   "source": [
    "### Underscore Placeholders\n",
    "--- "
   ]
  },
  {
   "cell_type": "code",
   "execution_count": 126,
   "id": "6e7e7cd1",
   "metadata": {},
   "outputs": [],
   "source": [
    "num_1 = 90000000000"
   ]
  },
  {
   "cell_type": "markdown",
   "id": "2da57212",
   "metadata": {},
   "source": [
    "- Kaç tane 0 var burada ? 1,2,3,4... bir tanesini atladım mı? Nerede kalmıştım, başa dönüp bir daha sayayım... yok mu bunun daha okunabilir bir yolu?\n",
    "- Cevap tabii ki de evet. Sayıları arka planda algılanmasını değiştirmeden, ama bize daha kolay okunabilir yapan bir yöntem var."
   ]
  },
  {
   "cell_type": "code",
   "execution_count": 127,
   "id": "d2e21fdc",
   "metadata": {},
   "outputs": [],
   "source": [
    "num_2 = 90_000_000_000"
   ]
  },
  {
   "cell_type": "markdown",
   "id": "067ba91f",
   "metadata": {},
   "source": [
    "- Sayıların arasına alttan çizgi koymak!\n",
    "- Bu bilgisayarın sayıları algılamasını değiştirmiyor, o onları görmezden geliyor, ama bizim için daha okunabilir oluyor."
   ]
  },
  {
   "cell_type": "code",
   "execution_count": 128,
   "id": "0a7cc325",
   "metadata": {},
   "outputs": [
    {
     "data": {
      "text/plain": [
       "90000000000"
      ]
     },
     "execution_count": 128,
     "metadata": {},
     "output_type": "execute_result"
    }
   ],
   "source": [
    "num_1"
   ]
  },
  {
   "cell_type": "code",
   "execution_count": 129,
   "id": "dec2fe76",
   "metadata": {},
   "outputs": [
    {
     "data": {
      "text/plain": [
       "90000000000"
      ]
     },
     "execution_count": 129,
     "metadata": {},
     "output_type": "execute_result"
    }
   ],
   "source": [
    "num_2"
   ]
  },
  {
   "cell_type": "markdown",
   "id": "a30afdeb",
   "metadata": {},
   "source": [
    "- Bilgisayar için 90_000_000_000 ile 90000000000 sayısının hiç bir farkı yok!"
   ]
  },
  {
   "cell_type": "code",
   "execution_count": 130,
   "id": "4d4691ca",
   "metadata": {},
   "outputs": [
    {
     "data": {
      "text/plain": [
       "int"
      ]
     },
     "execution_count": 130,
     "metadata": {},
     "output_type": "execute_result"
    }
   ],
   "source": [
    "type(90_000_000_000)"
   ]
  },
  {
   "cell_type": "markdown",
   "id": "94303698",
   "metadata": {},
   "source": [
    "### F-string\n",
    "---\n",
    "- Değişkenlerimizin değerlerini direkt olarak **string**'lerin içine koymak isteyebiliriz.\n",
    "- **f-string** de yaptığımız tek şey aslında değişkenlerin değerlerini veya hesaplamaların sonucunu stringin içine gömmek.\n",
    "- f\"...\" diye göreceğimiz yapının adını **String Interpolation** diye görebilirsiniz."
   ]
  },
  {
   "cell_type": "code",
   "execution_count": 131,
   "id": "61c828d4",
   "metadata": {},
   "outputs": [],
   "source": [
    "x = 2"
   ]
  },
  {
   "cell_type": "markdown",
   "id": "5d4bac79",
   "metadata": {},
   "source": [
    "- Diyelim ki ekrana x'in değerini bastırmak istiyorum. Bu durumda istediğim şey \"x in değeri 2\" diye bastırmak. Bunu şöyle yapabilirim:"
   ]
  },
  {
   "cell_type": "code",
   "execution_count": 132,
   "id": "2bcee8b5",
   "metadata": {},
   "outputs": [
    {
     "data": {
      "text/plain": [
       "'x in değeri 2'"
      ]
     },
     "execution_count": 132,
     "metadata": {},
     "output_type": "execute_result"
    }
   ],
   "source": [
    "\"x in değeri\" + \" \" + str(x)"
   ]
  },
  {
   "cell_type": "markdown",
   "id": "4f21daa8",
   "metadata": {},
   "source": [
    "- Ama ayrı ayrı yazmaya ihtiyaç olmadan direkt x'in değerini string'in içine gömebilseydim daha iyi olmaz mıydı ?"
   ]
  },
  {
   "cell_type": "code",
   "execution_count": 133,
   "id": "8c475f09",
   "metadata": {},
   "outputs": [
    {
     "data": {
      "text/plain": [
       "'x in değeri 2'"
      ]
     },
     "execution_count": 133,
     "metadata": {},
     "output_type": "execute_result"
    }
   ],
   "source": [
    "f\"x in değeri {x}\""
   ]
  },
  {
   "cell_type": "markdown",
   "id": "71769c18",
   "metadata": {},
   "source": [
    "- İçine değer gömeceğimiz string'i tanımlarken başına f yazarak başlıyoruz f\"....\". Gömmek istediğimiz değeri/değişkeni süslü parantez içine yazıyoruz f\".....{}....\". Birden çok değer de gömmek isteyebiliriz, o zaman kaç tane yapacaksak o kadar süslü parantez koymamız gerekirdi f\".....{}....{}..\"\n",
    "- Python'ın yaptığı şey süslü parantezin içini hesaplayıp stringin içine gömmek."
   ]
  },
  {
   "cell_type": "code",
   "execution_count": 134,
   "id": "59a3550f",
   "metadata": {},
   "outputs": [
    {
     "data": {
      "text/plain": [
       "'x in değerinin iki fazlası 4'"
      ]
     },
     "execution_count": 134,
     "metadata": {},
     "output_type": "execute_result"
    }
   ],
   "source": [
    "f\"x in değerinin iki fazlası {x+2}\""
   ]
  },
  {
   "cell_type": "markdown",
   "id": "93876f73",
   "metadata": {},
   "source": [
    "- **{x+2}** kısmında python **x+2**'yi hesapladı ve string'in içine cevabın değerini gömdü."
   ]
  },
  {
   "cell_type": "code",
   "execution_count": 135,
   "id": "a2370583",
   "metadata": {},
   "outputs": [
    {
     "name": "stdout",
     "output_type": "stream",
     "text": [
      "İsim:Batuhan\n"
     ]
    }
   ],
   "source": [
    "isim = input(\"İsim:\")"
   ]
  },
  {
   "cell_type": "code",
   "execution_count": 136,
   "id": "acf7995c",
   "metadata": {},
   "outputs": [
    {
     "data": {
      "text/plain": [
       "'verilen isim Batuhan'"
      ]
     },
     "execution_count": 136,
     "metadata": {},
     "output_type": "execute_result"
    }
   ],
   "source": [
    "f\"verilen isim {isim}\""
   ]
  },
  {
   "cell_type": "code",
   "execution_count": 137,
   "id": "eaca0453",
   "metadata": {},
   "outputs": [],
   "source": [
    "l = [1,2,3,4]"
   ]
  },
  {
   "cell_type": "code",
   "execution_count": 138,
   "id": "0b22f85b",
   "metadata": {},
   "outputs": [
    {
     "data": {
      "text/plain": [
       "'verilen liste [1, 2, 3, 4]'"
      ]
     },
     "execution_count": 138,
     "metadata": {},
     "output_type": "execute_result"
    }
   ],
   "source": [
    "f\"verilen liste {l}\""
   ]
  },
  {
   "cell_type": "markdown",
   "id": "448aabd2",
   "metadata": {},
   "source": [
    "- {} içerisine değeri hesaplanacak herhangi bir şey yazılabilir."
   ]
  },
  {
   "cell_type": "code",
   "execution_count": 139,
   "id": "33736f5f",
   "metadata": {},
   "outputs": [
    {
     "data": {
      "text/plain": [
       "'verilen isim Batuhan'"
      ]
     },
     "execution_count": 139,
     "metadata": {},
     "output_type": "execute_result"
    }
   ],
   "source": [
    "f\"verilen isim {isim.capitalize()}\""
   ]
  },
  {
   "cell_type": "markdown",
   "id": "09dc32d8",
   "metadata": {},
   "source": [
    "- Süslü parantezin içine fonksiyon da yazabiliriz."
   ]
  },
  {
   "cell_type": "code",
   "execution_count": 140,
   "id": "3a1a5823",
   "metadata": {},
   "outputs": [],
   "source": [
    "def kare(x):\n",
    "    return x**2"
   ]
  },
  {
   "cell_type": "code",
   "execution_count": 141,
   "id": "bb344eb6",
   "metadata": {},
   "outputs": [],
   "source": [
    "x = 10"
   ]
  },
  {
   "cell_type": "code",
   "execution_count": 142,
   "id": "f5565b6b",
   "metadata": {},
   "outputs": [
    {
     "data": {
      "text/plain": [
       "'10 sayısının karesi 100'"
      ]
     },
     "execution_count": 142,
     "metadata": {},
     "output_type": "execute_result"
    }
   ],
   "source": [
    "f\"{x} sayısının karesi {kare(x)}\""
   ]
  }
 ],
 "metadata": {
  "kernelspec": {
   "display_name": "Python 3 (ipykernel)",
   "language": "python",
   "name": "python3"
  },
  "language_info": {
   "codemirror_mode": {
    "name": "ipython",
    "version": 3
   },
   "file_extension": ".py",
   "mimetype": "text/x-python",
   "name": "python",
   "nbconvert_exporter": "python",
   "pygments_lexer": "ipython3",
   "version": "3.9.12"
  }
 },
 "nbformat": 4,
 "nbformat_minor": 5
}
