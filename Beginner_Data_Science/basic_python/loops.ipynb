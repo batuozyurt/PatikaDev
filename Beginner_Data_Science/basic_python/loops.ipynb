{
 "cells": [
  {
   "cell_type": "markdown",
   "id": "f5411154",
   "metadata": {},
   "source": [
    "# Loops (Döngüler)\n",
    "---\n",
    "- **if,else ve elif** mantığı ile programımızı dallandırmayı biliyoruz. Ama kod akışı hala daha lineer. Bir işlemi birden çok kez yapmak istiyorsam bunu kolaylaştıracak bir yapım yok. (şimdilik)\n",
    "\n",
    "- Bir işlemi defalarca yapmak istediğimde kullanacağım bir yapıya ihtiyacım var. Bu sadece kodumu defalarca yazmamak için işimi kolaylaştırsın diye değil, kodun o parçasının kaç kere çalışacağını önceden bilmediğim için de olabilir. (100 kere çalışacak kod parçasını 100 kere ard arda yazmak zaman için iyi bir pratik değil.)\n",
    "\n",
    "- Mesela bir siteye girmek için şifremizi girdğimizi düşünelim. Site, siz şifreyi yanlış girdikçe şifrenizi bir daha girin diyor. Siteyi kodlayan kişinin önceden sizin kaç kere şifrenizi yanlış gireceğinizi bilmesinin bir yolu yok. Bu yüzden kodun o parçasını doğru şifre sağlanmadıkça çalışacağı bir yapıya ihtiyacım var."
   ]
  },
  {
   "cell_type": "markdown",
   "id": "b0878d11",
   "metadata": {},
   "source": [
    "### while \n",
    "---\n",
    "- **while** döngüsünün içerisine yazdığım yapı belirttiğim ifade doğru olduğu sürece çalışacak.\n",
    "- **while**'da da **if**'de olduğu gibi bir test mantığı var. **Testimiz doğru çıktığı sürece while bloğunun içerisindeki kodlar tekrar ediliyor.**\n",
    "- Örnek olarak kullanıcıdan pozitif bir sayı bekleyen, negatif bir sayı girildikçe bir daha soran bir yapı düşünelim. Burada bir döngü mantığına ihtiyacımız var. Çünkü kullanıcının kaç defa negatif sayı gireceğini önceden bilmiyoruz.  "
   ]
  },
  {
   "cell_type": "code",
   "execution_count": 1,
   "id": "2eb8040c",
   "metadata": {},
   "outputs": [
    {
     "name": "stdout",
     "output_type": "stream",
     "text": [
      "Bir sayı giriniz:-1\n",
      "Sayı negatif, lütfen pozitif bir sayı giriniz.\n",
      "Bir sayı giriniz:1\n",
      "sayınız pozitif ve 1\n"
     ]
    }
   ],
   "source": [
    "x = int(input(\"Bir sayı giriniz:\"))\n",
    "\n",
    "while x < 0:\n",
    "    print(\"Sayı negatif, lütfen pozitif bir sayı giriniz.\")\n",
    "    x = int(input(\"Bir sayı giriniz:\"))\n",
    "\n",
    "print(\"sayınız pozitif ve\", x)"
   ]
  },
  {
   "cell_type": "markdown",
   "id": "ddbb46ab",
   "metadata": {},
   "source": [
    "- Diyelim ki 0'dan 100'e kadar olan sayıların toplamını bulmak istiyorum ve o kadar sayıyı elle yazmak istemiyorum."
   ]
  },
  {
   "cell_type": "code",
   "execution_count": 3,
   "id": "464d250f",
   "metadata": {},
   "outputs": [
    {
     "name": "stdout",
     "output_type": "stream",
     "text": [
      "1\n",
      "2\n",
      "3\n",
      "4\n",
      "5\n",
      "6\n",
      "7\n",
      "8\n",
      "9\n",
      "10\n",
      "11\n",
      "12\n",
      "13\n",
      "14\n",
      "15\n",
      "16\n",
      "17\n",
      "18\n",
      "19\n",
      "20\n",
      "21\n",
      "22\n",
      "23\n",
      "24\n",
      "25\n",
      "26\n",
      "27\n",
      "28\n",
      "29\n",
      "30\n",
      "31\n",
      "32\n",
      "33\n",
      "34\n",
      "35\n",
      "36\n",
      "37\n",
      "38\n",
      "39\n",
      "40\n",
      "41\n",
      "42\n",
      "43\n",
      "44\n",
      "45\n",
      "46\n",
      "47\n",
      "48\n",
      "49\n",
      "50\n",
      "51\n",
      "52\n",
      "53\n",
      "54\n",
      "55\n",
      "56\n",
      "57\n",
      "58\n",
      "59\n",
      "60\n",
      "61\n",
      "62\n",
      "63\n",
      "64\n",
      "65\n",
      "66\n",
      "67\n",
      "68\n",
      "69\n",
      "70\n",
      "71\n",
      "72\n",
      "73\n",
      "74\n",
      "75\n",
      "76\n",
      "77\n",
      "78\n",
      "79\n",
      "80\n",
      "81\n",
      "82\n",
      "83\n",
      "84\n",
      "85\n",
      "86\n",
      "87\n",
      "88\n",
      "89\n",
      "90\n",
      "91\n",
      "92\n",
      "93\n",
      "94\n",
      "95\n",
      "96\n",
      "97\n",
      "98\n",
      "99\n",
      "100\n",
      "101\n",
      "5050\n"
     ]
    }
   ],
   "source": [
    "toplam = 0\n",
    "x = 0\n",
    "\n",
    "while x <= 100:\n",
    "    toplam += x\n",
    "    x += 1\n",
    "    print(x)\n",
    "    \n",
    "print(toplam)"
   ]
  },
  {
   "cell_type": "markdown",
   "id": "4f16caae",
   "metadata": {},
   "source": [
    "- Döngümün içerisinde kontrol ettiğim yapıyı güncelleyecek bir ifadenin olması lazım yoksa sonsuz döngüye girerim."
   ]
  },
  {
   "cell_type": "markdown",
   "id": "4e837917",
   "metadata": {},
   "source": [
    "### for\n",
    "---\n",
    "- **for** döngüsü **in**'den sonra yazdığımız yapının bütün değerleri üzerinde dolanıp, eleman sayısı kadar içindeki kodu çalıştıracak. **x in 'obje'** yapısı ile tanımlandığında, **x** döngünün her adımında **in** den sonra tanımlanan yapının elemanlarının değerlerini alacak.\n",
    "\n",
    "for 'değişken' in 'obje'\n",
    "\n",
    "- **for** döngüsünün en başında **'değişken'**, **'obje'**'nin ilk elemanının değerini alıyor. İçindeki kod 1 kere çalışıp bittikten sonra ikinci kere çalıştırıyor ve **'değişken'**, **'obje'**'nin ikinci elemanının değerini alıyor. Bu **'obje'**'nin tüm elemanları bitene kadar devam ediyor."
   ]
  },
  {
   "cell_type": "code",
   "execution_count": 5,
   "id": "ab295244",
   "metadata": {},
   "outputs": [
    {
     "name": "stdout",
     "output_type": "stream",
     "text": [
      "h\n",
      "e\n",
      "y\n"
     ]
    }
   ],
   "source": [
    "for c in \"hey\":\n",
    "    print(c)"
   ]
  },
  {
   "cell_type": "code",
   "execution_count": 6,
   "id": "83965aa4",
   "metadata": {},
   "outputs": [
    {
     "name": "stdout",
     "output_type": "stream",
     "text": [
      "5050\n"
     ]
    }
   ],
   "source": [
    "toplam = 0\n",
    "\n",
    "for x in range(101):\n",
    "    toplam += x\n",
    "print(toplam)"
   ]
  },
  {
   "cell_type": "code",
   "execution_count": 7,
   "id": "1d41b79a",
   "metadata": {},
   "outputs": [
    {
     "name": "stdout",
     "output_type": "stream",
     "text": [
      "0\n",
      "1\n",
      "2\n",
      "3\n",
      "4\n"
     ]
    }
   ],
   "source": [
    "for x in range(5):\n",
    "    print(x)"
   ]
  },
  {
   "cell_type": "code",
   "execution_count": 8,
   "id": "48a2a340",
   "metadata": {},
   "outputs": [
    {
     "name": "stdout",
     "output_type": "stream",
     "text": [
      "3125\n"
     ]
    }
   ],
   "source": [
    "toplam = 1\n",
    "for i in range(5):\n",
    "    toplam *=5\n",
    "    \n",
    "print(toplam)"
   ]
  },
  {
   "cell_type": "code",
   "execution_count": 9,
   "id": "fe088d15",
   "metadata": {},
   "outputs": [
    {
     "name": "stdout",
     "output_type": "stream",
     "text": [
      "3125\n"
     ]
    }
   ],
   "source": [
    "toplam = 1\n",
    "for _ in range(5):\n",
    "    toplam *=5\n",
    "    \n",
    "print(toplam)"
   ]
  },
  {
   "cell_type": "markdown",
   "id": "317d9555",
   "metadata": {},
   "source": [
    "### for vs while\n",
    "---\n",
    "- **while** yapısında kaç kere iterasyon yapacağımızı bilmiyoruz, **for**'da eleman sayısı kadar iterasyon var. (**break** veya **continue** ile bölünmezse)\n",
    "- Aslında **for** döngüsünü **while** döngüsünü kullanarak yazabiliriz, ama **while** döngüsünü **for** kullanarak yazamayız, çünkü **for**'da test mekanizması yok."
   ]
  },
  {
   "cell_type": "code",
   "execution_count": 10,
   "id": "a1ba3cfb",
   "metadata": {},
   "outputs": [
    {
     "name": "stdout",
     "output_type": "stream",
     "text": [
      "h\n",
      "e\n",
      "y\n"
     ]
    }
   ],
   "source": [
    "s = \"hey\"\n",
    "for c in s:\n",
    "    print(c)"
   ]
  },
  {
   "cell_type": "code",
   "execution_count": 11,
   "id": "3fa22a33",
   "metadata": {},
   "outputs": [
    {
     "name": "stdout",
     "output_type": "stream",
     "text": [
      "h\n",
      "e\n",
      "y\n"
     ]
    }
   ],
   "source": [
    "n = len(s)\n",
    "index = 0\n",
    "\n",
    "while index < n:\n",
    "        print(s[index])\n",
    "        index += 1"
   ]
  },
  {
   "cell_type": "markdown",
   "id": "108d39af",
   "metadata": {},
   "source": [
    "### break\n",
    "---\n",
    "- Belki bir şart sağlandığı zaman döngüden aniden çıkmak istersek, bunu **break** ile sağlıyoruz.\n",
    "- **break** komutunu gördüğümüz yerde döngüden çıkıyoruz."
   ]
  },
  {
   "cell_type": "code",
   "execution_count": 14,
   "id": "80b73e29",
   "metadata": {},
   "outputs": [
    {
     "name": "stdout",
     "output_type": "stream",
     "text": [
      "0\n",
      "1\n",
      "2\n"
     ]
    }
   ],
   "source": [
    "for i in range(10):\n",
    "    if i == 3:\n",
    "        break\n",
    "    print(i)"
   ]
  },
  {
   "cell_type": "code",
   "execution_count": 15,
   "id": "4e543ca0",
   "metadata": {},
   "outputs": [
    {
     "name": "stdout",
     "output_type": "stream",
     "text": [
      "0\n",
      "1\n",
      "2\n"
     ]
    }
   ],
   "source": [
    "x = 0\n",
    "\n",
    "while x < 10:\n",
    "\n",
    "    \n",
    "    print(x)\n",
    "    x += 1\n",
    "    \n",
    "\n",
    "    if x == 3:\n",
    "        break"
   ]
  },
  {
   "cell_type": "markdown",
   "id": "79d3d1f4",
   "metadata": {},
   "source": [
    "### continue\n",
    "---\n",
    "- Bazen döngülerde bir şart sağlandığında bir sonraki iterasyondan devam etmek isteyebilirim. Bunu **continue** ile sağlayacağız.\n",
    "- **continue** komutu ile karşılaşıldığı zaman, döngünün bir sonraki iterasyonuna geçilir."
   ]
  },
  {
   "cell_type": "code",
   "execution_count": 16,
   "id": "f53ae32b",
   "metadata": {},
   "outputs": [
    {
     "name": "stdout",
     "output_type": "stream",
     "text": [
      "0\n",
      "1\n",
      "2\n",
      "4\n",
      "5\n",
      "6\n",
      "7\n",
      "8\n",
      "9\n"
     ]
    }
   ],
   "source": [
    "for i in range(10):\n",
    "    \n",
    "    if i == 3:\n",
    "        continue\n",
    "    print(i)"
   ]
  },
  {
   "cell_type": "code",
   "execution_count": 17,
   "id": "a032a069",
   "metadata": {},
   "outputs": [
    {
     "name": "stdout",
     "output_type": "stream",
     "text": [
      "1\n",
      "2\n",
      "4\n",
      "5\n",
      "6\n",
      "7\n",
      "8\n",
      "9\n",
      "10\n"
     ]
    }
   ],
   "source": [
    "x = 0\n",
    "\n",
    "while x < 10:\n",
    "    \n",
    "    x += 1\n",
    "    \n",
    "    if x == 3:\n",
    "        continue\n",
    "    \n",
    "    print(x)"
   ]
  }
 ],
 "metadata": {
  "kernelspec": {
   "display_name": "Python 3 (ipykernel)",
   "language": "python",
   "name": "python3"
  },
  "language_info": {
   "codemirror_mode": {
    "name": "ipython",
    "version": 3
   },
   "file_extension": ".py",
   "mimetype": "text/x-python",
   "name": "python",
   "nbconvert_exporter": "python",
   "pygments_lexer": "ipython3",
   "version": "3.9.12"
  }
 },
 "nbformat": 4,
 "nbformat_minor": 5
}
