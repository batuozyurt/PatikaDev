{
 "cells": [
  {
   "cell_type": "markdown",
   "id": "bad8c552",
   "metadata": {},
   "source": [
    "# List\n",
    "---\n",
    "- Elimizdeki verileri gruplamak bir yapı altında tutmak isteyebiliriz.\n",
    "- Mesela bir sınıftaki öğrencilerin notlarını tutmak istiyorum. 5 farklı öğrenci var, şimdiye kadar öğrendiklerimizle şöyle yapabilirdim:"
   ]
  },
  {
   "cell_type": "code",
   "execution_count": 1,
   "id": "230a396e",
   "metadata": {},
   "outputs": [],
   "source": [
    "ogrenci_1 = 78\n",
    "ogrenci_2 = 80\n",
    "ogrenci_3 = 43\n",
    "ogrenci_4 = 65\n",
    "ogrenci_5 = 90"
   ]
  },
  {
   "cell_type": "markdown",
   "id": "32fac3fd",
   "metadata": {},
   "source": [
    "- Bunların hepsi bir sınıftaki notları ifade ediyor. Bunları bir veri tipi olarak bir arada tutsak daha mantıklı olmaz mı?\n",
    "\n",
    "\n",
    "- **list** veri tipi de tam burada devreye giriyor. Birden çok veriyi gruplayıp bir arada tutmak istediğimizde kullanabileceğimiz bir yapıdır.\n",
    "- **list**ler belirtirken köşeli parantezle belirtiyoruz: **[element1, element2,...]**.\n",
    "- **list**ler içsel yapı içerdikleri için **non-scalar** veri tipidir.\n",
    "- Elemanları arasına virgül koyarak farklı eleman belirtmeye başladığımı ifade ediyorum."
   ]
  },
  {
   "cell_type": "code",
   "execution_count": 2,
   "id": "5f621665",
   "metadata": {},
   "outputs": [],
   "source": [
    "notlar = [78, 80, 43, 65, 90]"
   ]
  },
  {
   "cell_type": "code",
   "execution_count": 3,
   "id": "40d0eb7b",
   "metadata": {},
   "outputs": [],
   "source": [
    "# bunun aynısını şu şekilde de tutabilirdik:\n",
    "\n",
    "notlar = [ogrenci_1, ogrenci_2, ogrenci_3, ogrenci_4, ogrenci_5]"
   ]
  },
  {
   "cell_type": "markdown",
   "id": "762969d9",
   "metadata": {},
   "source": [
    "- Bu oluşturduğumuz yapının ilk elemanı ilk öğrencinin notu, ikinci elemanı ikinci öğrencinin notunu belirtiyor (bu mantık böyle devam ediyor). Böylece öğrencilerin notlarını farklı 5 değişkende tutmak yerine bir veri tipi altında düzenli tutabilmiş olduk.\n",
    "- Nasıl ki stringlerde elemanlarına indexleme yaparak [0] gibi değerlerle ulaşabiliyorsak, listlerde de aynı durum söz konusu.\n",
    "- **notlar** listesinin ilk elemanına ulaşmak için:"
   ]
  },
  {
   "cell_type": "code",
   "execution_count": 4,
   "id": "f2cd78a5",
   "metadata": {},
   "outputs": [
    {
     "data": {
      "text/plain": [
       "78"
      ]
     },
     "execution_count": 4,
     "metadata": {},
     "output_type": "execute_result"
    }
   ],
   "source": [
    "# ogrenci_1 in notu\n",
    "notlar[0]"
   ]
  },
  {
   "cell_type": "markdown",
   "id": "4d4060bc",
   "metadata": {},
   "source": [
    "- **list**'lerin içine istediğimiz veri tipini koyabiliriz. listeleri sadece verilerimi içine koyduğumuz bir kutu olarak düşünün, listlerin tek yaptığı şey bunları bir arada tutmak. Elemanları istediğim veri objesi olabilir. int, float, string, hatta listler bile!"
   ]
  },
  {
   "cell_type": "code",
   "execution_count": 5,
   "id": "f5c909ca",
   "metadata": {},
   "outputs": [
    {
     "data": {
      "text/plain": [
       "['a', 'b']"
      ]
     },
     "execution_count": 5,
     "metadata": {},
     "output_type": "execute_result"
    }
   ],
   "source": [
    "[\"a\",\"b\"]"
   ]
  },
  {
   "cell_type": "code",
   "execution_count": 6,
   "id": "5ab68958",
   "metadata": {},
   "outputs": [
    {
     "data": {
      "text/plain": [
       "[True, False]"
      ]
     },
     "execution_count": 6,
     "metadata": {},
     "output_type": "execute_result"
    }
   ],
   "source": [
    "[True, False]"
   ]
  },
  {
   "cell_type": "code",
   "execution_count": 7,
   "id": "fdad301e",
   "metadata": {},
   "outputs": [
    {
     "data": {
      "text/plain": [
       "[[1, 2], [3, 4, 5]]"
      ]
     },
     "execution_count": 7,
     "metadata": {},
     "output_type": "execute_result"
    }
   ],
   "source": [
    "[[1,2], [3,4,5]]"
   ]
  },
  {
   "cell_type": "markdown",
   "id": "a73ba102",
   "metadata": {},
   "source": [
    "### Listler Farklı Veri Tiplerini İçerebilir\n",
    "---\n",
    "- Aynı list'in içine farklı tipte veri tipleri koyabiliriz."
   ]
  },
  {
   "cell_type": "code",
   "execution_count": 8,
   "id": "b93a5b0e",
   "metadata": {},
   "outputs": [],
   "source": [
    "l = [1, 2, \"a\", \"b\", True, 4.5, [1,2,3]]"
   ]
  },
  {
   "cell_type": "code",
   "execution_count": 9,
   "id": "c3ea9bb4",
   "metadata": {},
   "outputs": [
    {
     "data": {
      "text/plain": [
       "[1, 2, 'a', 'b', True, 4.5, [1, 2, 3]]"
      ]
     },
     "execution_count": 9,
     "metadata": {},
     "output_type": "execute_result"
    }
   ],
   "source": [
    "l"
   ]
  },
  {
   "cell_type": "markdown",
   "id": "3a2722a2",
   "metadata": {},
   "source": [
    "### Indexing & Slicing\n",
    "---\n",
    "- String konusunda yaptığımız indexleme mantığı ve slicing mantığı tamamen listler için de geçerli."
   ]
  },
  {
   "cell_type": "code",
   "execution_count": 10,
   "id": "17f2b296",
   "metadata": {},
   "outputs": [
    {
     "data": {
      "text/plain": [
       "[78, 80, 43, 65, 90]"
      ]
     },
     "execution_count": 10,
     "metadata": {},
     "output_type": "execute_result"
    }
   ],
   "source": [
    "notlar"
   ]
  },
  {
   "cell_type": "code",
   "execution_count": 11,
   "id": "884827a5",
   "metadata": {},
   "outputs": [
    {
     "data": {
      "text/plain": [
       "78"
      ]
     },
     "execution_count": 11,
     "metadata": {},
     "output_type": "execute_result"
    }
   ],
   "source": [
    "notlar[0]"
   ]
  },
  {
   "cell_type": "code",
   "execution_count": 12,
   "id": "270cd68c",
   "metadata": {},
   "outputs": [
    {
     "data": {
      "text/plain": [
       "90"
      ]
     },
     "execution_count": 12,
     "metadata": {},
     "output_type": "execute_result"
    }
   ],
   "source": [
    "notlar[-1]"
   ]
  },
  {
   "cell_type": "code",
   "execution_count": 13,
   "id": "1c299c5f",
   "metadata": {},
   "outputs": [
    {
     "ename": "IndexError",
     "evalue": "list index out of range",
     "output_type": "error",
     "traceback": [
      "\u001b[0;31m---------------------------------------------------------------------------\u001b[0m",
      "\u001b[0;31mIndexError\u001b[0m                                Traceback (most recent call last)",
      "Input \u001b[0;32mIn [13]\u001b[0m, in \u001b[0;36m<cell line: 1>\u001b[0;34m()\u001b[0m\n\u001b[0;32m----> 1\u001b[0m \u001b[43mnotlar\u001b[49m\u001b[43m[\u001b[49m\u001b[38;5;241;43m10\u001b[39;49m\u001b[43m]\u001b[49m\n",
      "\u001b[0;31mIndexError\u001b[0m: list index out of range"
     ]
    }
   ],
   "source": [
    "notlar[10]"
   ]
  },
  {
   "cell_type": "code",
   "execution_count": 14,
   "id": "ebd2c622",
   "metadata": {},
   "outputs": [
    {
     "data": {
      "text/plain": [
       "[80, 43, 65, 90]"
      ]
     },
     "execution_count": 14,
     "metadata": {},
     "output_type": "execute_result"
    }
   ],
   "source": [
    "notlar[1:]"
   ]
  },
  {
   "cell_type": "code",
   "execution_count": 15,
   "id": "b792270c",
   "metadata": {},
   "outputs": [
    {
     "data": {
      "text/plain": [
       "[80, 43]"
      ]
     },
     "execution_count": 15,
     "metadata": {},
     "output_type": "execute_result"
    }
   ],
   "source": [
    "notlar[1:3]"
   ]
  },
  {
   "cell_type": "code",
   "execution_count": 16,
   "id": "d26f899d",
   "metadata": {},
   "outputs": [
    {
     "data": {
      "text/plain": [
       "[78, 80, 43, 65, 90]"
      ]
     },
     "execution_count": 16,
     "metadata": {},
     "output_type": "execute_result"
    }
   ],
   "source": [
    "notlar[:200]"
   ]
  },
  {
   "cell_type": "markdown",
   "id": "fd88e38e",
   "metadata": {},
   "source": [
    "### Listlerin Elemanları Değiştirilebilir\n",
    "---\n",
    "- Listler **mutable** veri tipleridir. Elemanlarını güncelleyebiliriz."
   ]
  },
  {
   "cell_type": "code",
   "execution_count": 17,
   "id": "3bfb1f83",
   "metadata": {},
   "outputs": [
    {
     "data": {
      "text/plain": [
       "[78, 80, 43, 65, 90]"
      ]
     },
     "execution_count": 17,
     "metadata": {},
     "output_type": "execute_result"
    }
   ],
   "source": [
    "notlar"
   ]
  },
  {
   "cell_type": "code",
   "execution_count": 18,
   "id": "d3b3080d",
   "metadata": {},
   "outputs": [],
   "source": [
    "notlar[1] += 5 # notlar[1] = notlar[1] + 5"
   ]
  },
  {
   "cell_type": "code",
   "execution_count": 19,
   "id": "ccc16165",
   "metadata": {},
   "outputs": [
    {
     "data": {
      "text/plain": [
       "[78, 85, 43, 65, 90]"
      ]
     },
     "execution_count": 19,
     "metadata": {},
     "output_type": "execute_result"
    }
   ],
   "source": [
    "notlar"
   ]
  },
  {
   "cell_type": "markdown",
   "id": "79ef5626",
   "metadata": {},
   "source": [
    "- Birden çok elemanı da değiştirebiliriz."
   ]
  },
  {
   "cell_type": "code",
   "execution_count": 20,
   "id": "02263da1",
   "metadata": {},
   "outputs": [],
   "source": [
    "l = [1, 2, 3, 4]"
   ]
  },
  {
   "cell_type": "code",
   "execution_count": 21,
   "id": "70539729",
   "metadata": {},
   "outputs": [
    {
     "data": {
      "text/plain": [
       "[1, 2, 3]"
      ]
     },
     "execution_count": 21,
     "metadata": {},
     "output_type": "execute_result"
    }
   ],
   "source": [
    "l[0:3]"
   ]
  },
  {
   "cell_type": "code",
   "execution_count": 22,
   "id": "dc68b8f3",
   "metadata": {},
   "outputs": [],
   "source": [
    "l[0:3] = 30, 40, 60"
   ]
  },
  {
   "cell_type": "code",
   "execution_count": 23,
   "id": "5a19a4c5",
   "metadata": {},
   "outputs": [
    {
     "data": {
      "text/plain": [
       "[30, 40, 60, 4]"
      ]
     },
     "execution_count": 23,
     "metadata": {},
     "output_type": "execute_result"
    }
   ],
   "source": [
    "l"
   ]
  },
  {
   "cell_type": "markdown",
   "id": "cce57ad6",
   "metadata": {},
   "source": [
    "- Eşit sayıda vermemiz de gerekmez, l[0:3] olacak yere sadece solda yazdığımız yazılır."
   ]
  },
  {
   "cell_type": "code",
   "execution_count": 24,
   "id": "54c7ae04",
   "metadata": {},
   "outputs": [],
   "source": [
    "l[0:3] = 30, 40"
   ]
  },
  {
   "cell_type": "code",
   "execution_count": 25,
   "id": "499c8bf8",
   "metadata": {},
   "outputs": [
    {
     "data": {
      "text/plain": [
       "[30, 40, 4]"
      ]
     },
     "execution_count": 25,
     "metadata": {},
     "output_type": "execute_result"
    }
   ],
   "source": [
    "l"
   ]
  },
  {
   "cell_type": "code",
   "execution_count": 26,
   "id": "ff0e222c",
   "metadata": {},
   "outputs": [],
   "source": [
    "l = [1, 2, 3, 4]"
   ]
  },
  {
   "cell_type": "code",
   "execution_count": 27,
   "id": "2a619816",
   "metadata": {},
   "outputs": [
    {
     "ename": "TypeError",
     "evalue": "can only assign an iterable",
     "output_type": "error",
     "traceback": [
      "\u001b[0;31m---------------------------------------------------------------------------\u001b[0m",
      "\u001b[0;31mTypeError\u001b[0m                                 Traceback (most recent call last)",
      "Input \u001b[0;32mIn [27]\u001b[0m, in \u001b[0;36m<cell line: 1>\u001b[0;34m()\u001b[0m\n\u001b[0;32m----> 1\u001b[0m l[\u001b[38;5;241m0\u001b[39m:\u001b[38;5;241m3\u001b[39m] \u001b[38;5;241m=\u001b[39m \u001b[38;5;241m30\u001b[39m\n",
      "\u001b[0;31mTypeError\u001b[0m: can only assign an iterable"
     ]
    }
   ],
   "source": [
    "l[0:3] = 30"
   ]
  },
  {
   "cell_type": "markdown",
   "id": "ec7ebc33",
   "metadata": {},
   "source": [
    "- Slicing'in sonucuna tek bir değer yazacaksak bile direkt tek olarak veremeyiz, **iterable** olması gerekir. Şimdilik sol tarafı list olarak verebileceğimizi bilmeniz yeterli."
   ]
  },
  {
   "cell_type": "code",
   "execution_count": 28,
   "id": "3d8877fd",
   "metadata": {},
   "outputs": [],
   "source": [
    "l[0:3] = [30]"
   ]
  },
  {
   "cell_type": "code",
   "execution_count": 29,
   "id": "0e0a6cab",
   "metadata": {},
   "outputs": [
    {
     "data": {
      "text/plain": [
       "[30, 4]"
      ]
     },
     "execution_count": 29,
     "metadata": {},
     "output_type": "execute_result"
    }
   ],
   "source": [
    "l"
   ]
  },
  {
   "cell_type": "markdown",
   "id": "43bf4890",
   "metadata": {},
   "source": [
    "### len()\n",
    "---\n",
    "- Bize list'te kaç eleman olduğunu verir."
   ]
  },
  {
   "cell_type": "code",
   "execution_count": 30,
   "id": "ef8efc56",
   "metadata": {},
   "outputs": [
    {
     "data": {
      "text/plain": [
       "[30, 4]"
      ]
     },
     "execution_count": 30,
     "metadata": {},
     "output_type": "execute_result"
    }
   ],
   "source": [
    "l"
   ]
  },
  {
   "cell_type": "code",
   "execution_count": 31,
   "id": "7a62131b",
   "metadata": {},
   "outputs": [
    {
     "data": {
      "text/plain": [
       "2"
      ]
     },
     "execution_count": 31,
     "metadata": {},
     "output_type": "execute_result"
    }
   ],
   "source": [
    "len(l)"
   ]
  },
  {
   "cell_type": "markdown",
   "id": "0adc59e0",
   "metadata": {},
   "source": [
    "### Listin Sonuna Eleman Eklemek\n",
    "### append()\n",
    "---\n",
    "- İçine yazılan elemanı listenin sonuna ekler."
   ]
  },
  {
   "cell_type": "code",
   "execution_count": 32,
   "id": "938aa5fb",
   "metadata": {},
   "outputs": [],
   "source": [
    "l = [1,2,3]"
   ]
  },
  {
   "cell_type": "code",
   "execution_count": 33,
   "id": "9b8b1069",
   "metadata": {},
   "outputs": [],
   "source": [
    "l.append(200)"
   ]
  },
  {
   "cell_type": "code",
   "execution_count": 34,
   "id": "72e0dbff",
   "metadata": {},
   "outputs": [
    {
     "data": {
      "text/plain": [
       "[1, 2, 3, 200]"
      ]
     },
     "execution_count": 34,
     "metadata": {},
     "output_type": "execute_result"
    }
   ],
   "source": [
    "l"
   ]
  },
  {
   "cell_type": "markdown",
   "id": "8977d5ff",
   "metadata": {},
   "source": [
    "### extend()\n",
    "---\n",
    "- İçine yazılan birden çok elemanı listenin sonuna ekler."
   ]
  },
  {
   "cell_type": "code",
   "execution_count": 35,
   "id": "131593db",
   "metadata": {},
   "outputs": [],
   "source": [
    "l = [1,2,3]"
   ]
  },
  {
   "cell_type": "code",
   "execution_count": 36,
   "id": "57fab9f5",
   "metadata": {},
   "outputs": [],
   "source": [
    "l.extend([100,200,300])"
   ]
  },
  {
   "cell_type": "code",
   "execution_count": 37,
   "id": "cd0b86de",
   "metadata": {},
   "outputs": [
    {
     "data": {
      "text/plain": [
       "[1, 2, 3, 100, 200, 300]"
      ]
     },
     "execution_count": 37,
     "metadata": {},
     "output_type": "execute_result"
    }
   ],
   "source": [
    "l"
   ]
  },
  {
   "cell_type": "markdown",
   "id": "c3c27555",
   "metadata": {},
   "source": [
    "### Spesifik Bir Indexe Eleman Eklemek\n",
    "---\n",
    "- Belki list'in sonuna değil, spesifik bir indexine eleman eklemek istiyoruz. Bunu **insert()** ile yapabiliriz."
   ]
  },
  {
   "cell_type": "code",
   "execution_count": 38,
   "id": "1e9c3112",
   "metadata": {},
   "outputs": [],
   "source": [
    "l = [1, 2, 3, 4, 5]"
   ]
  },
  {
   "cell_type": "code",
   "execution_count": 39,
   "id": "f4d108e8",
   "metadata": {},
   "outputs": [],
   "source": [
    "l[0] = 100"
   ]
  },
  {
   "cell_type": "code",
   "execution_count": 40,
   "id": "3100d82e",
   "metadata": {},
   "outputs": [
    {
     "data": {
      "text/plain": [
       "[100, 2, 3, 4, 5]"
      ]
     },
     "execution_count": 40,
     "metadata": {},
     "output_type": "execute_result"
    }
   ],
   "source": [
    "l"
   ]
  },
  {
   "cell_type": "code",
   "execution_count": 41,
   "id": "5d03fded",
   "metadata": {},
   "outputs": [],
   "source": [
    "l = [1, 2, 3, 4, 5]"
   ]
  },
  {
   "cell_type": "code",
   "execution_count": 42,
   "id": "79d0add7",
   "metadata": {},
   "outputs": [],
   "source": [
    "l.insert(0, 100) # is not l[0] = 100"
   ]
  },
  {
   "cell_type": "code",
   "execution_count": 43,
   "id": "df357477",
   "metadata": {},
   "outputs": [
    {
     "data": {
      "text/plain": [
       "[100, 1, 2, 3, 4, 5]"
      ]
     },
     "execution_count": 43,
     "metadata": {},
     "output_type": "execute_result"
    }
   ],
   "source": [
    "l"
   ]
  },
  {
   "cell_type": "markdown",
   "id": "0367b9f9",
   "metadata": {},
   "source": [
    "- eğer l[0] = 100 yazmış olsaydık, liste 100,2,3,4,5 e dönerdi, ama ben 1->100 dönüşümü yapmak istemiyorum, ilk indexe 100'ü eklemek istiyorum. l.insert(0,100) tam da istediğimi yapıyor. 0. indexe 100 değerini yazıyor ve **1** değerini sağa kaydırıyor, listeden silmemiş oluyor."
   ]
  },
  {
   "cell_type": "code",
   "execution_count": 44,
   "id": "04e6a2ed",
   "metadata": {},
   "outputs": [
    {
     "data": {
      "text/plain": [
       "[100, 1, 2, 3, 4, 5]"
      ]
     },
     "execution_count": 44,
     "metadata": {},
     "output_type": "execute_result"
    }
   ],
   "source": [
    "l"
   ]
  },
  {
   "cell_type": "code",
   "execution_count": 45,
   "id": "206527b3",
   "metadata": {},
   "outputs": [],
   "source": [
    "l.insert(3,44)"
   ]
  },
  {
   "cell_type": "code",
   "execution_count": 46,
   "id": "c7746057",
   "metadata": {},
   "outputs": [
    {
     "data": {
      "text/plain": [
       "[100, 1, 2, 44, 3, 4, 5]"
      ]
     },
     "execution_count": 46,
     "metadata": {},
     "output_type": "execute_result"
    }
   ],
   "source": [
    "l"
   ]
  },
  {
   "cell_type": "markdown",
   "id": "f62ec71f",
   "metadata": {},
   "source": [
    "### remove()\n",
    "---\n",
    "- Belirli bir elemanı listeden silmemize yarar. Eğer yazılan eleman listede yoksa error verir."
   ]
  },
  {
   "cell_type": "code",
   "execution_count": 48,
   "id": "4b951e0b",
   "metadata": {},
   "outputs": [],
   "source": [
    "l = [1,2,3,4]"
   ]
  },
  {
   "cell_type": "code",
   "execution_count": 49,
   "id": "0b70e953",
   "metadata": {},
   "outputs": [
    {
     "ename": "ValueError",
     "evalue": "list.remove(x): x not in list",
     "output_type": "error",
     "traceback": [
      "\u001b[0;31m---------------------------------------------------------------------------\u001b[0m",
      "\u001b[0;31mValueError\u001b[0m                                Traceback (most recent call last)",
      "Input \u001b[0;32mIn [49]\u001b[0m, in \u001b[0;36m<cell line: 1>\u001b[0;34m()\u001b[0m\n\u001b[0;32m----> 1\u001b[0m \u001b[43ml\u001b[49m\u001b[38;5;241;43m.\u001b[39;49m\u001b[43mremove\u001b[49m\u001b[43m(\u001b[49m\u001b[38;5;241;43m40\u001b[39;49m\u001b[43m)\u001b[49m\n",
      "\u001b[0;31mValueError\u001b[0m: list.remove(x): x not in list"
     ]
    }
   ],
   "source": [
    "l.remove(40)"
   ]
  },
  {
   "cell_type": "markdown",
   "id": "9816b666",
   "metadata": {},
   "source": [
    "- Bunu try-except ile çözebiliriz: "
   ]
  },
  {
   "cell_type": "code",
   "execution_count": 50,
   "id": "da35e8f6",
   "metadata": {},
   "outputs": [],
   "source": [
    "try:\n",
    "    l.remove(40)\n",
    "except ValueError:\n",
    "    pass"
   ]
  },
  {
   "cell_type": "markdown",
   "id": "b68828cb",
   "metadata": {},
   "source": [
    "- remove() sadece ilk gördüğü değeri siler. l.remove(40) dersem ve listede 1'den çok 40 varsa ilk gördüğünü siler."
   ]
  },
  {
   "cell_type": "code",
   "execution_count": 51,
   "id": "f6dadf96",
   "metadata": {},
   "outputs": [],
   "source": [
    "l = [1,2,3,40,30,40]"
   ]
  },
  {
   "cell_type": "code",
   "execution_count": 52,
   "id": "0fdab347",
   "metadata": {},
   "outputs": [],
   "source": [
    "l.remove(40)"
   ]
  },
  {
   "cell_type": "code",
   "execution_count": 53,
   "id": "7b32118f",
   "metadata": {},
   "outputs": [
    {
     "data": {
      "text/plain": [
       "[1, 2, 3, 30, 40]"
      ]
     },
     "execution_count": 53,
     "metadata": {},
     "output_type": "execute_result"
    }
   ],
   "source": [
    "l"
   ]
  },
  {
   "cell_type": "markdown",
   "id": "681ea84c",
   "metadata": {},
   "source": [
    "### pop()\n",
    "---\n",
    "- listenin belirli indexindeki elemanı silmeye ve o değeri döndürmeye yarar.\n",
    "- **remove()** sadece siliyordu, **pop()** aynı zamanda o değeri döndürüyor."
   ]
  },
  {
   "cell_type": "code",
   "execution_count": 54,
   "id": "f4f9b6dc",
   "metadata": {},
   "outputs": [],
   "source": [
    "l = [1,2,3,4,5,6]"
   ]
  },
  {
   "cell_type": "code",
   "execution_count": 55,
   "id": "7935d662",
   "metadata": {},
   "outputs": [
    {
     "data": {
      "text/plain": [
       "2"
      ]
     },
     "execution_count": 55,
     "metadata": {},
     "output_type": "execute_result"
    }
   ],
   "source": [
    "# It deletes and return the value, remove() just removes it\n",
    "l.pop(1)"
   ]
  },
  {
   "cell_type": "code",
   "execution_count": 56,
   "id": "bda655e6",
   "metadata": {},
   "outputs": [
    {
     "data": {
      "text/plain": [
       "[1, 3, 4, 5, 6]"
      ]
     },
     "execution_count": 56,
     "metadata": {},
     "output_type": "execute_result"
    }
   ],
   "source": [
    "l"
   ]
  },
  {
   "cell_type": "code",
   "execution_count": 57,
   "id": "be5c747e",
   "metadata": {},
   "outputs": [],
   "source": [
    "l = [1,2,3,4,5,6]"
   ]
  },
  {
   "cell_type": "code",
   "execution_count": 58,
   "id": "7decd2b7",
   "metadata": {},
   "outputs": [
    {
     "data": {
      "text/plain": [
       "6"
      ]
     },
     "execution_count": 58,
     "metadata": {},
     "output_type": "execute_result"
    }
   ],
   "source": [
    "l.pop(1) + 4"
   ]
  },
  {
   "cell_type": "code",
   "execution_count": 59,
   "id": "65c78919",
   "metadata": {},
   "outputs": [
    {
     "ename": "IndexError",
     "evalue": "pop index out of range",
     "output_type": "error",
     "traceback": [
      "\u001b[0;31m---------------------------------------------------------------------------\u001b[0m",
      "\u001b[0;31mIndexError\u001b[0m                                Traceback (most recent call last)",
      "Input \u001b[0;32mIn [59]\u001b[0m, in \u001b[0;36m<cell line: 2>\u001b[0;34m()\u001b[0m\n\u001b[1;32m      1\u001b[0m \u001b[38;5;66;03m# out of range error\u001b[39;00m\n\u001b[0;32m----> 2\u001b[0m \u001b[43ml\u001b[49m\u001b[38;5;241;43m.\u001b[39;49m\u001b[43mpop\u001b[49m\u001b[43m(\u001b[49m\u001b[38;5;241;43m100\u001b[39;49m\u001b[43m)\u001b[49m\n",
      "\u001b[0;31mIndexError\u001b[0m: pop index out of range"
     ]
    }
   ],
   "source": [
    "# out of range error\n",
    "l.pop(100)"
   ]
  },
  {
   "cell_type": "markdown",
   "id": "a74b2449",
   "metadata": {},
   "source": [
    "### count()\n",
    "---\n",
    "- **count()**'un içine yazdığımız değerin listede kaç defa göründüğünü döndürür."
   ]
  },
  {
   "cell_type": "code",
   "execution_count": 60,
   "id": "3cfb6297",
   "metadata": {},
   "outputs": [],
   "source": [
    "l = [1, 2, 44, 4, 5, 1]"
   ]
  },
  {
   "cell_type": "code",
   "execution_count": 61,
   "id": "dc055f73",
   "metadata": {},
   "outputs": [
    {
     "data": {
      "text/plain": [
       "2"
      ]
     },
     "execution_count": 61,
     "metadata": {},
     "output_type": "execute_result"
    }
   ],
   "source": [
    "l.count(1)"
   ]
  },
  {
   "cell_type": "code",
   "execution_count": 62,
   "id": "06549fb0",
   "metadata": {},
   "outputs": [
    {
     "data": {
      "text/plain": [
       "1"
      ]
     },
     "execution_count": 62,
     "metadata": {},
     "output_type": "execute_result"
    }
   ],
   "source": [
    "l.count(44)"
   ]
  },
  {
   "cell_type": "code",
   "execution_count": 63,
   "id": "7fa915c0",
   "metadata": {},
   "outputs": [
    {
     "data": {
      "text/plain": [
       "0"
      ]
     },
     "execution_count": 63,
     "metadata": {},
     "output_type": "execute_result"
    }
   ],
   "source": [
    "l.count(1000)"
   ]
  },
  {
   "cell_type": "markdown",
   "id": "d7e1e23c",
   "metadata": {},
   "source": [
    "## Aliasing\n",
    "---\n",
    "- Listeler bilgisayarın hafızasında integer, float gibi veri tiplerinin tutulduğundan biraz daha farklı tutuluyor.\n",
    "- **a = 2** dediğimiz zaman hafızada **a** adında bir kutucuk oluşturuluyor demiştik."
   ]
  },
  {
   "cell_type": "code",
   "execution_count": 64,
   "id": "4fb0acbd",
   "metadata": {},
   "outputs": [],
   "source": [
    "a = 2"
   ]
  },
  {
   "cell_type": "markdown",
   "id": "116f3b99",
   "metadata": {},
   "source": [
    "- **a** direkt o kutunun adı oluyor.\n",
    "- Ama listelerde durum böyle değil. **l = [1,2,3]** gibi bir liste yarattığımızda, **l** kutunun adı değil, kutuyu işaret eden etiketin adı oluyor."
   ]
  },
  {
   "cell_type": "code",
   "execution_count": 65,
   "id": "cd2c69d3",
   "metadata": {},
   "outputs": [],
   "source": [
    "l = [1,2,3]"
   ]
  },
  {
   "cell_type": "markdown",
   "id": "8e043187",
   "metadata": {},
   "source": [
    "- Bu farkın getirdiği bazı yan etkiler var.\n",
    "- Mesela kutunun adı direkt değişken adı olduğunda ve aşağıdaki işlemi yaptığımızda:"
   ]
  },
  {
   "cell_type": "code",
   "execution_count": 66,
   "id": "d785cff7",
   "metadata": {},
   "outputs": [],
   "source": [
    "a = 2\n",
    "\n",
    "b = a"
   ]
  },
  {
   "cell_type": "code",
   "execution_count": 67,
   "id": "a7fde152",
   "metadata": {},
   "outputs": [
    {
     "data": {
      "text/plain": [
       "2"
      ]
     },
     "execution_count": 67,
     "metadata": {},
     "output_type": "execute_result"
    }
   ],
   "source": [
    "b"
   ]
  },
  {
   "cell_type": "code",
   "execution_count": 68,
   "id": "ae14ffda",
   "metadata": {},
   "outputs": [],
   "source": [
    "a = a + 1"
   ]
  },
  {
   "cell_type": "code",
   "execution_count": 69,
   "id": "7904dd19",
   "metadata": {},
   "outputs": [
    {
     "data": {
      "text/plain": [
       "3"
      ]
     },
     "execution_count": 69,
     "metadata": {},
     "output_type": "execute_result"
    }
   ],
   "source": [
    "a"
   ]
  },
  {
   "cell_type": "code",
   "execution_count": 70,
   "id": "d33a9854",
   "metadata": {},
   "outputs": [
    {
     "data": {
      "text/plain": [
       "2"
      ]
     },
     "execution_count": 70,
     "metadata": {},
     "output_type": "execute_result"
    }
   ],
   "source": [
    "b"
   ]
  },
  {
   "cell_type": "markdown",
   "id": "fb45669e",
   "metadata": {},
   "source": [
    "- **a** yı güncellesek de **b** güncellenmiyor. **b** sadece **a** kutusunun değerine eşit olmuş oldu, kutunun kendisine değil.\n",
    "- Aynısını listlerde yaptığımızda:"
   ]
  },
  {
   "cell_type": "code",
   "execution_count": 71,
   "id": "9db89e3a",
   "metadata": {},
   "outputs": [],
   "source": [
    "l = [1,2,3]"
   ]
  },
  {
   "cell_type": "code",
   "execution_count": 72,
   "id": "c41063d0",
   "metadata": {},
   "outputs": [],
   "source": [
    "l2 = l"
   ]
  },
  {
   "cell_type": "code",
   "execution_count": 73,
   "id": "72cf9c98",
   "metadata": {},
   "outputs": [
    {
     "data": {
      "text/plain": [
       "[1, 2, 3]"
      ]
     },
     "execution_count": 73,
     "metadata": {},
     "output_type": "execute_result"
    }
   ],
   "source": [
    "l"
   ]
  },
  {
   "cell_type": "code",
   "execution_count": 74,
   "id": "398be1b9",
   "metadata": {},
   "outputs": [
    {
     "data": {
      "text/plain": [
       "[1, 2, 3]"
      ]
     },
     "execution_count": 74,
     "metadata": {},
     "output_type": "execute_result"
    }
   ],
   "source": [
    "l2"
   ]
  },
  {
   "cell_type": "code",
   "execution_count": 75,
   "id": "f623f6b0",
   "metadata": {},
   "outputs": [],
   "source": [
    "l[0] = 200"
   ]
  },
  {
   "cell_type": "code",
   "execution_count": 76,
   "id": "9d4c624d",
   "metadata": {},
   "outputs": [
    {
     "data": {
      "text/plain": [
       "[200, 2, 3]"
      ]
     },
     "execution_count": 76,
     "metadata": {},
     "output_type": "execute_result"
    }
   ],
   "source": [
    "l"
   ]
  },
  {
   "cell_type": "code",
   "execution_count": 77,
   "id": "aaa08287",
   "metadata": {},
   "outputs": [
    {
     "data": {
      "text/plain": [
       "[200, 2, 3]"
      ]
     },
     "execution_count": 77,
     "metadata": {},
     "output_type": "execute_result"
    }
   ],
   "source": [
    "l2"
   ]
  },
  {
   "cell_type": "markdown",
   "id": "9e9a88b0",
   "metadata": {},
   "source": [
    "- l2 de güncellendi!\n",
    "- Çünkü **l2 = l** dediğimizde l2, l etiketinin değerine eşit oldu, iki etikette aynı kutuyu, veri objesini gösteriyor, o yüzden listeyi güncellemem ikisine de yansıyor.\n",
    "- Git aynı değerle başka bir kutucuk yarat ve oraya etiket ol diyerek güncellenmemesini sağlayabilirim.\n",
    "- Bunu copy() ile yapacağız."
   ]
  },
  {
   "cell_type": "code",
   "execution_count": 78,
   "id": "dc1c9734",
   "metadata": {},
   "outputs": [],
   "source": [
    "l2 = l.copy()"
   ]
  },
  {
   "cell_type": "code",
   "execution_count": 79,
   "id": "378cb7e6",
   "metadata": {},
   "outputs": [
    {
     "data": {
      "text/plain": [
       "[200, 2, 3]"
      ]
     },
     "execution_count": 79,
     "metadata": {},
     "output_type": "execute_result"
    }
   ],
   "source": [
    "l"
   ]
  },
  {
   "cell_type": "code",
   "execution_count": 80,
   "id": "28d7d301",
   "metadata": {},
   "outputs": [
    {
     "data": {
      "text/plain": [
       "[200, 2, 3]"
      ]
     },
     "execution_count": 80,
     "metadata": {},
     "output_type": "execute_result"
    }
   ],
   "source": [
    "l2"
   ]
  },
  {
   "cell_type": "code",
   "execution_count": 81,
   "id": "93ef648f",
   "metadata": {},
   "outputs": [],
   "source": [
    "l[0] = 300"
   ]
  },
  {
   "cell_type": "code",
   "execution_count": 82,
   "id": "60f3e196",
   "metadata": {},
   "outputs": [
    {
     "data": {
      "text/plain": [
       "[300, 2, 3]"
      ]
     },
     "execution_count": 82,
     "metadata": {},
     "output_type": "execute_result"
    }
   ],
   "source": [
    "l"
   ]
  },
  {
   "cell_type": "code",
   "execution_count": 83,
   "id": "1e88af24",
   "metadata": {},
   "outputs": [
    {
     "data": {
      "text/plain": [
       "[200, 2, 3]"
      ]
     },
     "execution_count": 83,
     "metadata": {},
     "output_type": "execute_result"
    }
   ],
   "source": [
    "l2"
   ]
  },
  {
   "cell_type": "markdown",
   "id": "a8c8b921",
   "metadata": {},
   "source": [
    "### List Concatenation\n",
    "---\n",
    "- \"**+**\" operatörü listlerde concatenation yapar."
   ]
  },
  {
   "cell_type": "code",
   "execution_count": 84,
   "id": "9c76931f",
   "metadata": {},
   "outputs": [],
   "source": [
    "l = [1,2,3]"
   ]
  },
  {
   "cell_type": "code",
   "execution_count": 85,
   "id": "37675c8a",
   "metadata": {},
   "outputs": [],
   "source": [
    "l2 = [4,5,6]"
   ]
  },
  {
   "cell_type": "code",
   "execution_count": 86,
   "id": "cc99c7e7",
   "metadata": {},
   "outputs": [
    {
     "data": {
      "text/plain": [
       "[1, 2, 3]"
      ]
     },
     "execution_count": 86,
     "metadata": {},
     "output_type": "execute_result"
    }
   ],
   "source": [
    "l"
   ]
  },
  {
   "cell_type": "code",
   "execution_count": 87,
   "id": "97e7f5b7",
   "metadata": {},
   "outputs": [
    {
     "data": {
      "text/plain": [
       "[4, 5, 6]"
      ]
     },
     "execution_count": 87,
     "metadata": {},
     "output_type": "execute_result"
    }
   ],
   "source": [
    "l2"
   ]
  },
  {
   "cell_type": "code",
   "execution_count": 88,
   "id": "6fb21a6f",
   "metadata": {},
   "outputs": [
    {
     "data": {
      "text/plain": [
       "[1, 2, 3, 4, 5, 6]"
      ]
     },
     "execution_count": 88,
     "metadata": {},
     "output_type": "execute_result"
    }
   ],
   "source": [
    "l + l2"
   ]
  },
  {
   "cell_type": "code",
   "execution_count": 89,
   "id": "7d0ce168",
   "metadata": {},
   "outputs": [],
   "source": [
    "l3 = l + l2"
   ]
  },
  {
   "cell_type": "code",
   "execution_count": 90,
   "id": "0d298da6",
   "metadata": {},
   "outputs": [
    {
     "data": {
      "text/plain": [
       "[1, 2, 3, 4, 5, 6]"
      ]
     },
     "execution_count": 90,
     "metadata": {},
     "output_type": "execute_result"
    }
   ],
   "source": [
    "l3"
   ]
  },
  {
   "cell_type": "markdown",
   "id": "1451b43e",
   "metadata": {},
   "source": [
    "### Belirli Bir Elemanın Indexini Bulmak\n",
    "---"
   ]
  },
  {
   "cell_type": "code",
   "execution_count": 91,
   "id": "2eef9985",
   "metadata": {},
   "outputs": [],
   "source": [
    "l = [1, 2, 3, 4, 3, 5, 6]"
   ]
  },
  {
   "cell_type": "code",
   "execution_count": 92,
   "id": "c984c55b",
   "metadata": {},
   "outputs": [
    {
     "data": {
      "text/plain": [
       "[1, 2, 3, 4, 3, 5, 6]"
      ]
     },
     "execution_count": 92,
     "metadata": {},
     "output_type": "execute_result"
    }
   ],
   "source": [
    "l"
   ]
  },
  {
   "cell_type": "code",
   "execution_count": 93,
   "id": "68411299",
   "metadata": {},
   "outputs": [
    {
     "data": {
      "text/plain": [
       "2"
      ]
     },
     "execution_count": 93,
     "metadata": {},
     "output_type": "execute_result"
    }
   ],
   "source": [
    "# İlk hangi indexte görünüyorsa onun değerini döndürür.\n",
    "l.index(3)"
   ]
  },
  {
   "cell_type": "code",
   "execution_count": 94,
   "id": "b18bad2d",
   "metadata": {},
   "outputs": [
    {
     "data": {
      "text/plain": [
       "3"
      ]
     },
     "execution_count": 94,
     "metadata": {},
     "output_type": "execute_result"
    }
   ],
   "source": [
    "l.index(4)"
   ]
  },
  {
   "cell_type": "code",
   "execution_count": 95,
   "id": "79ceb49d",
   "metadata": {},
   "outputs": [
    {
     "ename": "ValueError",
     "evalue": "100 is not in list",
     "output_type": "error",
     "traceback": [
      "\u001b[0;31m---------------------------------------------------------------------------\u001b[0m",
      "\u001b[0;31mValueError\u001b[0m                                Traceback (most recent call last)",
      "Input \u001b[0;32mIn [95]\u001b[0m, in \u001b[0;36m<cell line: 2>\u001b[0;34m()\u001b[0m\n\u001b[1;32m      1\u001b[0m \u001b[38;5;66;03m# listede olmayan değerler için error verir.\u001b[39;00m\n\u001b[0;32m----> 2\u001b[0m \u001b[43ml\u001b[49m\u001b[38;5;241;43m.\u001b[39;49m\u001b[43mindex\u001b[49m\u001b[43m(\u001b[49m\u001b[38;5;241;43m100\u001b[39;49m\u001b[43m)\u001b[49m\n",
      "\u001b[0;31mValueError\u001b[0m: 100 is not in list"
     ]
    }
   ],
   "source": [
    "# listede olmayan değerler için error verir.\n",
    "l.index(100)"
   ]
  },
  {
   "cell_type": "markdown",
   "id": "dbaf524a",
   "metadata": {},
   "source": [
    "### List'i Tersine Çevirmek\n",
    "---"
   ]
  },
  {
   "cell_type": "code",
   "execution_count": 99,
   "id": "bc586298",
   "metadata": {},
   "outputs": [],
   "source": [
    "l = [1,2,3,4]"
   ]
  },
  {
   "cell_type": "code",
   "execution_count": 100,
   "id": "714fe4a2",
   "metadata": {},
   "outputs": [
    {
     "data": {
      "text/plain": [
       "[1, 2, 3, 4]"
      ]
     },
     "execution_count": 100,
     "metadata": {},
     "output_type": "execute_result"
    }
   ],
   "source": [
    "l"
   ]
  },
  {
   "cell_type": "code",
   "execution_count": 97,
   "id": "b49ab785",
   "metadata": {},
   "outputs": [],
   "source": [
    "l.reverse() # inplace: yani l'yi günceller."
   ]
  },
  {
   "cell_type": "code",
   "execution_count": 98,
   "id": "7357ec1c",
   "metadata": {},
   "outputs": [
    {
     "data": {
      "text/plain": [
       "[4, 3, 2, 1]"
      ]
     },
     "execution_count": 98,
     "metadata": {},
     "output_type": "execute_result"
    }
   ],
   "source": [
    "l"
   ]
  },
  {
   "cell_type": "code",
   "execution_count": 101,
   "id": "0d1ba915",
   "metadata": {},
   "outputs": [],
   "source": [
    "l = [1,2,3,4]"
   ]
  },
  {
   "cell_type": "markdown",
   "id": "80f3887d",
   "metadata": {},
   "source": [
    "- Aynısını slicing mantığı ile de yapabilirdik."
   ]
  },
  {
   "cell_type": "code",
   "execution_count": 102,
   "id": "d9e368df",
   "metadata": {},
   "outputs": [
    {
     "data": {
      "text/plain": [
       "[4, 3, 2, 1]"
      ]
     },
     "execution_count": 102,
     "metadata": {},
     "output_type": "execute_result"
    }
   ],
   "source": [
    "l[::-1]"
   ]
  },
  {
   "cell_type": "code",
   "execution_count": 104,
   "id": "507757d2",
   "metadata": {},
   "outputs": [],
   "source": [
    "l3 = l[::-1]"
   ]
  },
  {
   "cell_type": "code",
   "execution_count": 105,
   "id": "3cf411a1",
   "metadata": {},
   "outputs": [
    {
     "data": {
      "text/plain": [
       "[4, 3, 2, 1]"
      ]
     },
     "execution_count": 105,
     "metadata": {},
     "output_type": "execute_result"
    }
   ],
   "source": [
    "l3"
   ]
  },
  {
   "cell_type": "markdown",
   "id": "569b40c0",
   "metadata": {},
   "source": [
    "- Orijinalini güncellemiyor, güncellemesi için variable assignment yapmamız lazım."
   ]
  },
  {
   "cell_type": "markdown",
   "id": "4f8c8d59",
   "metadata": {},
   "source": [
    "### List'in Elemanlarını Sıralamak (sorting)\n",
    "---\n",
    "- **sorted()** orijinal listeyi güncellemez.\n",
    "- **sorted()** ve **.sort()** a bakacağız. İkisi de default olarak küçükten büyüğe sıralar. Sayısal verilerde sayısal değerine göre, stringlerde alfabetik sıraya göre sıralar."
   ]
  },
  {
   "cell_type": "code",
   "execution_count": 106,
   "id": "3f73cac8",
   "metadata": {},
   "outputs": [],
   "source": [
    "l = [\"b\",\"a\",\"c\"]"
   ]
  },
  {
   "cell_type": "code",
   "execution_count": 107,
   "id": "a846e40b",
   "metadata": {},
   "outputs": [
    {
     "data": {
      "text/plain": [
       "['a', 'b', 'c']"
      ]
     },
     "execution_count": 107,
     "metadata": {},
     "output_type": "execute_result"
    }
   ],
   "source": [
    "sorted(l)"
   ]
  },
  {
   "cell_type": "code",
   "execution_count": 109,
   "id": "4739de8c",
   "metadata": {},
   "outputs": [
    {
     "data": {
      "text/plain": [
       "['b', 'a', 'c']"
      ]
     },
     "execution_count": 109,
     "metadata": {},
     "output_type": "execute_result"
    }
   ],
   "source": [
    "l"
   ]
  },
  {
   "cell_type": "code",
   "execution_count": 110,
   "id": "f21d05e8",
   "metadata": {},
   "outputs": [],
   "source": [
    "l3 = sorted(l)"
   ]
  },
  {
   "cell_type": "code",
   "execution_count": 111,
   "id": "def0b85c",
   "metadata": {},
   "outputs": [
    {
     "data": {
      "text/plain": [
       "['a', 'b', 'c']"
      ]
     },
     "execution_count": 111,
     "metadata": {},
     "output_type": "execute_result"
    }
   ],
   "source": [
    "l3"
   ]
  },
  {
   "cell_type": "markdown",
   "id": "49014f3e",
   "metadata": {},
   "source": [
    "- **.sort()** günceller."
   ]
  },
  {
   "cell_type": "code",
   "execution_count": 112,
   "id": "46bf5d91",
   "metadata": {},
   "outputs": [],
   "source": [
    "l = [\"b\",\"a\",\"c\"]"
   ]
  },
  {
   "cell_type": "code",
   "execution_count": 113,
   "id": "b8cbaea8",
   "metadata": {},
   "outputs": [],
   "source": [
    "l.sort() # inplace"
   ]
  },
  {
   "cell_type": "code",
   "execution_count": 114,
   "id": "3f14b6e1",
   "metadata": {},
   "outputs": [
    {
     "data": {
      "text/plain": [
       "['a', 'b', 'c']"
      ]
     },
     "execution_count": 114,
     "metadata": {},
     "output_type": "execute_result"
    }
   ],
   "source": [
    "l"
   ]
  },
  {
   "cell_type": "code",
   "execution_count": 115,
   "id": "2e9a9e3f",
   "metadata": {},
   "outputs": [],
   "source": [
    "l = [1,2,10,3,-1]"
   ]
  },
  {
   "cell_type": "code",
   "execution_count": 116,
   "id": "bc335c8f",
   "metadata": {},
   "outputs": [
    {
     "data": {
      "text/plain": [
       "[-1, 1, 2, 3, 10]"
      ]
     },
     "execution_count": 116,
     "metadata": {},
     "output_type": "execute_result"
    }
   ],
   "source": [
    "sorted(l)"
   ]
  },
  {
   "cell_type": "code",
   "execution_count": 117,
   "id": "d58db763",
   "metadata": {},
   "outputs": [
    {
     "data": {
      "text/plain": [
       "[1, 2, 10, 3, -1]"
      ]
     },
     "execution_count": 117,
     "metadata": {},
     "output_type": "execute_result"
    }
   ],
   "source": [
    "l"
   ]
  },
  {
   "cell_type": "code",
   "execution_count": 118,
   "id": "cea84aca",
   "metadata": {},
   "outputs": [],
   "source": [
    "l.sort()"
   ]
  },
  {
   "cell_type": "code",
   "execution_count": 119,
   "id": "233080d9",
   "metadata": {},
   "outputs": [
    {
     "data": {
      "text/plain": [
       "[-1, 1, 2, 3, 10]"
      ]
     },
     "execution_count": 119,
     "metadata": {},
     "output_type": "execute_result"
    }
   ],
   "source": [
    "l"
   ]
  },
  {
   "cell_type": "markdown",
   "id": "d52312b6",
   "metadata": {},
   "source": [
    "# Tuple\n",
    "---\n",
    "- **tuple** veri tipi listeler gibi birden çok veri tipini bir arada tutmamızı sağlar.\n",
    "- listelerden farklı olarak **tuple**'lar **immutable**dır.\n",
    "- Mesela bir deniz fenerinin konumunu belirtmek istiyoruz. bunun x ve y koordinat değerleri var (x,y). Deniz fenerini söküp götüremiyoruz, ben bu iki değerin sabit, değiştirilemez olmasını istiyorum. Burada bu iki değeri tutmak için tuple kullanmam mantıklı olabilir.\n",
    "- Değişmeyeceğini bildiğim değerleri bir arada tutmak için.\n",
    "- **tuple**'lar **(element1,element2...)** şeklinde tanımlanır.\n",
    "- **tuple**'lar listeler gibi farklı veri yapılarında elemanlardan oluşabilir. Elemanları **tuple** bile olabilir."
   ]
  },
  {
   "cell_type": "code",
   "execution_count": 123,
   "id": "5e2f9236",
   "metadata": {},
   "outputs": [],
   "source": [
    "x = 10\n",
    "y = 34"
   ]
  },
  {
   "cell_type": "code",
   "execution_count": 125,
   "id": "dc99f2f0",
   "metadata": {},
   "outputs": [],
   "source": [
    "konum = (10, 34)"
   ]
  },
  {
   "cell_type": "code",
   "execution_count": 126,
   "id": "4aa0d101",
   "metadata": {},
   "outputs": [
    {
     "data": {
      "text/plain": [
       "10"
      ]
     },
     "execution_count": 126,
     "metadata": {},
     "output_type": "execute_result"
    }
   ],
   "source": [
    "konum[0]"
   ]
  },
  {
   "cell_type": "code",
   "execution_count": 127,
   "id": "f0814e3c",
   "metadata": {},
   "outputs": [
    {
     "data": {
      "text/plain": [
       "(10, 34)"
      ]
     },
     "execution_count": 127,
     "metadata": {},
     "output_type": "execute_result"
    }
   ],
   "source": [
    "konum[:]"
   ]
  },
  {
   "cell_type": "markdown",
   "id": "28dcd317",
   "metadata": {},
   "source": [
    "- Ama değerleri değiştiremiyoruz."
   ]
  },
  {
   "cell_type": "code",
   "execution_count": 128,
   "id": "d3f6148f",
   "metadata": {},
   "outputs": [
    {
     "ename": "TypeError",
     "evalue": "'tuple' object does not support item assignment",
     "output_type": "error",
     "traceback": [
      "\u001b[0;31m---------------------------------------------------------------------------\u001b[0m",
      "\u001b[0;31mTypeError\u001b[0m                                 Traceback (most recent call last)",
      "Input \u001b[0;32mIn [128]\u001b[0m, in \u001b[0;36m<cell line: 1>\u001b[0;34m()\u001b[0m\n\u001b[0;32m----> 1\u001b[0m konum[\u001b[38;5;241m0\u001b[39m] \u001b[38;5;241m=\u001b[39m \u001b[38;5;241m100\u001b[39m\n",
      "\u001b[0;31mTypeError\u001b[0m: 'tuple' object does not support item assignment"
     ]
    }
   ],
   "source": [
    "konum[0] = 100"
   ]
  },
  {
   "cell_type": "markdown",
   "id": "6dbc07b9",
   "metadata": {},
   "source": [
    "- Farklı veri tipleri barındırabiliyor."
   ]
  },
  {
   "cell_type": "code",
   "execution_count": 129,
   "id": "7b9cec09",
   "metadata": {},
   "outputs": [],
   "source": [
    "t = (1,2,3,\"a\")"
   ]
  },
  {
   "cell_type": "code",
   "execution_count": 130,
   "id": "5218d95c",
   "metadata": {},
   "outputs": [
    {
     "data": {
      "text/plain": [
       "(1, 2, 3, 'a')"
      ]
     },
     "execution_count": 130,
     "metadata": {},
     "output_type": "execute_result"
    }
   ],
   "source": [
    "t"
   ]
  },
  {
   "cell_type": "markdown",
   "id": "9f3d122e",
   "metadata": {},
   "source": [
    "### Elemanların Değerlerini Değiştirmek\n",
    "---\n",
    "- Diyelim ki x ve y'nin değerlerini değiştirmek istiyorum."
   ]
  },
  {
   "cell_type": "code",
   "execution_count": 131,
   "id": "d91fabff",
   "metadata": {},
   "outputs": [],
   "source": [
    "x = 2\n",
    "y = 3"
   ]
  },
  {
   "cell_type": "markdown",
   "id": "da227e60",
   "metadata": {},
   "source": [
    "- bunu şöyle yapabiliriz."
   ]
  },
  {
   "cell_type": "code",
   "execution_count": 132,
   "id": "f5e386b2",
   "metadata": {},
   "outputs": [],
   "source": [
    "temp = x\n",
    "x = y\n",
    "y = temp"
   ]
  },
  {
   "cell_type": "code",
   "execution_count": 133,
   "id": "47a5bbad",
   "metadata": {},
   "outputs": [
    {
     "data": {
      "text/plain": [
       "3"
      ]
     },
     "execution_count": 133,
     "metadata": {},
     "output_type": "execute_result"
    }
   ],
   "source": [
    "x"
   ]
  },
  {
   "cell_type": "code",
   "execution_count": 134,
   "id": "67777a96",
   "metadata": {},
   "outputs": [
    {
     "data": {
      "text/plain": [
       "2"
      ]
     },
     "execution_count": 134,
     "metadata": {},
     "output_type": "execute_result"
    }
   ],
   "source": [
    "y"
   ]
  },
  {
   "cell_type": "markdown",
   "id": "31c20be7",
   "metadata": {},
   "source": [
    "- Ama bunu tuple'lar ile 1 satırda yapabiliriz."
   ]
  },
  {
   "cell_type": "code",
   "execution_count": 135,
   "id": "93afc33d",
   "metadata": {},
   "outputs": [],
   "source": [
    "x = 2\n",
    "y = 3"
   ]
  },
  {
   "cell_type": "code",
   "execution_count": 136,
   "id": "9d5499e6",
   "metadata": {},
   "outputs": [],
   "source": [
    "(x, y) = (y, x)"
   ]
  },
  {
   "cell_type": "code",
   "execution_count": 137,
   "id": "d0a7fd98",
   "metadata": {},
   "outputs": [
    {
     "data": {
      "text/plain": [
       "3"
      ]
     },
     "execution_count": 137,
     "metadata": {},
     "output_type": "execute_result"
    }
   ],
   "source": [
    "x"
   ]
  },
  {
   "cell_type": "code",
   "execution_count": 138,
   "id": "abbbae2e",
   "metadata": {},
   "outputs": [
    {
     "data": {
      "text/plain": [
       "2"
      ]
     },
     "execution_count": 138,
     "metadata": {},
     "output_type": "execute_result"
    }
   ],
   "source": [
    "y"
   ]
  },
  {
   "cell_type": "markdown",
   "id": "e19a2e26",
   "metadata": {},
   "source": [
    "- parantez koymamıza da gerek yok. 1,2,3,\"a\"... gibi parantezsiz belirtsek de Python onu **tuple** olarak görüyor."
   ]
  },
  {
   "cell_type": "code",
   "execution_count": 139,
   "id": "1df40a14",
   "metadata": {},
   "outputs": [
    {
     "data": {
      "text/plain": [
       "(1, 2, 3, 4)"
      ]
     },
     "execution_count": 139,
     "metadata": {},
     "output_type": "execute_result"
    }
   ],
   "source": [
    "1, 2, 3, 4"
   ]
  },
  {
   "cell_type": "code",
   "execution_count": 140,
   "id": "7470e5e9",
   "metadata": {},
   "outputs": [],
   "source": [
    "a = 1, 2, 3, 4"
   ]
  },
  {
   "cell_type": "code",
   "execution_count": 141,
   "id": "e2824a4f",
   "metadata": {},
   "outputs": [
    {
     "data": {
      "text/plain": [
       "tuple"
      ]
     },
     "execution_count": 141,
     "metadata": {},
     "output_type": "execute_result"
    }
   ],
   "source": [
    "type(a)"
   ]
  },
  {
   "cell_type": "markdown",
   "id": "22bd3a5c",
   "metadata": {},
   "source": [
    "### Tuple ve List'lerde Eleman Kontrolü\n",
    "---\n",
    "- Belirli bir eleman listede veya tuple'da var mı diye **in** keyword'ü ile sorgu yapabilirim."
   ]
  },
  {
   "cell_type": "code",
   "execution_count": 143,
   "id": "45b83f7f",
   "metadata": {},
   "outputs": [],
   "source": [
    "l = [1,2,3,4]"
   ]
  },
  {
   "cell_type": "code",
   "execution_count": 144,
   "id": "5cb6219d",
   "metadata": {},
   "outputs": [
    {
     "data": {
      "text/plain": [
       "False"
      ]
     },
     "execution_count": 144,
     "metadata": {},
     "output_type": "execute_result"
    }
   ],
   "source": [
    "40 in l"
   ]
  },
  {
   "cell_type": "code",
   "execution_count": 145,
   "id": "b0e5be09",
   "metadata": {},
   "outputs": [
    {
     "data": {
      "text/plain": [
       "True"
      ]
     },
     "execution_count": 145,
     "metadata": {},
     "output_type": "execute_result"
    }
   ],
   "source": [
    "2 in l"
   ]
  },
  {
   "cell_type": "code",
   "execution_count": 146,
   "id": "b05093b3",
   "metadata": {},
   "outputs": [],
   "source": [
    "t = (1,2,3,4)"
   ]
  },
  {
   "cell_type": "code",
   "execution_count": 147,
   "id": "af544f9e",
   "metadata": {},
   "outputs": [
    {
     "data": {
      "text/plain": [
       "False"
      ]
     },
     "execution_count": 147,
     "metadata": {},
     "output_type": "execute_result"
    }
   ],
   "source": [
    "40 in t"
   ]
  },
  {
   "cell_type": "code",
   "execution_count": 148,
   "id": "fc9bda6a",
   "metadata": {},
   "outputs": [
    {
     "data": {
      "text/plain": [
       "True"
      ]
     },
     "execution_count": 148,
     "metadata": {},
     "output_type": "execute_result"
    }
   ],
   "source": [
    "3 in t"
   ]
  },
  {
   "cell_type": "markdown",
   "id": "e55f5c9b",
   "metadata": {},
   "source": [
    "# Dictionaries\n",
    "---\n",
    "- Listeler bize bir arada tutulması anlamlı olacak verileri bir arada tutma gücü verir.\n",
    "- Mesela bir sınıftaki 3 öğrencinin sınavdan aldıkları notlar:"
   ]
  },
  {
   "cell_type": "code",
   "execution_count": 149,
   "id": "5a83f579",
   "metadata": {},
   "outputs": [],
   "source": [
    "notlar = [80,72,95]"
   ]
  },
  {
   "cell_type": "markdown",
   "id": "2e8d6315",
   "metadata": {},
   "source": [
    "- Bu listedeki 1. eleman ilk öğrenciyi, 2. eleman 2. öğrenciyi, 3. eleman...\n",
    "- Ben aynı zamanda bu öğrencilerin isimlerini de tutmak istiyorsam, isimleri için ayrı bir liste oluşturmam lazım. Kuracağım mantık için bu iki listenin eleman sayısı aynı olmalı. notlar[0] bana ilk öğrencinin notunu, isim[0] bana ilk öğrencinin notunu verecek."
   ]
  },
  {
   "cell_type": "code",
   "execution_count": 150,
   "id": "9461208f",
   "metadata": {},
   "outputs": [],
   "source": [
    "isim = [\"Deniz\", \"Ege\", \"Gizem\"]"
   ]
  },
  {
   "cell_type": "code",
   "execution_count": 151,
   "id": "8096dfe5",
   "metadata": {},
   "outputs": [
    {
     "data": {
      "text/plain": [
       "'Deniz'"
      ]
     },
     "execution_count": 151,
     "metadata": {},
     "output_type": "execute_result"
    }
   ],
   "source": [
    "isim[0]"
   ]
  },
  {
   "cell_type": "code",
   "execution_count": 152,
   "id": "82aa58d3",
   "metadata": {},
   "outputs": [
    {
     "data": {
      "text/plain": [
       "80"
      ]
     },
     "execution_count": 152,
     "metadata": {},
     "output_type": "execute_result"
    }
   ],
   "source": [
    "notlar[0]"
   ]
  },
  {
   "cell_type": "code",
   "execution_count": 153,
   "id": "4d9a6830",
   "metadata": {},
   "outputs": [
    {
     "name": "stdout",
     "output_type": "stream",
     "text": [
      "Deniz adlı öğrencinin notu 80\n"
     ]
    }
   ],
   "source": [
    "print(isim[0], \"adlı öğrencinin notu\", notlar[0])"
   ]
  },
  {
   "cell_type": "markdown",
   "id": "bcdb1b08",
   "metadata": {},
   "source": [
    "- Öğrenci numaralarını tutmak istiyorsam bunu için de ayrı bir liste oluşturmam lazım."
   ]
  },
  {
   "cell_type": "code",
   "execution_count": 154,
   "id": "9c500331",
   "metadata": {},
   "outputs": [],
   "source": [
    "no = [703, 408, 690]"
   ]
  },
  {
   "cell_type": "code",
   "execution_count": 155,
   "id": "4d28945a",
   "metadata": {},
   "outputs": [
    {
     "data": {
      "text/plain": [
       "'Deniz'"
      ]
     },
     "execution_count": 155,
     "metadata": {},
     "output_type": "execute_result"
    }
   ],
   "source": [
    "isim[0]"
   ]
  },
  {
   "cell_type": "code",
   "execution_count": 156,
   "id": "7be445f3",
   "metadata": {},
   "outputs": [
    {
     "data": {
      "text/plain": [
       "80"
      ]
     },
     "execution_count": 156,
     "metadata": {},
     "output_type": "execute_result"
    }
   ],
   "source": [
    "notlar[0]"
   ]
  },
  {
   "cell_type": "code",
   "execution_count": 157,
   "id": "8f22ebdf",
   "metadata": {},
   "outputs": [
    {
     "data": {
      "text/plain": [
       "703"
      ]
     },
     "execution_count": 157,
     "metadata": {},
     "output_type": "execute_result"
    }
   ],
   "source": [
    "no[0]"
   ]
  },
  {
   "cell_type": "markdown",
   "id": "58e37d1c",
   "metadata": {},
   "source": [
    "- Her farklı bilgi için yeni bir liste oluşturmam gerekiyor.\n",
    "- Aynı elemanı ifade eden mantıklar listeler arası aynı indexte tutuluyor. (isim[0]'ın notu notlar[0])\n",
    "- Bu yapılabilir ama optimal olmayan bir yaklaşım. Karışıklık çıkması çok muhtemel.\n",
    "- İstediğim kısmı almanın daha kolay bir yolu olabilir mi? Sadece bir veri yapısı kullansam... Ayrı ayrı listeler kullanmasam...\n",
    "- **Dictionary** yapısının elemanlarına erişmek için belirli **key**ler kullanacağız ve o da bize **value**'lar verecek.\n",
    "- dictionary'leri süslü parantez **{}** ile belirteceğiz.\n",
    "- Formumuz **{key1:value1, key2:value2...}** şeklinde olacak.\n",
    "- Elemanlarına ulaşmak için öbür non-scalar veri tiplerinde yaptığımız gibi **[]** kullanacağız. Ama - **dictionary**'lerin elemanlarına ulaşmak için belirlediğimiz **key**leri kullanacağız, integer indexing değil.\n",
    "- **dictionary**'lerin keyleri **immutable** herhangi bir yapıda olabilir. **value**'lar **mutable** da **immutable** da olabilir. int, float, bool, string, list, tuple, set, even dictionaries itself!"
   ]
  },
  {
   "cell_type": "code",
   "execution_count": 158,
   "id": "b17a011d",
   "metadata": {},
   "outputs": [],
   "source": [
    "notlar = {\"Deniz\": 80, \"Ege\":72, \"Gizem\": 95}"
   ]
  },
  {
   "cell_type": "code",
   "execution_count": 159,
   "id": "d15beac9",
   "metadata": {},
   "outputs": [
    {
     "data": {
      "text/plain": [
       "72"
      ]
     },
     "execution_count": 159,
     "metadata": {},
     "output_type": "execute_result"
    }
   ],
   "source": [
    "notlar[\"Ege\"]"
   ]
  },
  {
   "cell_type": "code",
   "execution_count": 160,
   "id": "150f71ac",
   "metadata": {},
   "outputs": [
    {
     "data": {
      "text/plain": [
       "95"
      ]
     },
     "execution_count": 160,
     "metadata": {},
     "output_type": "execute_result"
    }
   ],
   "source": [
    "notlar[\"Gizem\"]"
   ]
  },
  {
   "cell_type": "code",
   "execution_count": 161,
   "id": "debc50d6",
   "metadata": {},
   "outputs": [],
   "source": [
    "ogrenciler = {\"Deniz\": {\"not\":80, \"ogrenci_no\":703}, \"Ege\":{\"not\":72, \"ogrenci_no\":408}, \"Gizem\": {\"not\":95, \"ogrenci_no\":690}}"
   ]
  },
  {
   "cell_type": "code",
   "execution_count": 162,
   "id": "74ed3228",
   "metadata": {},
   "outputs": [
    {
     "data": {
      "text/plain": [
       "{'not': 72, 'ogrenci_no': 408}"
      ]
     },
     "execution_count": 162,
     "metadata": {},
     "output_type": "execute_result"
    }
   ],
   "source": [
    "ogrenciler[\"Ege\"]"
   ]
  },
  {
   "cell_type": "code",
   "execution_count": 163,
   "id": "005364cd",
   "metadata": {},
   "outputs": [
    {
     "data": {
      "text/plain": [
       "72"
      ]
     },
     "execution_count": 163,
     "metadata": {},
     "output_type": "execute_result"
    }
   ],
   "source": [
    "ogrenciler[\"Ege\"][\"not\"]"
   ]
  },
  {
   "cell_type": "code",
   "execution_count": 164,
   "id": "27f24043",
   "metadata": {},
   "outputs": [
    {
     "data": {
      "text/plain": [
       "408"
      ]
     },
     "execution_count": 164,
     "metadata": {},
     "output_type": "execute_result"
    }
   ],
   "source": [
    "ogrenciler[\"Ege\"][\"ogrenci_no\"]"
   ]
  },
  {
   "cell_type": "markdown",
   "id": "1b4c0fc6",
   "metadata": {},
   "source": [
    "### Olmayan Bir Eleman Sorgulamak\n",
    "---\n",
    "- Olmayan bir key ile eleman sorgusu yaparsak hata alırız."
   ]
  },
  {
   "cell_type": "code",
   "execution_count": 165,
   "id": "9163c3ad",
   "metadata": {},
   "outputs": [
    {
     "data": {
      "text/plain": [
       "{'Deniz': 80, 'Ege': 72, 'Gizem': 95}"
      ]
     },
     "execution_count": 165,
     "metadata": {},
     "output_type": "execute_result"
    }
   ],
   "source": [
    "notlar"
   ]
  },
  {
   "cell_type": "code",
   "execution_count": 166,
   "id": "0275f3fc",
   "metadata": {},
   "outputs": [
    {
     "ename": "KeyError",
     "evalue": "'Mert'",
     "output_type": "error",
     "traceback": [
      "\u001b[0;31m---------------------------------------------------------------------------\u001b[0m",
      "\u001b[0;31mKeyError\u001b[0m                                  Traceback (most recent call last)",
      "Input \u001b[0;32mIn [166]\u001b[0m, in \u001b[0;36m<cell line: 1>\u001b[0;34m()\u001b[0m\n\u001b[0;32m----> 1\u001b[0m \u001b[43mnotlar\u001b[49m\u001b[43m[\u001b[49m\u001b[38;5;124;43m\"\u001b[39;49m\u001b[38;5;124;43mMert\u001b[39;49m\u001b[38;5;124;43m\"\u001b[39;49m\u001b[43m]\u001b[49m\n",
      "\u001b[0;31mKeyError\u001b[0m: 'Mert'"
     ]
    }
   ],
   "source": [
    "notlar[\"Mert\"]"
   ]
  },
  {
   "cell_type": "markdown",
   "id": "8ad170e8",
   "metadata": {},
   "source": [
    "### Integer Indexing ile Eleman Sorgusu Yapmak\n",
    "---\n",
    "- Dictionary'ler **key-value** mantığı ile çalışıyor. O yüzden biz **notlar[0]** gibi bir sorgu yaptığımızda, 0 diye bir key var mı diye bakıyor yoksa hata veriyor."
   ]
  },
  {
   "cell_type": "code",
   "execution_count": 167,
   "id": "41df60ab",
   "metadata": {},
   "outputs": [
    {
     "ename": "KeyError",
     "evalue": "0",
     "output_type": "error",
     "traceback": [
      "\u001b[0;31m---------------------------------------------------------------------------\u001b[0m",
      "\u001b[0;31mKeyError\u001b[0m                                  Traceback (most recent call last)",
      "Input \u001b[0;32mIn [167]\u001b[0m, in \u001b[0;36m<cell line: 1>\u001b[0;34m()\u001b[0m\n\u001b[0;32m----> 1\u001b[0m \u001b[43mnotlar\u001b[49m\u001b[43m[\u001b[49m\u001b[38;5;241;43m0\u001b[39;49m\u001b[43m]\u001b[49m\n",
      "\u001b[0;31mKeyError\u001b[0m: 0"
     ]
    }
   ],
   "source": [
    "notlar[0]"
   ]
  },
  {
   "cell_type": "markdown",
   "id": "1f4f30ac",
   "metadata": {},
   "source": [
    "### Value Değerlerini Değiştirmek\n",
    "---\n",
    "- Diyelim ki Ege'nin notu yanlış okunmuş, notunu 5 puan arttıracağız."
   ]
  },
  {
   "cell_type": "code",
   "execution_count": 168,
   "id": "9547e7f7",
   "metadata": {},
   "outputs": [
    {
     "data": {
      "text/plain": [
       "{'Deniz': 80, 'Ege': 72, 'Gizem': 95}"
      ]
     },
     "execution_count": 168,
     "metadata": {},
     "output_type": "execute_result"
    }
   ],
   "source": [
    "notlar"
   ]
  },
  {
   "cell_type": "code",
   "execution_count": 169,
   "id": "31ccc0eb",
   "metadata": {},
   "outputs": [],
   "source": [
    "notlar[\"Ege\"] = notlar[\"Ege\"] + 5"
   ]
  },
  {
   "cell_type": "code",
   "execution_count": 170,
   "id": "4d45c144",
   "metadata": {},
   "outputs": [
    {
     "data": {
      "text/plain": [
       "77"
      ]
     },
     "execution_count": 170,
     "metadata": {},
     "output_type": "execute_result"
    }
   ],
   "source": [
    "notlar[\"Ege\"]"
   ]
  },
  {
   "cell_type": "markdown",
   "id": "15255f28",
   "metadata": {},
   "source": [
    "### len()\n",
    "---\n",
    "- **len()** fonksiyonunu dictionary'lerde kullandığımız zaman bize kaç tane **key** varsa onun sayısını veriyor."
   ]
  },
  {
   "cell_type": "code",
   "execution_count": 171,
   "id": "c1f23618",
   "metadata": {},
   "outputs": [
    {
     "data": {
      "text/plain": [
       "{'Deniz': 80, 'Ege': 77, 'Gizem': 95}"
      ]
     },
     "execution_count": 171,
     "metadata": {},
     "output_type": "execute_result"
    }
   ],
   "source": [
    "notlar"
   ]
  },
  {
   "cell_type": "code",
   "execution_count": 172,
   "id": "b224c8a7",
   "metadata": {},
   "outputs": [
    {
     "data": {
      "text/plain": [
       "3"
      ]
     },
     "execution_count": 172,
     "metadata": {},
     "output_type": "execute_result"
    }
   ],
   "source": [
    "len(notlar)"
   ]
  },
  {
   "cell_type": "markdown",
   "id": "f0adc94d",
   "metadata": {},
   "source": [
    "### Eleman Eklemek\n",
    "---\n",
    "- Dictionary'lere eleman eklemek gerçekten kolay. Tamam yazmayı bırakıp direkt göstereyim:"
   ]
  },
  {
   "cell_type": "code",
   "execution_count": 173,
   "id": "9ca4e864",
   "metadata": {},
   "outputs": [
    {
     "data": {
      "text/plain": [
       "{'Deniz': 80, 'Ege': 77, 'Gizem': 95}"
      ]
     },
     "execution_count": 173,
     "metadata": {},
     "output_type": "execute_result"
    }
   ],
   "source": [
    "notlar"
   ]
  },
  {
   "cell_type": "code",
   "execution_count": 174,
   "id": "68295e24",
   "metadata": {},
   "outputs": [],
   "source": [
    "notlar[\"Mert\"] = 58"
   ]
  },
  {
   "cell_type": "code",
   "execution_count": 175,
   "id": "6bfc6a57",
   "metadata": {},
   "outputs": [
    {
     "data": {
      "text/plain": [
       "{'Deniz': 80, 'Ege': 77, 'Gizem': 95, 'Mert': 58}"
      ]
     },
     "execution_count": 175,
     "metadata": {},
     "output_type": "execute_result"
    }
   ],
   "source": [
    "notlar"
   ]
  },
  {
   "cell_type": "markdown",
   "id": "dda92162",
   "metadata": {},
   "source": [
    "- Dictionary'ye sorgu yapıyor gibi yazıyoruz, ve **value**'si olmasını istediğimiz değeri de soluna yazıyoruz."
   ]
  },
  {
   "cell_type": "markdown",
   "id": "56738fea",
   "metadata": {},
   "source": [
    "### Eleman Silmek\n",
    "---\n",
    "- Eleman silmeyi **del** keyword'ü ile yapabiliriz."
   ]
  },
  {
   "cell_type": "code",
   "execution_count": 176,
   "id": "e18bc492",
   "metadata": {},
   "outputs": [
    {
     "data": {
      "text/plain": [
       "{'Deniz': 80, 'Ege': 77, 'Gizem': 95, 'Mert': 58}"
      ]
     },
     "execution_count": 176,
     "metadata": {},
     "output_type": "execute_result"
    }
   ],
   "source": [
    "notlar"
   ]
  },
  {
   "cell_type": "code",
   "execution_count": 177,
   "id": "cf9c779e",
   "metadata": {},
   "outputs": [],
   "source": [
    "del notlar[\"Mert\"]"
   ]
  },
  {
   "cell_type": "code",
   "execution_count": 178,
   "id": "5d16ab40",
   "metadata": {},
   "outputs": [
    {
     "data": {
      "text/plain": [
       "{'Deniz': 80, 'Ege': 77, 'Gizem': 95}"
      ]
     },
     "execution_count": 178,
     "metadata": {},
     "output_type": "execute_result"
    }
   ],
   "source": [
    "notlar"
   ]
  },
  {
   "cell_type": "markdown",
   "id": "3946c442",
   "metadata": {},
   "source": [
    "### Sadece Immutable Tipindeki Veriler key olabilir\n",
    "---"
   ]
  },
  {
   "cell_type": "code",
   "execution_count": 179,
   "id": "ddc8b447",
   "metadata": {},
   "outputs": [],
   "source": [
    "d = {1:2, 3:\"b\"}"
   ]
  },
  {
   "cell_type": "code",
   "execution_count": 180,
   "id": "8797c076",
   "metadata": {},
   "outputs": [
    {
     "data": {
      "text/plain": [
       "2"
      ]
     },
     "execution_count": 180,
     "metadata": {},
     "output_type": "execute_result"
    }
   ],
   "source": [
    "d[1]"
   ]
  },
  {
   "cell_type": "code",
   "execution_count": 181,
   "id": "19ea633b",
   "metadata": {},
   "outputs": [
    {
     "data": {
      "text/plain": [
       "'b'"
      ]
     },
     "execution_count": 181,
     "metadata": {},
     "output_type": "execute_result"
    }
   ],
   "source": [
    "d[3]"
   ]
  },
  {
   "cell_type": "code",
   "execution_count": 182,
   "id": "1b1ed82f",
   "metadata": {},
   "outputs": [],
   "source": [
    "d2 = {(1,2):\"a\", (4,5): [1,2,3]}"
   ]
  },
  {
   "cell_type": "code",
   "execution_count": 183,
   "id": "b8d35f1f",
   "metadata": {},
   "outputs": [
    {
     "data": {
      "text/plain": [
       "'a'"
      ]
     },
     "execution_count": 183,
     "metadata": {},
     "output_type": "execute_result"
    }
   ],
   "source": [
    "d2[(1,2)]"
   ]
  },
  {
   "cell_type": "code",
   "execution_count": 184,
   "id": "2c16ea94",
   "metadata": {},
   "outputs": [
    {
     "data": {
      "text/plain": [
       "[1, 2, 3]"
      ]
     },
     "execution_count": 184,
     "metadata": {},
     "output_type": "execute_result"
    }
   ],
   "source": [
    "d2[(4,5)]"
   ]
  },
  {
   "cell_type": "code",
   "execution_count": 185,
   "id": "fbd70149",
   "metadata": {},
   "outputs": [
    {
     "ename": "TypeError",
     "evalue": "unhashable type: 'list'",
     "output_type": "error",
     "traceback": [
      "\u001b[0;31m---------------------------------------------------------------------------\u001b[0m",
      "\u001b[0;31mTypeError\u001b[0m                                 Traceback (most recent call last)",
      "Input \u001b[0;32mIn [185]\u001b[0m, in \u001b[0;36m<cell line: 1>\u001b[0;34m()\u001b[0m\n\u001b[0;32m----> 1\u001b[0m d3 \u001b[38;5;241m=\u001b[39m {[\u001b[38;5;241m1\u001b[39m,\u001b[38;5;241m2\u001b[39m]:\u001b[38;5;241m4\u001b[39m}\n",
      "\u001b[0;31mTypeError\u001b[0m: unhashable type: 'list'"
     ]
    }
   ],
   "source": [
    "d3 = {[1,2]:4}"
   ]
  },
  {
   "cell_type": "markdown",
   "id": "f63b1633",
   "metadata": {},
   "source": [
    "### Boş Bir Dictionary Yaratmak\n",
    "---"
   ]
  },
  {
   "cell_type": "code",
   "execution_count": 186,
   "id": "ff3df191",
   "metadata": {},
   "outputs": [],
   "source": [
    "d = {}"
   ]
  },
  {
   "cell_type": "code",
   "execution_count": 187,
   "id": "84134257",
   "metadata": {},
   "outputs": [
    {
     "data": {
      "text/plain": [
       "{}"
      ]
     },
     "execution_count": 187,
     "metadata": {},
     "output_type": "execute_result"
    }
   ],
   "source": [
    "d"
   ]
  },
  {
   "cell_type": "markdown",
   "id": "0fdadb27",
   "metadata": {},
   "source": [
    "### Bir Değer Keyler Arasında Var mı Sorgusu Yapmak\n",
    "---\n",
    "- Bir elemanın dictionary içinde olup olmadığını sorgulamak, list ve tuple'lerde sorgulamaktan daha hızlıdır."
   ]
  },
  {
   "cell_type": "code",
   "execution_count": 189,
   "id": "f2e1eed7",
   "metadata": {},
   "outputs": [
    {
     "data": {
      "text/plain": [
       "{'Deniz': 80, 'Ege': 77, 'Gizem': 95}"
      ]
     },
     "execution_count": 189,
     "metadata": {},
     "output_type": "execute_result"
    }
   ],
   "source": [
    "notlar"
   ]
  },
  {
   "cell_type": "code",
   "execution_count": 190,
   "id": "6d11126f",
   "metadata": {},
   "outputs": [
    {
     "data": {
      "text/plain": [
       "False"
      ]
     },
     "execution_count": 190,
     "metadata": {},
     "output_type": "execute_result"
    }
   ],
   "source": [
    "\"Mert\" in notlar"
   ]
  },
  {
   "cell_type": "code",
   "execution_count": 191,
   "id": "39239b38",
   "metadata": {},
   "outputs": [
    {
     "data": {
      "text/plain": [
       "True"
      ]
     },
     "execution_count": 191,
     "metadata": {},
     "output_type": "execute_result"
    }
   ],
   "source": [
    "\"Deniz\" in notlar"
   ]
  },
  {
   "cell_type": "markdown",
   "id": "e852279d",
   "metadata": {},
   "source": [
    "# Set\n",
    "---\n",
    "- Setleri kümeler olarak düşünebiliriz.\n",
    "- Sadece özgün değerleri tutan, içerisinde bir eleman var mı yok mu, başka bir setle hangi elemanları farklı gibi işlemleri performanslı bir şekilde yapabileceğimiz bir veri yapısıdır.\n",
    "- Dictionary'ler gibi eleman sorgusu yapmak hızlıdır. Dictionarylerde key-value çift olarak bulunduğu için aynı uzunluktaki bir **set**ten daha fazla yer kaplar.\n",
    "- Setler indexlenemez.\n",
    "- Setler **mutable**'dır.\n",
    "---\n",
    "\n",
    "\n",
    "### Set yaratma;"
   ]
  },
  {
   "cell_type": "code",
   "execution_count": 192,
   "id": "cacc4f21",
   "metadata": {},
   "outputs": [],
   "source": [
    "s = {1,2,3,4,5}"
   ]
  },
  {
   "cell_type": "code",
   "execution_count": 193,
   "id": "1157945e",
   "metadata": {},
   "outputs": [
    {
     "data": {
      "text/plain": [
       "{1, 2, 3, 4, 5}"
      ]
     },
     "execution_count": 193,
     "metadata": {},
     "output_type": "execute_result"
    }
   ],
   "source": [
    "s"
   ]
  },
  {
   "cell_type": "code",
   "execution_count": 194,
   "id": "6de12bb0",
   "metadata": {},
   "outputs": [],
   "source": [
    "s2 = {1,2,2,2,1,4,5,6}"
   ]
  },
  {
   "cell_type": "code",
   "execution_count": 195,
   "id": "d38e8fff",
   "metadata": {},
   "outputs": [
    {
     "data": {
      "text/plain": [
       "{1, 2, 4, 5, 6}"
      ]
     },
     "execution_count": 195,
     "metadata": {},
     "output_type": "execute_result"
    }
   ],
   "source": [
    "s2"
   ]
  },
  {
   "cell_type": "markdown",
   "id": "cd62ca1f",
   "metadata": {},
   "source": [
    "- Boş set yaratma:"
   ]
  },
  {
   "cell_type": "code",
   "execution_count": 196,
   "id": "42f809d3",
   "metadata": {},
   "outputs": [],
   "source": [
    "a = {}"
   ]
  },
  {
   "cell_type": "code",
   "execution_count": 197,
   "id": "e4cd8af2",
   "metadata": {},
   "outputs": [
    {
     "data": {
      "text/plain": [
       "dict"
      ]
     },
     "execution_count": 197,
     "metadata": {},
     "output_type": "execute_result"
    }
   ],
   "source": [
    "type(a)"
   ]
  },
  {
   "cell_type": "code",
   "execution_count": 199,
   "id": "99690dae",
   "metadata": {},
   "outputs": [],
   "source": [
    "s = set()"
   ]
  },
  {
   "cell_type": "code",
   "execution_count": 200,
   "id": "15a29e36",
   "metadata": {},
   "outputs": [
    {
     "data": {
      "text/plain": [
       "set"
      ]
     },
     "execution_count": 200,
     "metadata": {},
     "output_type": "execute_result"
    }
   ],
   "source": [
    "type(s)"
   ]
  },
  {
   "cell_type": "code",
   "execution_count": 201,
   "id": "ed050634",
   "metadata": {},
   "outputs": [],
   "source": [
    "l = [1,2,3,4]"
   ]
  },
  {
   "cell_type": "code",
   "execution_count": 202,
   "id": "0c5b60c9",
   "metadata": {},
   "outputs": [],
   "source": [
    "s = set(l)"
   ]
  },
  {
   "cell_type": "code",
   "execution_count": 203,
   "id": "f4a6ee35",
   "metadata": {},
   "outputs": [
    {
     "data": {
      "text/plain": [
       "{1, 2, 3, 4}"
      ]
     },
     "execution_count": 203,
     "metadata": {},
     "output_type": "execute_result"
    }
   ],
   "source": [
    "s"
   ]
  },
  {
   "cell_type": "code",
   "execution_count": 204,
   "id": "7fcc64c8",
   "metadata": {},
   "outputs": [],
   "source": [
    "l = [1,2,3,4,1,2]"
   ]
  },
  {
   "cell_type": "code",
   "execution_count": 205,
   "id": "698f64fc",
   "metadata": {},
   "outputs": [
    {
     "data": {
      "text/plain": [
       "{1, 2, 3, 4}"
      ]
     },
     "execution_count": 205,
     "metadata": {},
     "output_type": "execute_result"
    }
   ],
   "source": [
    "set(l)"
   ]
  },
  {
   "cell_type": "code",
   "execution_count": 206,
   "id": "d5826f76",
   "metadata": {},
   "outputs": [
    {
     "data": {
      "text/plain": [
       "dict"
      ]
     },
     "execution_count": 206,
     "metadata": {},
     "output_type": "execute_result"
    }
   ],
   "source": [
    "# Boş bir seti {} ile yaratamayız,çünkü bu boş bir dictionary yaratmak için ayrılmış\n",
    "s = {}\n",
    "\n",
    "type(s)"
   ]
  },
  {
   "cell_type": "markdown",
   "id": "1158b6eb",
   "metadata": {},
   "source": [
    "### Setler sadece özgün değerlerden oluşur\n",
    "---\n",
    "- Setin içinde bir elemanı birden çok göremezsiniz."
   ]
  },
  {
   "cell_type": "code",
   "execution_count": 208,
   "id": "393b7b6f",
   "metadata": {},
   "outputs": [],
   "source": [
    "l = [1,2,3,4,1,2]"
   ]
  },
  {
   "cell_type": "code",
   "execution_count": 209,
   "id": "a0fd0359",
   "metadata": {},
   "outputs": [],
   "source": [
    "# Sadece farklı değerlerden `s` yi oluşturacak.\n",
    "s = set(l)"
   ]
  },
  {
   "cell_type": "code",
   "execution_count": 210,
   "id": "16f21ca4",
   "metadata": {},
   "outputs": [
    {
     "data": {
      "text/plain": [
       "{1, 2, 3, 4}"
      ]
     },
     "execution_count": 210,
     "metadata": {},
     "output_type": "execute_result"
    }
   ],
   "source": [
    "s"
   ]
  },
  {
   "cell_type": "code",
   "execution_count": 211,
   "id": "f21ca94e",
   "metadata": {},
   "outputs": [],
   "source": [
    "message = \"Merhaba, orda mısın?\""
   ]
  },
  {
   "cell_type": "code",
   "execution_count": 212,
   "id": "0c5e89c3",
   "metadata": {},
   "outputs": [],
   "source": [
    "# Strinleri kullanarak da set oluşturabiliriz.\n",
    "s = set(message)"
   ]
  },
  {
   "cell_type": "code",
   "execution_count": 213,
   "id": "c170a2a0",
   "metadata": {},
   "outputs": [
    {
     "data": {
      "text/plain": [
       "{' ', ',', '?', 'M', 'a', 'b', 'd', 'e', 'h', 'm', 'n', 'o', 'r', 's', 'ı'}"
      ]
     },
     "execution_count": 213,
     "metadata": {},
     "output_type": "execute_result"
    }
   ],
   "source": [
    "# \" \" (boşluk) karakterini de sayıyor.\n",
    "# setler sıralı değildir.\n",
    "s"
   ]
  },
  {
   "cell_type": "markdown",
   "id": "ac657e3a",
   "metadata": {},
   "source": [
    "### len()\n",
    "--- "
   ]
  },
  {
   "cell_type": "code",
   "execution_count": 214,
   "id": "a1b81c26",
   "metadata": {},
   "outputs": [],
   "source": [
    "s = set([1,2,3,4,5])"
   ]
  },
  {
   "cell_type": "code",
   "execution_count": 215,
   "id": "e0a1726f",
   "metadata": {},
   "outputs": [
    {
     "data": {
      "text/plain": [
       "{1, 2, 3, 4, 5}"
      ]
     },
     "execution_count": 215,
     "metadata": {},
     "output_type": "execute_result"
    }
   ],
   "source": [
    "s"
   ]
  },
  {
   "cell_type": "code",
   "execution_count": 216,
   "id": "3199cdc7",
   "metadata": {},
   "outputs": [
    {
     "data": {
      "text/plain": [
       "5"
      ]
     },
     "execution_count": 216,
     "metadata": {},
     "output_type": "execute_result"
    }
   ],
   "source": [
    "len(s)"
   ]
  },
  {
   "cell_type": "markdown",
   "id": "5568a62e",
   "metadata": {},
   "source": [
    "### Setler indexlenemez\n",
    "---"
   ]
  },
  {
   "cell_type": "code",
   "execution_count": 217,
   "id": "3ce187cb",
   "metadata": {},
   "outputs": [
    {
     "data": {
      "text/plain": [
       "{1, 2, 3, 4, 5}"
      ]
     },
     "execution_count": 217,
     "metadata": {},
     "output_type": "execute_result"
    }
   ],
   "source": [
    "s"
   ]
  },
  {
   "cell_type": "code",
   "execution_count": 218,
   "id": "3a9cfb96",
   "metadata": {},
   "outputs": [
    {
     "ename": "TypeError",
     "evalue": "'set' object is not subscriptable",
     "output_type": "error",
     "traceback": [
      "\u001b[0;31m---------------------------------------------------------------------------\u001b[0m",
      "\u001b[0;31mTypeError\u001b[0m                                 Traceback (most recent call last)",
      "Input \u001b[0;32mIn [218]\u001b[0m, in \u001b[0;36m<cell line: 1>\u001b[0;34m()\u001b[0m\n\u001b[0;32m----> 1\u001b[0m \u001b[43ms\u001b[49m\u001b[43m[\u001b[49m\u001b[38;5;241;43m0\u001b[39;49m\u001b[43m]\u001b[49m\n",
      "\u001b[0;31mTypeError\u001b[0m: 'set' object is not subscriptable"
     ]
    }
   ],
   "source": [
    "s[0]"
   ]
  },
  {
   "cell_type": "markdown",
   "id": "46f1a721",
   "metadata": {},
   "source": [
    "### Set'e eleman ekleme\n",
    "---"
   ]
  },
  {
   "cell_type": "code",
   "execution_count": 220,
   "id": "6cfffb6d",
   "metadata": {},
   "outputs": [],
   "source": [
    "s = {1, 2, 3, 4, 5}"
   ]
  },
  {
   "cell_type": "code",
   "execution_count": 221,
   "id": "9c5e14fb",
   "metadata": {},
   "outputs": [],
   "source": [
    "s.add(6)"
   ]
  },
  {
   "cell_type": "code",
   "execution_count": 222,
   "id": "5a1b9637",
   "metadata": {},
   "outputs": [
    {
     "data": {
      "text/plain": [
       "{1, 2, 3, 4, 5, 6}"
      ]
     },
     "execution_count": 222,
     "metadata": {},
     "output_type": "execute_result"
    }
   ],
   "source": [
    "s"
   ]
  },
  {
   "cell_type": "code",
   "execution_count": 223,
   "id": "dce2c3dd",
   "metadata": {},
   "outputs": [],
   "source": [
    "# Bu kod bir error vermeyecek, ama 5 zaten sette olduğu için eklemeyecek de\n",
    "s.add(5)"
   ]
  },
  {
   "cell_type": "code",
   "execution_count": 224,
   "id": "0f6705ff",
   "metadata": {},
   "outputs": [
    {
     "data": {
      "text/plain": [
       "{1, 2, 3, 4, 5, 6}"
      ]
     },
     "execution_count": 224,
     "metadata": {},
     "output_type": "execute_result"
    }
   ],
   "source": [
    "s"
   ]
  },
  {
   "cell_type": "markdown",
   "id": "7b26b3e4",
   "metadata": {},
   "source": [
    "### Set'ten eleman silmek\n",
    "---"
   ]
  },
  {
   "cell_type": "code",
   "execution_count": 225,
   "id": "5a7e2469",
   "metadata": {},
   "outputs": [
    {
     "data": {
      "text/plain": [
       "{1, 2, 3, 4, 5, 6}"
      ]
     },
     "execution_count": 225,
     "metadata": {},
     "output_type": "execute_result"
    }
   ],
   "source": [
    "s"
   ]
  },
  {
   "cell_type": "code",
   "execution_count": 226,
   "id": "2b07feee",
   "metadata": {},
   "outputs": [],
   "source": [
    "s.remove(2)"
   ]
  },
  {
   "cell_type": "code",
   "execution_count": 227,
   "id": "c50d2d50",
   "metadata": {},
   "outputs": [
    {
     "data": {
      "text/plain": [
       "{1, 3, 4, 5, 6}"
      ]
     },
     "execution_count": 227,
     "metadata": {},
     "output_type": "execute_result"
    }
   ],
   "source": [
    "s"
   ]
  },
  {
   "cell_type": "code",
   "execution_count": 228,
   "id": "dd7a099e",
   "metadata": {},
   "outputs": [
    {
     "ename": "KeyError",
     "evalue": "9",
     "output_type": "error",
     "traceback": [
      "\u001b[0;31m---------------------------------------------------------------------------\u001b[0m",
      "\u001b[0;31mKeyError\u001b[0m                                  Traceback (most recent call last)",
      "Input \u001b[0;32mIn [228]\u001b[0m, in \u001b[0;36m<cell line: 2>\u001b[0;34m()\u001b[0m\n\u001b[1;32m      1\u001b[0m \u001b[38;5;66;03m# add()'in aksine, remove() hata veriyor.\u001b[39;00m\n\u001b[0;32m----> 2\u001b[0m \u001b[43ms\u001b[49m\u001b[38;5;241;43m.\u001b[39;49m\u001b[43mremove\u001b[49m\u001b[43m(\u001b[49m\u001b[38;5;241;43m9\u001b[39;49m\u001b[43m)\u001b[49m\n",
      "\u001b[0;31mKeyError\u001b[0m: 9"
     ]
    }
   ],
   "source": [
    "# add()'in aksine, remove() hata veriyor.\n",
    "s.remove(9)"
   ]
  },
  {
   "cell_type": "code",
   "execution_count": 229,
   "id": "6fe0bdb0",
   "metadata": {},
   "outputs": [
    {
     "data": {
      "text/plain": [
       "{1, 3, 4, 5, 6}"
      ]
     },
     "execution_count": 229,
     "metadata": {},
     "output_type": "execute_result"
    }
   ],
   "source": [
    "s"
   ]
  },
  {
   "cell_type": "code",
   "execution_count": 230,
   "id": "7f88c93e",
   "metadata": {},
   "outputs": [],
   "source": [
    "# Eğer silmek istediğimiz eleman yoksa hata almak istemiyorsak, discard()'ı kullanabiliriz.\n",
    "s.discard(10)"
   ]
  },
  {
   "cell_type": "code",
   "execution_count": 231,
   "id": "17ab374c",
   "metadata": {},
   "outputs": [
    {
     "data": {
      "text/plain": [
       "{1, 3, 4, 5, 6}"
      ]
     },
     "execution_count": 231,
     "metadata": {},
     "output_type": "execute_result"
    }
   ],
   "source": [
    "s"
   ]
  },
  {
   "cell_type": "code",
   "execution_count": 232,
   "id": "83eb269c",
   "metadata": {},
   "outputs": [],
   "source": [
    "s.add(10)"
   ]
  },
  {
   "cell_type": "code",
   "execution_count": 233,
   "id": "2e4593fd",
   "metadata": {},
   "outputs": [
    {
     "data": {
      "text/plain": [
       "{1, 3, 4, 5, 6, 10}"
      ]
     },
     "execution_count": 233,
     "metadata": {},
     "output_type": "execute_result"
    }
   ],
   "source": [
    "s"
   ]
  },
  {
   "cell_type": "code",
   "execution_count": 234,
   "id": "76c0ab7d",
   "metadata": {},
   "outputs": [],
   "source": [
    "s.discard(10)"
   ]
  },
  {
   "cell_type": "code",
   "execution_count": 235,
   "id": "6919af3c",
   "metadata": {},
   "outputs": [
    {
     "data": {
      "text/plain": [
       "{1, 3, 4, 5, 6}"
      ]
     },
     "execution_count": 235,
     "metadata": {},
     "output_type": "execute_result"
    }
   ],
   "source": [
    "s"
   ]
  },
  {
   "cell_type": "markdown",
   "id": "b41334e1",
   "metadata": {},
   "source": [
    "### Difference (fark)\n",
    "---\n",
    "- Evet geldik şimdi kümelerdeki fark konusuna. s1 kümesi ile s2 kümesinin farkına bakacağız. (s1 – s2) veya (s1 \\ s2)"
   ]
  },
  {
   "cell_type": "code",
   "execution_count": 237,
   "id": "bd2fe62b",
   "metadata": {},
   "outputs": [],
   "source": [
    "s1 = set([1,5,10])"
   ]
  },
  {
   "cell_type": "code",
   "execution_count": 238,
   "id": "852582a4",
   "metadata": {},
   "outputs": [],
   "source": [
    "s2 = set([2,5,3])"
   ]
  },
  {
   "cell_type": "code",
   "execution_count": 239,
   "id": "8953acea",
   "metadata": {},
   "outputs": [
    {
     "data": {
      "text/plain": [
       "{1, 10}"
      ]
     },
     "execution_count": 239,
     "metadata": {},
     "output_type": "execute_result"
    }
   ],
   "source": [
    "# s1 in hangi elemanları s2 den farklıdır.\n",
    "s1.difference(s2)"
   ]
  },
  {
   "cell_type": "code",
   "execution_count": 240,
   "id": "8139babd",
   "metadata": {},
   "outputs": [
    {
     "data": {
      "text/plain": [
       "{1, 10}"
      ]
     },
     "execution_count": 240,
     "metadata": {},
     "output_type": "execute_result"
    }
   ],
   "source": [
    "# '-' operatörü setlerde kullanıldığında bize farkı verir.\n",
    "s1 - s2"
   ]
  },
  {
   "cell_type": "code",
   "execution_count": 241,
   "id": "f3386d91",
   "metadata": {},
   "outputs": [
    {
     "data": {
      "text/plain": [
       "{2, 3}"
      ]
     },
     "execution_count": 241,
     "metadata": {},
     "output_type": "execute_result"
    }
   ],
   "source": [
    "# s2 nin hangi elemanları s1 den farklıdır\n",
    "s2.difference(s1)"
   ]
  },
  {
   "cell_type": "markdown",
   "id": "d8fcf1a3",
   "metadata": {},
   "source": [
    "### Symmetric Difference\n",
    "---\n",
    "- s1'in s2 den farkı ile s2'nin s1 den farkının birleşimi. (s1 \\ s2) U (s2 \\ s1) - > s1 U s2 - (s1 n s2)\n",
    "\n",
    "U -> Birleşim\n",
    "\n",
    "n -> kesişim"
   ]
  },
  {
   "cell_type": "code",
   "execution_count": 242,
   "id": "46be6f58",
   "metadata": {},
   "outputs": [
    {
     "data": {
      "text/plain": [
       "{1, 5, 10}"
      ]
     },
     "execution_count": 242,
     "metadata": {},
     "output_type": "execute_result"
    }
   ],
   "source": [
    "s1"
   ]
  },
  {
   "cell_type": "code",
   "execution_count": 243,
   "id": "683a694d",
   "metadata": {},
   "outputs": [
    {
     "data": {
      "text/plain": [
       "{2, 3, 5}"
      ]
     },
     "execution_count": 243,
     "metadata": {},
     "output_type": "execute_result"
    }
   ],
   "source": [
    "s2"
   ]
  },
  {
   "cell_type": "code",
   "execution_count": 244,
   "id": "33fcdab6",
   "metadata": {},
   "outputs": [
    {
     "data": {
      "text/plain": [
       "{1, 2, 3, 10}"
      ]
     },
     "execution_count": 244,
     "metadata": {},
     "output_type": "execute_result"
    }
   ],
   "source": [
    "# (s1 \\ s2) U (s2 \\ s1)  - > A U B - (A n B)\n",
    "s1.symmetric_difference(s2)"
   ]
  },
  {
   "cell_type": "code",
   "execution_count": 245,
   "id": "0b33e889",
   "metadata": {},
   "outputs": [
    {
     "data": {
      "text/plain": [
       "{1, 2, 3, 10}"
      ]
     },
     "execution_count": 245,
     "metadata": {},
     "output_type": "execute_result"
    }
   ],
   "source": [
    "# (s2 \\ s1) U (s1 \\ s2) same as (s1 \\ s2) U (s2 \\ s1)\n",
    "s2.symmetric_difference(s1)"
   ]
  },
  {
   "cell_type": "markdown",
   "id": "f58e50a5",
   "metadata": {},
   "source": [
    "### Intersection (kesişim)\n",
    "---"
   ]
  },
  {
   "cell_type": "code",
   "execution_count": 247,
   "id": "1209c0a1",
   "metadata": {},
   "outputs": [
    {
     "data": {
      "text/plain": [
       "{1, 5, 10}"
      ]
     },
     "execution_count": 247,
     "metadata": {},
     "output_type": "execute_result"
    }
   ],
   "source": [
    "s1"
   ]
  },
  {
   "cell_type": "code",
   "execution_count": 248,
   "id": "d1d90003",
   "metadata": {},
   "outputs": [
    {
     "data": {
      "text/plain": [
       "{2, 3, 5}"
      ]
     },
     "execution_count": 248,
     "metadata": {},
     "output_type": "execute_result"
    }
   ],
   "source": [
    "s2"
   ]
  },
  {
   "cell_type": "code",
   "execution_count": 249,
   "id": "c6d96365",
   "metadata": {},
   "outputs": [
    {
     "data": {
      "text/plain": [
       "{5}"
      ]
     },
     "execution_count": 249,
     "metadata": {},
     "output_type": "execute_result"
    }
   ],
   "source": [
    "s1.intersection(s2)"
   ]
  },
  {
   "cell_type": "code",
   "execution_count": 250,
   "id": "cf34704f",
   "metadata": {},
   "outputs": [
    {
     "data": {
      "text/plain": [
       "{5}"
      ]
     },
     "execution_count": 250,
     "metadata": {},
     "output_type": "execute_result"
    }
   ],
   "source": [
    "s2.intersection(s1)"
   ]
  },
  {
   "cell_type": "code",
   "execution_count": 251,
   "id": "05b8b127",
   "metadata": {},
   "outputs": [
    {
     "data": {
      "text/plain": [
       "{5}"
      ]
     },
     "execution_count": 251,
     "metadata": {},
     "output_type": "execute_result"
    }
   ],
   "source": [
    "# `&` operatörü setlere uygulanınca kesişim olur\n",
    "s1 & s2"
   ]
  },
  {
   "cell_type": "code",
   "execution_count": 252,
   "id": "968ac07a",
   "metadata": {},
   "outputs": [
    {
     "data": {
      "text/plain": [
       "{5}"
      ]
     },
     "execution_count": 252,
     "metadata": {},
     "output_type": "execute_result"
    }
   ],
   "source": [
    "# Bu işlem kesişim ile aynı sonucu verecek\n",
    "s1 - (s1-s2)"
   ]
  },
  {
   "cell_type": "code",
   "execution_count": 253,
   "id": "2a30a587",
   "metadata": {},
   "outputs": [],
   "source": [
    "# kesişim yapıp s1 in değerini buna günceller\n",
    "s1.intersection_update(s2) # s1 = s1.intersection(s2)"
   ]
  },
  {
   "cell_type": "code",
   "execution_count": 254,
   "id": "7d13b3a9",
   "metadata": {},
   "outputs": [
    {
     "data": {
      "text/plain": [
       "{5}"
      ]
     },
     "execution_count": 254,
     "metadata": {},
     "output_type": "execute_result"
    }
   ],
   "source": [
    "s1"
   ]
  },
  {
   "cell_type": "markdown",
   "id": "289ea829",
   "metadata": {},
   "source": [
    "### Union (Birleşim)\n",
    "---"
   ]
  },
  {
   "cell_type": "code",
   "execution_count": 255,
   "id": "a0e791d1",
   "metadata": {},
   "outputs": [],
   "source": [
    "s1 = set([1, 5, 10])"
   ]
  },
  {
   "cell_type": "code",
   "execution_count": 256,
   "id": "077f041d",
   "metadata": {},
   "outputs": [
    {
     "data": {
      "text/plain": [
       "{1, 5, 10}"
      ]
     },
     "execution_count": 256,
     "metadata": {},
     "output_type": "execute_result"
    }
   ],
   "source": [
    "s1"
   ]
  },
  {
   "cell_type": "code",
   "execution_count": 257,
   "id": "17990786",
   "metadata": {},
   "outputs": [
    {
     "data": {
      "text/plain": [
       "{2, 3, 5}"
      ]
     },
     "execution_count": 257,
     "metadata": {},
     "output_type": "execute_result"
    }
   ],
   "source": [
    "s2"
   ]
  },
  {
   "cell_type": "code",
   "execution_count": 258,
   "id": "a4f3f1a9",
   "metadata": {},
   "outputs": [
    {
     "data": {
      "text/plain": [
       "{1, 2, 3, 5, 10}"
      ]
     },
     "execution_count": 258,
     "metadata": {},
     "output_type": "execute_result"
    }
   ],
   "source": [
    "s1.union(s2)"
   ]
  },
  {
   "cell_type": "markdown",
   "id": "80233297",
   "metadata": {},
   "source": [
    "### Disjoint Sets\n",
    "---\n",
    "- s1 ∩ s2 = Ø olup olmadığını kontrol eder"
   ]
  },
  {
   "cell_type": "code",
   "execution_count": 260,
   "id": "acb5e533",
   "metadata": {},
   "outputs": [
    {
     "data": {
      "text/plain": [
       "{1, 5, 10}"
      ]
     },
     "execution_count": 260,
     "metadata": {},
     "output_type": "execute_result"
    }
   ],
   "source": [
    "s1"
   ]
  },
  {
   "cell_type": "code",
   "execution_count": 261,
   "id": "08f0656a",
   "metadata": {},
   "outputs": [
    {
     "data": {
      "text/plain": [
       "{2, 3, 5}"
      ]
     },
     "execution_count": 261,
     "metadata": {},
     "output_type": "execute_result"
    }
   ],
   "source": [
    "s2"
   ]
  },
  {
   "cell_type": "code",
   "execution_count": 262,
   "id": "ba48bb89",
   "metadata": {},
   "outputs": [],
   "source": [
    "s3 = set([12,11])"
   ]
  },
  {
   "cell_type": "code",
   "execution_count": 263,
   "id": "f6068058",
   "metadata": {},
   "outputs": [
    {
     "data": {
      "text/plain": [
       "{11, 12}"
      ]
     },
     "execution_count": 263,
     "metadata": {},
     "output_type": "execute_result"
    }
   ],
   "source": [
    "s3"
   ]
  },
  {
   "cell_type": "code",
   "execution_count": 264,
   "id": "6bfd557f",
   "metadata": {},
   "outputs": [
    {
     "data": {
      "text/plain": [
       "False"
      ]
     },
     "execution_count": 264,
     "metadata": {},
     "output_type": "execute_result"
    }
   ],
   "source": [
    "# s1 ∩ s2 ≠  Ø(boş küme) değil, o yüzden False döner\n",
    "s1.isdisjoint(s2) "
   ]
  },
  {
   "cell_type": "code",
   "execution_count": 265,
   "id": "d7a12d49",
   "metadata": {},
   "outputs": [
    {
     "data": {
      "text/plain": [
       "False"
      ]
     },
     "execution_count": 265,
     "metadata": {},
     "output_type": "execute_result"
    }
   ],
   "source": [
    "s2.isdisjoint(s1) "
   ]
  },
  {
   "cell_type": "code",
   "execution_count": 266,
   "id": "8a63ddb7",
   "metadata": {},
   "outputs": [
    {
     "data": {
      "text/plain": [
       "True"
      ]
     },
     "execution_count": 266,
     "metadata": {},
     "output_type": "execute_result"
    }
   ],
   "source": [
    "s1.isdisjoint(s3)"
   ]
  },
  {
   "cell_type": "code",
   "execution_count": 267,
   "id": "c4069682",
   "metadata": {},
   "outputs": [
    {
     "data": {
      "text/plain": [
       "False"
      ]
     },
     "execution_count": 267,
     "metadata": {},
     "output_type": "execute_result"
    }
   ],
   "source": [
    "len(s1.intersection(s2)) == 0"
   ]
  },
  {
   "cell_type": "markdown",
   "id": "8113d66a",
   "metadata": {},
   "source": [
    "### Subset (Alt küme)\n",
    "---\n",
    "- **s1.issubset(s2)**, s1'in s2'nin alt kümesi olup olmadığını kontrol eder"
   ]
  },
  {
   "cell_type": "code",
   "execution_count": 268,
   "id": "9bad8569",
   "metadata": {},
   "outputs": [
    {
     "data": {
      "text/plain": [
       "{1, 5, 10}"
      ]
     },
     "execution_count": 268,
     "metadata": {},
     "output_type": "execute_result"
    }
   ],
   "source": [
    "s1"
   ]
  },
  {
   "cell_type": "code",
   "execution_count": 269,
   "id": "e444f459",
   "metadata": {},
   "outputs": [
    {
     "data": {
      "text/plain": [
       "{2, 3, 5}"
      ]
     },
     "execution_count": 269,
     "metadata": {},
     "output_type": "execute_result"
    }
   ],
   "source": [
    "s2"
   ]
  },
  {
   "cell_type": "code",
   "execution_count": 270,
   "id": "ccbbcc91",
   "metadata": {},
   "outputs": [
    {
     "data": {
      "text/plain": [
       "False"
      ]
     },
     "execution_count": 270,
     "metadata": {},
     "output_type": "execute_result"
    }
   ],
   "source": [
    "s1.issubset(s2)"
   ]
  },
  {
   "cell_type": "markdown",
   "id": "3672d3ac",
   "metadata": {},
   "source": [
    "### Superset (üst küme)\n",
    "---\n",
    "- **s2.issuperset(s3)** s2'nin s3'ün üst kümesi olup olmadığını sorgular"
   ]
  },
  {
   "cell_type": "code",
   "execution_count": 271,
   "id": "a25e11ac",
   "metadata": {},
   "outputs": [],
   "source": [
    "s3 = set([2,5])"
   ]
  },
  {
   "cell_type": "code",
   "execution_count": 272,
   "id": "d3285842",
   "metadata": {},
   "outputs": [
    {
     "data": {
      "text/plain": [
       "{1, 5, 10}"
      ]
     },
     "execution_count": 272,
     "metadata": {},
     "output_type": "execute_result"
    }
   ],
   "source": [
    "s1"
   ]
  },
  {
   "cell_type": "code",
   "execution_count": 273,
   "id": "a675409d",
   "metadata": {},
   "outputs": [
    {
     "data": {
      "text/plain": [
       "{2, 3, 5}"
      ]
     },
     "execution_count": 273,
     "metadata": {},
     "output_type": "execute_result"
    }
   ],
   "source": [
    "s2"
   ]
  },
  {
   "cell_type": "code",
   "execution_count": 274,
   "id": "a6e3c75d",
   "metadata": {},
   "outputs": [
    {
     "data": {
      "text/plain": [
       "{2, 5}"
      ]
     },
     "execution_count": 274,
     "metadata": {},
     "output_type": "execute_result"
    }
   ],
   "source": [
    "s3"
   ]
  },
  {
   "cell_type": "code",
   "execution_count": 275,
   "id": "11aba7b3",
   "metadata": {},
   "outputs": [
    {
     "data": {
      "text/plain": [
       "True"
      ]
     },
     "execution_count": 275,
     "metadata": {},
     "output_type": "execute_result"
    }
   ],
   "source": [
    "s2.issuperset(s3)"
   ]
  },
  {
   "cell_type": "markdown",
   "id": "85440c58",
   "metadata": {},
   "source": [
    "# Non-Scalar veri tiplerinde for\n",
    "---\n",
    "- **for** döngüsünü işlerken **for 'değişken' in 'obje'** yapısında, her iterasyonda **değişken**in tek tek **obje**nin elemanlarına eşit olduğunu konuşmuştuk.\n",
    "- **list, tuple, dictionary** non-scalar veri tiplerini gördük ve bunların hepsinin içsel bir yapısı var, şimdi bunların elemanlarında **for** kullanarak iterasyon yapmaya bakalım.\n",
    "---\n",
    "\n",
    "\n",
    "### Listelerde İterasyon\n",
    "---\n",
    "- Diyelim ki öğrencilerin notlarını bir listede tutuyoruz."
   ]
  },
  {
   "cell_type": "code",
   "execution_count": 276,
   "id": "fb2b84ac",
   "metadata": {},
   "outputs": [],
   "source": [
    "notlar = [90,72,81,77]"
   ]
  },
  {
   "cell_type": "code",
   "execution_count": 277,
   "id": "56504c9e",
   "metadata": {},
   "outputs": [
    {
     "name": "stdout",
     "output_type": "stream",
     "text": [
      "90\n",
      "72\n",
      "81\n",
      "77\n"
     ]
    }
   ],
   "source": [
    "for e in notlar:\n",
    "    print(e)"
   ]
  },
  {
   "cell_type": "markdown",
   "id": "749ed12f",
   "metadata": {},
   "source": [
    "- Bu sınıftaki not ortalamasına bakmak istiyor olabilirim."
   ]
  },
  {
   "cell_type": "code",
   "execution_count": 278,
   "id": "cb9b0a9b",
   "metadata": {},
   "outputs": [
    {
     "name": "stdout",
     "output_type": "stream",
     "text": [
      "80.0\n"
     ]
    }
   ],
   "source": [
    "t = 0\n",
    "\n",
    "for e in notlar:\n",
    "    t += e\n",
    "    \n",
    "ortalama = t / len(notlar)\n",
    "\n",
    "print(ortalama)"
   ]
  },
  {
   "cell_type": "markdown",
   "id": "02d1ca35",
   "metadata": {},
   "source": [
    "- Burada **e** 'nin özel bir anlamı yok, sadece döngünün içinde onu kullanırken o adla referans veriyorum, adı **penguen** de olabilirdi.\n"
   ]
  },
  {
   "cell_type": "code",
   "execution_count": 279,
   "id": "9460d76f",
   "metadata": {},
   "outputs": [
    {
     "name": "stdout",
     "output_type": "stream",
     "text": [
      "Ortalama: 80.0\n"
     ]
    }
   ],
   "source": [
    "t = 0\n",
    "\n",
    "for penguen in notlar:\n",
    "    t += penguen\n",
    "    \n",
    "ortalama = t / len(notlar)\n",
    "\n",
    "print(\"Ortalama:\",ortalama)"
   ]
  },
  {
   "cell_type": "markdown",
   "id": "d4650452",
   "metadata": {},
   "source": [
    "- Bunun aynısını **range()** fonksiyonu ile de yapabilirdik.\n",
    "- **for e in notlar** diyince ilk iterasyonda **e** nin değeri 90, ikincisinde 72... olarak devam etti.\n",
    "- **range()** ile indexlerde iterasyon yapıp indexing ile değerlerine de ulaşabilirdim. (Range belirli bir listenin indexlerinde iterasyon yapmamı sağlamıyor, range(len(notlar)) diyince bize 0,1,2.. **len(notlar)-1** sayılarını verecek, bunlar da listenin indexleriyle örtüşüyor, yoksa range() index verir diye bir şey yok.)\n"
   ]
  },
  {
   "cell_type": "code",
   "execution_count": 280,
   "id": "d97548e5",
   "metadata": {},
   "outputs": [
    {
     "name": "stdout",
     "output_type": "stream",
     "text": [
      "Iteration:  0\n",
      "Iteration:  1\n",
      "Iteration:  2\n",
      "Iteration:  3\n"
     ]
    }
   ],
   "source": [
    "for i in range(4):\n",
    "    print(\"Iteration: \", i)"
   ]
  },
  {
   "cell_type": "code",
   "execution_count": 281,
   "id": "34d1496a",
   "metadata": {},
   "outputs": [
    {
     "name": "stdout",
     "output_type": "stream",
     "text": [
      "Ortalama: 80.0\n"
     ]
    }
   ],
   "source": [
    "t = 0\n",
    "\n",
    "for i in range(len(notlar)):\n",
    "    t += notlar[i]\n",
    "    \n",
    "ortalama = t / len(notlar)\n",
    "\n",
    "print(\"Ortalama:\",ortalama)"
   ]
  },
  {
   "cell_type": "markdown",
   "id": "37cee56c",
   "metadata": {},
   "source": [
    "- Diyelim ki öğretmen farketti ki herkese 5 puan az vermiş, herkesin puanını 5 arttırmak istiyor, bunu direkt listenin elemanlarında iterasyon yaparak yapamam. Listenin indexlerine erişip o değeri güncellemem lazım."
   ]
  },
  {
   "cell_type": "code",
   "execution_count": 282,
   "id": "144e1feb",
   "metadata": {},
   "outputs": [
    {
     "data": {
      "text/plain": [
       "[90, 72, 81, 77]"
      ]
     },
     "execution_count": 282,
     "metadata": {},
     "output_type": "execute_result"
    }
   ],
   "source": [
    "notlar"
   ]
  },
  {
   "cell_type": "code",
   "execution_count": 283,
   "id": "c131fded",
   "metadata": {},
   "outputs": [
    {
     "name": "stdout",
     "output_type": "stream",
     "text": [
      "90\n",
      "72\n",
      "81\n",
      "77\n"
     ]
    }
   ],
   "source": [
    "for e in notlar:\n",
    "    print(e)"
   ]
  },
  {
   "cell_type": "markdown",
   "id": "3c9eb7ef",
   "metadata": {},
   "source": [
    "- Buradaki **e** sadece notların içindeki değerler, **e** 'yi değiştirmek listenin elemanlarını değiştirmez!"
   ]
  },
  {
   "cell_type": "code",
   "execution_count": 284,
   "id": "1ea34796",
   "metadata": {},
   "outputs": [
    {
     "name": "stdout",
     "output_type": "stream",
     "text": [
      "90\n",
      "95\n",
      "[90, 72, 81, 77]\n",
      "--------------\n",
      "72\n",
      "77\n",
      "[90, 72, 81, 77]\n",
      "--------------\n",
      "81\n",
      "86\n",
      "[90, 72, 81, 77]\n",
      "--------------\n",
      "77\n",
      "82\n",
      "[90, 72, 81, 77]\n",
      "--------------\n",
      "[90, 72, 81, 77]\n"
     ]
    }
   ],
   "source": [
    "for e in notlar:\n",
    "    print(e)\n",
    "    e = e + 5\n",
    "    print(e)\n",
    "    print(notlar)\n",
    "    print(\"--------------\")\n",
    "\n",
    "print(notlar)"
   ]
  },
  {
   "cell_type": "markdown",
   "id": "8de269e0",
   "metadata": {},
   "source": [
    "- Güncelleme mantığını **range()** ile indexlerinde iterasyon yaparak yapacağım."
   ]
  },
  {
   "cell_type": "code",
   "execution_count": 285,
   "id": "f800eac4",
   "metadata": {},
   "outputs": [],
   "source": [
    "for i in range(len(notlar)):\n",
    "    notlar[i] += 5"
   ]
  },
  {
   "cell_type": "code",
   "execution_count": 286,
   "id": "4ad11ca8",
   "metadata": {},
   "outputs": [
    {
     "data": {
      "text/plain": [
       "[95, 77, 86, 82]"
      ]
     },
     "execution_count": 286,
     "metadata": {},
     "output_type": "execute_result"
    }
   ],
   "source": [
    "notlar"
   ]
  },
  {
   "cell_type": "markdown",
   "id": "d30415d8",
   "metadata": {},
   "source": [
    "- Hadi biraz da **continue** mantığının alıştırmasını yapmış olalım. Diyelim ki öğretmen 2. öğrencinin kağıdını doğru okumuş, 2. öğrenci (index 1'deki) hariç hepsinin değerini 5 arttıracak:"
   ]
  },
  {
   "cell_type": "code",
   "execution_count": 287,
   "id": "e232015a",
   "metadata": {},
   "outputs": [],
   "source": [
    "notlar = [90,72,81,77]"
   ]
  },
  {
   "cell_type": "code",
   "execution_count": 288,
   "id": "3045cda2",
   "metadata": {},
   "outputs": [
    {
     "name": "stdout",
     "output_type": "stream",
     "text": [
      "[95, 72, 86, 82]\n"
     ]
    }
   ],
   "source": [
    "for i in range(len(notlar)):\n",
    "    if i == 1:\n",
    "        continue\n",
    "    notlar[i] += 5\n",
    "    \n",
    "print(notlar)"
   ]
  },
  {
   "cell_type": "markdown",
   "id": "44ec51f0",
   "metadata": {},
   "source": [
    "- Şimdi de **break** egzersizi yapalım.\n",
    "- Diyelim ki bir listenin içerisinde belirli bir elemen var mı diye kontrol etmek istiyoruz. Bulunca aramaya devam etmeyeceğim. Devam etme mantığını **break** ile sağlayacağım.\n",
    "- İlk olarak kullanıcıya hangi sayıyı aradığını soracağız, sonra bu sayı var mı kontrol edeceğiz."
   ]
  },
  {
   "cell_type": "code",
   "execution_count": 289,
   "id": "93c27c2e",
   "metadata": {},
   "outputs": [
    {
     "name": "stdout",
     "output_type": "stream",
     "text": [
      "Hangi sayıyı kontrol edeyim?:100\n",
      "2\n",
      "3\n",
      "40\n",
      "100\n",
      "Buldum!\n"
     ]
    }
   ],
   "source": [
    "x = int(input(\"Hangi sayıyı kontrol edeyim?:\"))\n",
    "\n",
    "l = [2,3,40,100,10,1]\n",
    "\n",
    "for e in l:\n",
    "    print(e) # iterasyon break ile çıkmış mı görelim diye\n",
    "    if e == x:\n",
    "        print(\"Buldum!\")\n",
    "        break"
   ]
  },
  {
   "cell_type": "markdown",
   "id": "901735ca",
   "metadata": {},
   "source": [
    "### Tuple'lerda İterasyon\n",
    "--- \n",
    "- Listelerdeki iterasyondan hiç bir farkı yok. Değerlerini güncelleyemiyoruz ama bu zaten döngüden bağımsız bir durum oluyor."
   ]
  },
  {
   "cell_type": "code",
   "execution_count": 290,
   "id": "dfac4183",
   "metadata": {},
   "outputs": [],
   "source": [
    "t = (1,2,3,4)"
   ]
  },
  {
   "cell_type": "code",
   "execution_count": 291,
   "id": "38325ddf",
   "metadata": {},
   "outputs": [
    {
     "name": "stdout",
     "output_type": "stream",
     "text": [
      "1\n",
      "2\n",
      "3\n",
      "4\n"
     ]
    }
   ],
   "source": [
    "for e in t:\n",
    "    print(e)"
   ]
  },
  {
   "cell_type": "code",
   "execution_count": 292,
   "id": "883e2849",
   "metadata": {},
   "outputs": [
    {
     "name": "stdout",
     "output_type": "stream",
     "text": [
      "10\n"
     ]
    }
   ],
   "source": [
    "toplam = 0\n",
    "\n",
    "for e in t:\n",
    "    toplam += e\n",
    "    \n",
    "print(toplam)"
   ]
  },
  {
   "cell_type": "code",
   "execution_count": 293,
   "id": "2df1cbbf",
   "metadata": {},
   "outputs": [
    {
     "name": "stdout",
     "output_type": "stream",
     "text": [
      "1\n",
      "2\n",
      "3\n",
      "4\n"
     ]
    }
   ],
   "source": [
    "for i in range(len(t)):\n",
    "    print(t[i])"
   ]
  },
  {
   "cell_type": "markdown",
   "id": "2323e462",
   "metadata": {},
   "source": [
    "### Dictionary'lerde İterasyon\n",
    "---\n",
    "- Burada durum biraz farklı. Default olarak elemanlarında dolaş diyince **key**'lerde iterasyon yapıyor. Zaten index mantığı olmadığı için **range()** ile yapmak çoğu zaman karşımıza çıkmaz. "
   ]
  },
  {
   "cell_type": "code",
   "execution_count": 294,
   "id": "7afdad3c",
   "metadata": {},
   "outputs": [],
   "source": [
    "d = {\"student_1\": [90,89], \"student_2\": [80,83], \"student_3\": [72,71]}"
   ]
  },
  {
   "cell_type": "code",
   "execution_count": 295,
   "id": "4b950576",
   "metadata": {},
   "outputs": [
    {
     "name": "stdout",
     "output_type": "stream",
     "text": [
      "student_1\n",
      "student_2\n",
      "student_3\n"
     ]
    }
   ],
   "source": [
    "for k in d:\n",
    "    print(k)"
   ]
  },
  {
   "cell_type": "markdown",
   "id": "0e236276",
   "metadata": {},
   "source": [
    "- Değerlerine ulaşmak istiyorsam şöyle yapabilirdim:"
   ]
  },
  {
   "cell_type": "code",
   "execution_count": 296,
   "id": "74011e04",
   "metadata": {},
   "outputs": [
    {
     "name": "stdout",
     "output_type": "stream",
     "text": [
      "[90, 89]\n",
      "[80, 83]\n",
      "[72, 71]\n"
     ]
    }
   ],
   "source": [
    "for k in d:\n",
    "    v = d[k]\n",
    "    print(v)"
   ]
  },
  {
   "cell_type": "markdown",
   "id": "337f73b6",
   "metadata": {},
   "source": [
    "- veya **d.values()** diyerek **value**'larında iterasyon yapabilirim. Burada **for 'değişken' in 'obje'** yapısında **'değişken'** int vs gibi değil liste gibi yapılar da olabilir iterasyon içerisinde.\n",
    "- bu, **values()**'dan dolayı bir şey değil, dictionary'nin value'ları int olsa böyle olmazdı."
   ]
  },
  {
   "cell_type": "code",
   "execution_count": 297,
   "id": "6af72317",
   "metadata": {},
   "outputs": [],
   "source": [
    "d = {\"student_1\": 90, \"student_2\": 80, \"student_3\": 72}"
   ]
  },
  {
   "cell_type": "code",
   "execution_count": 298,
   "id": "cd280b31",
   "metadata": {},
   "outputs": [
    {
     "name": "stdout",
     "output_type": "stream",
     "text": [
      "90\n",
      "80\n",
      "72\n"
     ]
    }
   ],
   "source": [
    "for v in d.values():\n",
    "    print(v)"
   ]
  },
  {
   "cell_type": "code",
   "execution_count": 299,
   "id": "c8c062c1",
   "metadata": {},
   "outputs": [],
   "source": [
    "d = {\"student_1\": [90,89], \"student_2\": [80,83], \"student_3\": [72,71]}"
   ]
  },
  {
   "cell_type": "code",
   "execution_count": 300,
   "id": "94e7fe6c",
   "metadata": {},
   "outputs": [
    {
     "name": "stdout",
     "output_type": "stream",
     "text": [
      "[90, 89]\n",
      "[80, 83]\n",
      "[72, 71]\n"
     ]
    }
   ],
   "source": [
    "for v in d.values():\n",
    "    print(v)"
   ]
  },
  {
   "cell_type": "markdown",
   "id": "67cd06d9",
   "metadata": {},
   "source": [
    "- Burada **v** her iterasyonda **int .**\n",
    "- 85 den fazla alan var mı diye bakmak istiyorum diyelim ve bunun kim olduğunu (olduklarını) bulmak istiyorum."
   ]
  },
  {
   "cell_type": "code",
   "execution_count": 301,
   "id": "a4f1c382",
   "metadata": {},
   "outputs": [],
   "source": [
    "d = {\"student_1\": 90, \"student_2\": 80, \"student_3\": 72}"
   ]
  },
  {
   "cell_type": "code",
   "execution_count": 302,
   "id": "077531cc",
   "metadata": {},
   "outputs": [
    {
     "name": "stdout",
     "output_type": "stream",
     "text": [
      "student_1\n"
     ]
    }
   ],
   "source": [
    "for k in d:\n",
    "    value = d[k]\n",
    "    \n",
    "    if value > 85:\n",
    "        print(k)"
   ]
  },
  {
   "cell_type": "markdown",
   "id": "a702c0cd",
   "metadata": {},
   "source": [
    "- Aynı anda hem **key** hem de **value**'larda iterasyon yapmak için:\n",
    "- Variable unpacking konusunda bir tuple, liste gibi yapıların değerlerini birden çok değişkene tek seferde eşitlemeyi görmüştük.\n",
    "- Bunun aynısını iterasyonda da yapabiliriz."
   ]
  },
  {
   "cell_type": "code",
   "execution_count": 303,
   "id": "56cf5c10",
   "metadata": {},
   "outputs": [
    {
     "name": "stdout",
     "output_type": "stream",
     "text": [
      "key değeri: student_1 value değeri: 90\n",
      "key değeri: student_2 value değeri: 80\n",
      "key değeri: student_3 value değeri: 72\n"
     ]
    }
   ],
   "source": [
    "for k,v in d.items():\n",
    "    print(\"key değeri:\", k, \"value değeri:\", v)"
   ]
  },
  {
   "cell_type": "markdown",
   "id": "a4ca13f8",
   "metadata": {},
   "source": [
    "# split()\n",
    "---\n",
    "- Belirli bir bölme kriterine göre string'in alt parçalarını listenin elemanları olarak dönüştürebiliriz."
   ]
  },
  {
   "cell_type": "code",
   "execution_count": 306,
   "id": "1a4acd1e",
   "metadata": {},
   "outputs": [],
   "source": [
    "s = \"merhaba nasılsın ?\""
   ]
  },
  {
   "cell_type": "markdown",
   "id": "98ddd9d3",
   "metadata": {},
   "source": [
    "- **split()**'in içine neye göre böleceğimizi yazarız."
   ]
  },
  {
   "cell_type": "code",
   "execution_count": 307,
   "id": "9671fb9c",
   "metadata": {},
   "outputs": [
    {
     "data": {
      "text/plain": [
       "['merhaba', 'nasılsın', '?']"
      ]
     },
     "execution_count": 307,
     "metadata": {},
     "output_type": "execute_result"
    }
   ],
   "source": [
    "s.split(\" \")"
   ]
  },
  {
   "cell_type": "markdown",
   "id": "d292ca06",
   "metadata": {},
   "source": [
    "- hiç bir şey yazmazsak default olarak boşluğa göre böler."
   ]
  },
  {
   "cell_type": "code",
   "execution_count": 308,
   "id": "18ad9a6f",
   "metadata": {},
   "outputs": [
    {
     "data": {
      "text/plain": [
       "['merhaba', 'nasılsın', '?']"
      ]
     },
     "execution_count": 308,
     "metadata": {},
     "output_type": "execute_result"
    }
   ],
   "source": [
    "s.split()"
   ]
  },
  {
   "cell_type": "code",
   "execution_count": 309,
   "id": "af9578ec",
   "metadata": {},
   "outputs": [],
   "source": [
    "s2 = \"limon,portakal,elma\""
   ]
  },
  {
   "cell_type": "code",
   "execution_count": 310,
   "id": "3e0cf603",
   "metadata": {},
   "outputs": [
    {
     "data": {
      "text/plain": [
       "['limon,portakal,elma']"
      ]
     },
     "execution_count": 310,
     "metadata": {},
     "output_type": "execute_result"
    }
   ],
   "source": [
    "s2.split()"
   ]
  },
  {
   "cell_type": "code",
   "execution_count": 311,
   "id": "b112bf71",
   "metadata": {},
   "outputs": [
    {
     "data": {
      "text/plain": [
       "['limon', 'portakal', 'elma']"
      ]
     },
     "execution_count": 311,
     "metadata": {},
     "output_type": "execute_result"
    }
   ],
   "source": [
    "s2.split(\",\")"
   ]
  },
  {
   "cell_type": "markdown",
   "id": "5585c6d3",
   "metadata": {},
   "source": [
    "### join()\n",
    "---\n",
    "- listenin elemanları arasına belirtilen yapıyı koyup string'e dönüştürür. \n",
    "\n",
    "**\"patern\".join(elemanları kullanılacak liste)**"
   ]
  },
  {
   "cell_type": "code",
   "execution_count": 312,
   "id": "06dfc35c",
   "metadata": {},
   "outputs": [],
   "source": [
    "l = ['limon', 'portakal', 'elma']"
   ]
  },
  {
   "cell_type": "code",
   "execution_count": 313,
   "id": "5db06113",
   "metadata": {},
   "outputs": [
    {
     "data": {
      "text/plain": [
       "'limon,portakal,elma'"
      ]
     },
     "execution_count": 313,
     "metadata": {},
     "output_type": "execute_result"
    }
   ],
   "source": [
    "\",\".join(l)"
   ]
  },
  {
   "cell_type": "code",
   "execution_count": 314,
   "id": "d1a414c4",
   "metadata": {},
   "outputs": [],
   "source": [
    "s = \",\".join(l)"
   ]
  },
  {
   "cell_type": "code",
   "execution_count": 315,
   "id": "dacd394f",
   "metadata": {},
   "outputs": [
    {
     "data": {
      "text/plain": [
       "'limon,portakal,elma'"
      ]
     },
     "execution_count": 315,
     "metadata": {},
     "output_type": "execute_result"
    }
   ],
   "source": [
    "s"
   ]
  },
  {
   "cell_type": "code",
   "execution_count": 316,
   "id": "61b35daf",
   "metadata": {},
   "outputs": [
    {
     "data": {
      "text/plain": [
       "'limon-portakal-elma'"
      ]
     },
     "execution_count": 316,
     "metadata": {},
     "output_type": "execute_result"
    }
   ],
   "source": [
    "\"-\".join(l)"
   ]
  },
  {
   "cell_type": "code",
   "execution_count": 318,
   "id": "e6b2ec4e",
   "metadata": {},
   "outputs": [
    {
     "data": {
      "text/plain": [
       "'limon/portakal/elma'"
      ]
     },
     "execution_count": 318,
     "metadata": {},
     "output_type": "execute_result"
    }
   ],
   "source": [
    "\"/\".join(l)"
   ]
  },
  {
   "cell_type": "markdown",
   "id": "31ee37d5",
   "metadata": {},
   "source": [
    "# List Comprehensions\n",
    "---\n",
    "- Diyelim ki 1'den 10'a kadar olan sayıların karelerinden bir liste oluşturmak istiyorum. Bunu aşağıdaki gibi yapabilirim."
   ]
  },
  {
   "cell_type": "code",
   "execution_count": 321,
   "id": "715a8db4",
   "metadata": {},
   "outputs": [],
   "source": [
    "squares = []\n",
    "\n",
    "for i in range(1,11):\n",
    "    squares.append(i*i)"
   ]
  },
  {
   "cell_type": "code",
   "execution_count": 322,
   "id": "1aea5e18",
   "metadata": {},
   "outputs": [
    {
     "data": {
      "text/plain": [
       "[1, 4, 9, 16, 25, 36, 49, 64, 81, 100]"
      ]
     },
     "execution_count": 322,
     "metadata": {},
     "output_type": "execute_result"
    }
   ],
   "source": [
    "squares"
   ]
  },
  {
   "cell_type": "markdown",
   "id": "c42b8588",
   "metadata": {},
   "source": [
    "- Bunun aynısını list comprehensions kullanarak da yapabiliriz. "
   ]
  },
  {
   "cell_type": "code",
   "execution_count": 323,
   "id": "122c6ff7",
   "metadata": {},
   "outputs": [],
   "source": [
    "squares = [i * i for i in range(1,11)]"
   ]
  },
  {
   "cell_type": "code",
   "execution_count": 324,
   "id": "3bd8b637",
   "metadata": {},
   "outputs": [
    {
     "data": {
      "text/plain": [
       "[1, 4, 9, 16, 25, 36, 49, 64, 81, 100]"
      ]
     },
     "execution_count": 324,
     "metadata": {},
     "output_type": "execute_result"
    }
   ],
   "source": [
    "squares"
   ]
  },
  {
   "cell_type": "code",
   "execution_count": 325,
   "id": "994fcfec",
   "metadata": {},
   "outputs": [],
   "source": [
    "# list comprehensions ve fonksiyon mantığını birleştirme \n",
    "\n",
    "def cube(x):\n",
    "    return x * x * x # x ** 3"
   ]
  },
  {
   "cell_type": "code",
   "execution_count": 326,
   "id": "0dbf460c",
   "metadata": {},
   "outputs": [],
   "source": [
    "cubes = [cube(x) for x in range(1,11)]"
   ]
  },
  {
   "cell_type": "code",
   "execution_count": 327,
   "id": "586bffdc",
   "metadata": {},
   "outputs": [
    {
     "data": {
      "text/plain": [
       "[1, 8, 27, 64, 125, 216, 343, 512, 729, 1000]"
      ]
     },
     "execution_count": 327,
     "metadata": {},
     "output_type": "execute_result"
    }
   ],
   "source": [
    "cubes"
   ]
  },
  {
   "cell_type": "markdown",
   "id": "31e1411c",
   "metadata": {},
   "source": [
    "### List Comprehension'larda Conditional Yapıların Kullanılması\n",
    "---"
   ]
  },
  {
   "cell_type": "code",
   "execution_count": 328,
   "id": "8e0997d5",
   "metadata": {},
   "outputs": [
    {
     "name": "stdout",
     "output_type": "stream",
     "text": [
      "[1, 4, 9, 16, 25, 36, 49, 64, 81, 100]\n"
     ]
    }
   ],
   "source": [
    "squares = [1, 4, 9, 16, 25, 36, 49, 64, 81, 100]\n",
    "\n",
    "print(squares)"
   ]
  },
  {
   "cell_type": "code",
   "execution_count": 329,
   "id": "3fafd611",
   "metadata": {},
   "outputs": [],
   "source": [
    "odd_squares = []\n",
    "\n",
    "for i in squares:\n",
    "    \n",
    "    if i % 2 == 0:\n",
    "        odd_squares.append(i)"
   ]
  },
  {
   "cell_type": "code",
   "execution_count": 330,
   "id": "c6224b19",
   "metadata": {},
   "outputs": [
    {
     "data": {
      "text/plain": [
       "[4, 16, 36, 64, 100]"
      ]
     },
     "execution_count": 330,
     "metadata": {},
     "output_type": "execute_result"
    }
   ],
   "source": [
    "odd_squares"
   ]
  },
  {
   "cell_type": "code",
   "execution_count": 334,
   "id": "1398cee0",
   "metadata": {},
   "outputs": [],
   "source": [
    "# squares listesindeki tek elemanlardan yeni bir liste yaratmak \n",
    "\n",
    "odd_squares = [i for i in squares if i % 2 == 1]"
   ]
  },
  {
   "cell_type": "code",
   "execution_count": 335,
   "id": "fd9fd5af",
   "metadata": {},
   "outputs": [
    {
     "data": {
      "text/plain": [
       "[1, 9, 25, 49, 81]"
      ]
     },
     "execution_count": 335,
     "metadata": {},
     "output_type": "execute_result"
    }
   ],
   "source": [
    "odd_squares"
   ]
  },
  {
   "cell_type": "code",
   "execution_count": 336,
   "id": "9127405f",
   "metadata": {},
   "outputs": [],
   "source": [
    "# bu test mantığını fonksiyonla da sağlayabilirdik\n",
    "\n",
    "def is_odd(x):\n",
    "    \n",
    "    if x % 2 == 0:\n",
    "        return False\n",
    "    else:\n",
    "        return True"
   ]
  },
  {
   "cell_type": "code",
   "execution_count": 337,
   "id": "95b786ef",
   "metadata": {},
   "outputs": [],
   "source": [
    "odd_squares = [i for i in squares if is_odd(i)]"
   ]
  },
  {
   "cell_type": "code",
   "execution_count": 338,
   "id": "401562f1",
   "metadata": {},
   "outputs": [
    {
     "data": {
      "text/plain": [
       "[1, 9, 25, 49, 81]"
      ]
     },
     "execution_count": 338,
     "metadata": {},
     "output_type": "execute_result"
    }
   ],
   "source": [
    "odd_squares"
   ]
  },
  {
   "cell_type": "code",
   "execution_count": 339,
   "id": "421145eb",
   "metadata": {},
   "outputs": [],
   "source": [
    "def empty(x):\n",
    "    \n",
    "    if x % 2 == 0:\n",
    "        return False\n",
    "    else:\n",
    "        return False"
   ]
  },
  {
   "cell_type": "code",
   "execution_count": 340,
   "id": "03d72e8f",
   "metadata": {},
   "outputs": [],
   "source": [
    "empty_squares = [i for i in squares if empty(i)]"
   ]
  },
  {
   "cell_type": "code",
   "execution_count": 341,
   "id": "af29f3bd",
   "metadata": {},
   "outputs": [
    {
     "data": {
      "text/plain": [
       "[]"
      ]
     },
     "execution_count": 341,
     "metadata": {},
     "output_type": "execute_result"
    }
   ],
   "source": [
    "empty_squares"
   ]
  },
  {
   "cell_type": "code",
   "execution_count": 342,
   "id": "6411f26b",
   "metadata": {},
   "outputs": [],
   "source": [
    "def is_even(x):\n",
    "    \n",
    "    if x % 2 == 0:\n",
    "        return True\n",
    "    else:\n",
    "        return False"
   ]
  },
  {
   "cell_type": "code",
   "execution_count": 343,
   "id": "24ce3b6f",
   "metadata": {},
   "outputs": [],
   "source": [
    "even_squares = [i for i in squares if is_even(i)]"
   ]
  },
  {
   "cell_type": "code",
   "execution_count": 344,
   "id": "88952c29",
   "metadata": {},
   "outputs": [
    {
     "data": {
      "text/plain": [
       "[4, 16, 36, 64, 100]"
      ]
     },
     "execution_count": 344,
     "metadata": {},
     "output_type": "execute_result"
    }
   ],
   "source": [
    "even_squares"
   ]
  },
  {
   "cell_type": "code",
   "execution_count": 345,
   "id": "496c8aae",
   "metadata": {},
   "outputs": [
    {
     "data": {
      "text/plain": [
       "[1, 4, 9, 16, 25, 36, 49, 64, 81, 100]"
      ]
     },
     "execution_count": 345,
     "metadata": {},
     "output_type": "execute_result"
    }
   ],
   "source": [
    "squares"
   ]
  },
  {
   "cell_type": "code",
   "execution_count": 346,
   "id": "9747fc00",
   "metadata": {},
   "outputs": [],
   "source": [
    "weird_squares = [i if i % 2 == 0 else -1 for i in squares]"
   ]
  },
  {
   "cell_type": "code",
   "execution_count": 347,
   "id": "2ff11d31",
   "metadata": {},
   "outputs": [
    {
     "data": {
      "text/plain": [
       "[-1, 4, -1, 16, -1, 36, -1, 64, -1, 100]"
      ]
     },
     "execution_count": 347,
     "metadata": {},
     "output_type": "execute_result"
    }
   ],
   "source": [
    "weird_squares"
   ]
  },
  {
   "cell_type": "code",
   "execution_count": 348,
   "id": "cf5a3469",
   "metadata": {},
   "outputs": [],
   "source": [
    "ultra_weird_squares = [e if e % 2 == 0 else -1 for e in squares if is_even(e)]"
   ]
  },
  {
   "cell_type": "code",
   "execution_count": 349,
   "id": "bdc263bc",
   "metadata": {},
   "outputs": [
    {
     "data": {
      "text/plain": [
       "[4, 16, 36, 64, 100]"
      ]
     },
     "execution_count": 349,
     "metadata": {},
     "output_type": "execute_result"
    }
   ],
   "source": [
    "ultra_weird_squares"
   ]
  },
  {
   "cell_type": "markdown",
   "id": "365dc87f",
   "metadata": {},
   "source": [
    "### Set Comprehension\n",
    "---"
   ]
  },
  {
   "cell_type": "code",
   "execution_count": 350,
   "id": "c151c990",
   "metadata": {},
   "outputs": [],
   "source": [
    "numbers = [1,2,3,4,5,6,7,1,2]"
   ]
  },
  {
   "cell_type": "code",
   "execution_count": 351,
   "id": "527fe104",
   "metadata": {},
   "outputs": [],
   "source": [
    "set_numbers = {s for s in numbers if s in [1,2,3,4,5,6,1,2]}"
   ]
  },
  {
   "cell_type": "code",
   "execution_count": 352,
   "id": "ae1abf3c",
   "metadata": {},
   "outputs": [
    {
     "data": {
      "text/plain": [
       "{1, 2, 3, 4, 5, 6}"
      ]
     },
     "execution_count": 352,
     "metadata": {},
     "output_type": "execute_result"
    }
   ],
   "source": [
    "set_numbers"
   ]
  },
  {
   "cell_type": "markdown",
   "id": "f529697f",
   "metadata": {},
   "source": [
    "### Dictionary Comprehension\n",
    "---"
   ]
  },
  {
   "cell_type": "code",
   "execution_count": 353,
   "id": "21e60078",
   "metadata": {},
   "outputs": [],
   "source": [
    "square_dict = {e:e * e for e in range(1,11)}"
   ]
  },
  {
   "cell_type": "code",
   "execution_count": 354,
   "id": "7ebdcfb7",
   "metadata": {},
   "outputs": [
    {
     "data": {
      "text/plain": [
       "{1: 1, 2: 4, 3: 9, 4: 16, 5: 25, 6: 36, 7: 49, 8: 64, 9: 81, 10: 100}"
      ]
     },
     "execution_count": 354,
     "metadata": {},
     "output_type": "execute_result"
    }
   ],
   "source": [
    "square_dict"
   ]
  },
  {
   "cell_type": "code",
   "execution_count": 355,
   "id": "042fbef2",
   "metadata": {},
   "outputs": [
    {
     "data": {
      "text/plain": [
       "81"
      ]
     },
     "execution_count": 355,
     "metadata": {},
     "output_type": "execute_result"
    }
   ],
   "source": [
    "square_dict[9]"
   ]
  },
  {
   "cell_type": "markdown",
   "id": "aedee1ab",
   "metadata": {},
   "source": [
    "### Nested List Comprehension\n",
    "---"
   ]
  },
  {
   "cell_type": "code",
   "execution_count": 356,
   "id": "7afd3273",
   "metadata": {},
   "outputs": [],
   "source": [
    "m = [[j for j in range(7)] for i in range(5)]"
   ]
  },
  {
   "cell_type": "code",
   "execution_count": 357,
   "id": "f2b8c5b9",
   "metadata": {},
   "outputs": [
    {
     "data": {
      "text/plain": [
       "[[0, 1, 2, 3, 4, 5, 6],\n",
       " [0, 1, 2, 3, 4, 5, 6],\n",
       " [0, 1, 2, 3, 4, 5, 6],\n",
       " [0, 1, 2, 3, 4, 5, 6],\n",
       " [0, 1, 2, 3, 4, 5, 6]]"
      ]
     },
     "execution_count": 357,
     "metadata": {},
     "output_type": "execute_result"
    }
   ],
   "source": [
    "m"
   ]
  },
  {
   "cell_type": "code",
   "execution_count": 365,
   "id": "a3fbab48",
   "metadata": {},
   "outputs": [],
   "source": [
    "m = [[10, 11, 12], [13, 14], [15, 16, 17, 18]] "
   ]
  },
  {
   "cell_type": "code",
   "execution_count": 366,
   "id": "d192d95f",
   "metadata": {},
   "outputs": [
    {
     "name": "stdout",
     "output_type": "stream",
     "text": [
      "[10, 11, 12]\n",
      "[13, 14]\n",
      "[15, 16, 17, 18]\n"
     ]
    }
   ],
   "source": [
    "for l in m:\n",
    "    print(l)"
   ]
  },
  {
   "cell_type": "code",
   "execution_count": 367,
   "id": "0f59445d",
   "metadata": {},
   "outputs": [
    {
     "name": "stdout",
     "output_type": "stream",
     "text": [
      "[10, 11, 12]\n",
      "10\n",
      "11\n",
      "12\n",
      "[13, 14]\n",
      "13\n",
      "14\n",
      "[15, 16, 17, 18]\n",
      "15\n",
      "16\n",
      "17\n",
      "18\n"
     ]
    }
   ],
   "source": [
    "new_m = []\n",
    "for l in m:\n",
    "    print(l)\n",
    "    for e in l:\n",
    "        new_m.append(e)\n",
    "        print(e)"
   ]
  },
  {
   "cell_type": "code",
   "execution_count": 368,
   "id": "658b8bba",
   "metadata": {},
   "outputs": [
    {
     "data": {
      "text/plain": [
       "[10, 11, 12, 13, 14, 15, 16, 17, 18]"
      ]
     },
     "execution_count": 368,
     "metadata": {},
     "output_type": "execute_result"
    }
   ],
   "source": [
    "new_m"
   ]
  },
  {
   "cell_type": "code",
   "execution_count": 369,
   "id": "7bbbba6f",
   "metadata": {},
   "outputs": [],
   "source": [
    "# matrixi list comprehension ile flat etmek\n",
    "\n",
    "flatten_m = [e for l in m for e in l]"
   ]
  },
  {
   "cell_type": "code",
   "execution_count": 370,
   "id": "4cccf642",
   "metadata": {},
   "outputs": [
    {
     "data": {
      "text/plain": [
       "[10, 11, 12, 13, 14, 15, 16, 17, 18]"
      ]
     },
     "execution_count": 370,
     "metadata": {},
     "output_type": "execute_result"
    }
   ],
   "source": [
    "flatten_m"
   ]
  },
  {
   "cell_type": "code",
   "execution_count": 371,
   "id": "d7aec23b",
   "metadata": {},
   "outputs": [],
   "source": [
    "# Sadece çift değerleri kabul edecek\n",
    "\n",
    "flatten_m = [e for l in m for e in l if e % 2 == 0]"
   ]
  },
  {
   "cell_type": "code",
   "execution_count": 372,
   "id": "5676b41f",
   "metadata": {},
   "outputs": [
    {
     "data": {
      "text/plain": [
       "[10, 12, 14, 16, 18]"
      ]
     },
     "execution_count": 372,
     "metadata": {},
     "output_type": "execute_result"
    }
   ],
   "source": [
    "flatten_m"
   ]
  },
  {
   "cell_type": "markdown",
   "id": "d4d95c9a",
   "metadata": {},
   "source": [
    "# Variable Unpacking\n",
    "---\n",
    "- Şimdiye kadar hep tek değişkene tek değer verdik.\n",
    "- Peki bir seferde birden çok değişkene değer vermek için ne yaparız?\n",
    "- Aşağıdaki kodun sonucu\n",
    "\n",
    "x = 4\n",
    "\n",
    "y = 7\n",
    "\n",
    "- ile aynı"
   ]
  },
  {
   "cell_type": "code",
   "execution_count": 376,
   "id": "fe850d32",
   "metadata": {},
   "outputs": [],
   "source": [
    "x, y = (4, 7)"
   ]
  },
  {
   "cell_type": "code",
   "execution_count": 377,
   "id": "671f073f",
   "metadata": {},
   "outputs": [
    {
     "data": {
      "text/plain": [
       "4"
      ]
     },
     "execution_count": 377,
     "metadata": {},
     "output_type": "execute_result"
    }
   ],
   "source": [
    "x"
   ]
  },
  {
   "cell_type": "code",
   "execution_count": 378,
   "id": "5c8db143",
   "metadata": {},
   "outputs": [
    {
     "data": {
      "text/plain": [
       "7"
      ]
     },
     "execution_count": 378,
     "metadata": {},
     "output_type": "execute_result"
    }
   ],
   "source": [
    "y"
   ]
  },
  {
   "cell_type": "markdown",
   "id": "785ffe2c",
   "metadata": {},
   "source": [
    "- 2'den çok değere de bunu yapabiliriz."
   ]
  },
  {
   "cell_type": "code",
   "execution_count": 379,
   "id": "ec30c65d",
   "metadata": {},
   "outputs": [],
   "source": [
    "x, y, z = (4, 7, 11)"
   ]
  },
  {
   "cell_type": "code",
   "execution_count": 383,
   "id": "44a4a50a",
   "metadata": {},
   "outputs": [
    {
     "name": "stdout",
     "output_type": "stream",
     "text": [
      "4 7 11\n"
     ]
    }
   ],
   "source": [
    "print(x,y,z)"
   ]
  },
  {
   "cell_type": "markdown",
   "id": "3635afa2",
   "metadata": {},
   "source": [
    "#### Bazı Değerlere İhtiyacım Yoksa:\n",
    "---\n",
    "- Diyelim ki soldaki yapının sadece birinci elemanına bir değer eşitleyip kullanmak istiyorum. Daha önce döngülerde yaptığımız gibi kullanmayacağımız değişkene \"_\" diyebiliriz."
   ]
  },
  {
   "cell_type": "code",
   "execution_count": 384,
   "id": "03ac0945",
   "metadata": {},
   "outputs": [],
   "source": [
    "x, _ = (4, 7)"
   ]
  },
  {
   "cell_type": "markdown",
   "id": "c27c8f43",
   "metadata": {},
   "source": [
    "#### Sol ve Sağdaki Yapı Farklı Sayıdaysa:\n",
    "---"
   ]
  },
  {
   "cell_type": "code",
   "execution_count": 385,
   "id": "6f194b99",
   "metadata": {},
   "outputs": [
    {
     "ename": "ValueError",
     "evalue": "too many values to unpack (expected 3)",
     "output_type": "error",
     "traceback": [
      "\u001b[0;31m---------------------------------------------------------------------------\u001b[0m",
      "\u001b[0;31mValueError\u001b[0m                                Traceback (most recent call last)",
      "Input \u001b[0;32mIn [385]\u001b[0m, in \u001b[0;36m<cell line: 1>\u001b[0;34m()\u001b[0m\n\u001b[0;32m----> 1\u001b[0m x, y, z \u001b[38;5;241m=\u001b[39m (\u001b[38;5;241m4\u001b[39m, \u001b[38;5;241m7\u001b[39m, \u001b[38;5;241m11\u001b[39m, \u001b[38;5;241m4\u001b[39m, \u001b[38;5;241m21\u001b[39m)\n",
      "\u001b[0;31mValueError\u001b[0m: too many values to unpack (expected 3)"
     ]
    }
   ],
   "source": [
    "x, y, z = (4, 7, 11, 4, 21)"
   ]
  },
  {
   "cell_type": "markdown",
   "id": "4438f944",
   "metadata": {},
   "source": [
    "- Bu hatayı gidermek için \"*\" yapısını kullanacağız. Aşağıdaki kod şu demek oluyor: **İlk iki elemanı x ve y'ye eşitle, sonuna kadar kalan diğer tüm elemanları z'ye eşitle.** Bunun sonunda **z** 11,4,21 den oluşacak, tipi list olacak."
   ]
  },
  {
   "cell_type": "code",
   "execution_count": 386,
   "id": "9e21bb2d",
   "metadata": {},
   "outputs": [],
   "source": [
    "x, y, *z = (4, 7, 11, 4, 21)"
   ]
  },
  {
   "cell_type": "code",
   "execution_count": 387,
   "id": "bd16da79",
   "metadata": {},
   "outputs": [
    {
     "name": "stdout",
     "output_type": "stream",
     "text": [
      "4 7\n"
     ]
    }
   ],
   "source": [
    "print(x,y)"
   ]
  },
  {
   "cell_type": "code",
   "execution_count": 388,
   "id": "3a7848b2",
   "metadata": {},
   "outputs": [
    {
     "name": "stdout",
     "output_type": "stream",
     "text": [
      "[11, 4, 21]\n"
     ]
    }
   ],
   "source": [
    "print(z)"
   ]
  },
  {
   "cell_type": "code",
   "execution_count": 389,
   "id": "07c4bdca",
   "metadata": {},
   "outputs": [
    {
     "data": {
      "text/plain": [
       "list"
      ]
     },
     "execution_count": 389,
     "metadata": {},
     "output_type": "execute_result"
    }
   ],
   "source": [
    "type(z)"
   ]
  },
  {
   "cell_type": "markdown",
   "id": "0e9d8410",
   "metadata": {},
   "source": [
    "- Diyelim ki ilk 2 'sini eşitleyip kalan hepsini görmezden gelmek istiyorum."
   ]
  },
  {
   "cell_type": "code",
   "execution_count": 390,
   "id": "d2ecb764",
   "metadata": {},
   "outputs": [],
   "source": [
    "x, y, *_ = (4, 7, 11, 12, 13)"
   ]
  },
  {
   "cell_type": "code",
   "execution_count": 391,
   "id": "40186677",
   "metadata": {},
   "outputs": [
    {
     "name": "stdout",
     "output_type": "stream",
     "text": [
      "4 7\n"
     ]
    }
   ],
   "source": [
    "print(x,y)"
   ]
  },
  {
   "cell_type": "markdown",
   "id": "f489e589",
   "metadata": {},
   "source": [
    "- İlk 2 ve son değeri belirli bir değişkene, arada kalanların hepsini başka bir değişkene eşitlemek istiyorsam:"
   ]
  },
  {
   "cell_type": "code",
   "execution_count": 392,
   "id": "a6cdcdfb",
   "metadata": {},
   "outputs": [],
   "source": [
    "x, y, *z, t = (4, 7, 11, 4, 21)"
   ]
  },
  {
   "cell_type": "code",
   "execution_count": 393,
   "id": "e3d1f2c5",
   "metadata": {},
   "outputs": [
    {
     "name": "stdout",
     "output_type": "stream",
     "text": [
      "4 7 21\n"
     ]
    }
   ],
   "source": [
    "print(x,y,t)"
   ]
  },
  {
   "cell_type": "code",
   "execution_count": 394,
   "id": "01b69e87",
   "metadata": {},
   "outputs": [
    {
     "name": "stdout",
     "output_type": "stream",
     "text": [
      "[11, 4]\n"
     ]
    }
   ],
   "source": [
    "print(z)"
   ]
  },
  {
   "cell_type": "markdown",
   "id": "68c3e492",
   "metadata": {},
   "source": [
    "- Aynı şekilde son 2'yi de belirtebiliriz."
   ]
  },
  {
   "cell_type": "code",
   "execution_count": 395,
   "id": "bc98e5ff",
   "metadata": {},
   "outputs": [],
   "source": [
    "x, y, *z, t, u = (4, 7, 11, 4, 21, 32, 2)"
   ]
  },
  {
   "cell_type": "code",
   "execution_count": 396,
   "id": "2d0d6a1a",
   "metadata": {},
   "outputs": [
    {
     "name": "stdout",
     "output_type": "stream",
     "text": [
      "4 7 32 2\n"
     ]
    }
   ],
   "source": [
    "print(x,y,t,u)"
   ]
  },
  {
   "cell_type": "code",
   "execution_count": 397,
   "id": "7be7bfc9",
   "metadata": {},
   "outputs": [
    {
     "name": "stdout",
     "output_type": "stream",
     "text": [
      "[11, 4, 21]\n"
     ]
    }
   ],
   "source": [
    "print(z)"
   ]
  },
  {
   "cell_type": "markdown",
   "id": "e87fc3d3",
   "metadata": {},
   "source": [
    "- Ama aşağıdaki kod error verir, çünkü y ve t için kaç tane alacağını bilmiyor."
   ]
  },
  {
   "cell_type": "code",
   "execution_count": 398,
   "id": "499fe9b0",
   "metadata": {},
   "outputs": [
    {
     "ename": "SyntaxError",
     "evalue": "multiple starred expressions in assignment (928660696.py, line 2)",
     "output_type": "error",
     "traceback": [
      "\u001b[0;36m  Input \u001b[0;32mIn [398]\u001b[0;36m\u001b[0m\n\u001b[0;31m    x, *y, *t = (4, 7, 11, 4)\u001b[0m\n\u001b[0m    ^\u001b[0m\n\u001b[0;31mSyntaxError\u001b[0m\u001b[0;31m:\u001b[0m multiple starred expressions in assignment\n"
     ]
    }
   ],
   "source": [
    "# It will give an error\n",
    "x, *y, *t = (4, 7, 11, 4)"
   ]
  },
  {
   "cell_type": "markdown",
   "id": "10901246",
   "metadata": {},
   "source": [
    "# Enumerate:\n",
    "---\n",
    "- **for** ile non-scalar yapılar içerisinde dolaşırken ya elemanları ya da indexleri üzerinde dolaşmıştık, ama neden ikisi de aynı anda olmasın?\n",
    "- Variable unpacking konusunda bir tuple, list gibi yapıların değerlerini birden çok değişkene bir seferde eşitlemeyi görmüştük.\n",
    "- Bunun aynısını iterasyonda da yapabiliriz. "
   ]
  },
  {
   "cell_type": "code",
   "execution_count": 399,
   "id": "8833b93d",
   "metadata": {},
   "outputs": [],
   "source": [
    "l = [(1,2), (10,20)]"
   ]
  },
  {
   "cell_type": "code",
   "execution_count": 400,
   "id": "b6b28712",
   "metadata": {},
   "outputs": [
    {
     "name": "stdout",
     "output_type": "stream",
     "text": [
      "(1, 2)\n",
      "(10, 20)\n"
     ]
    }
   ],
   "source": [
    "for i in l:\n",
    "    print(i)"
   ]
  },
  {
   "cell_type": "code",
   "execution_count": 402,
   "id": "a5ba97d3",
   "metadata": {},
   "outputs": [
    {
     "name": "stdout",
     "output_type": "stream",
     "text": [
      "1\n",
      "2\n",
      "*********\n",
      "10\n",
      "20\n",
      "*********\n"
     ]
    }
   ],
   "source": [
    "for e in l:\n",
    "    a, b = e\n",
    "    print(a)\n",
    "    print(b)\n",
    "    print(\"*********\")"
   ]
  },
  {
   "cell_type": "code",
   "execution_count": 403,
   "id": "71535872",
   "metadata": {},
   "outputs": [
    {
     "name": "stdout",
     "output_type": "stream",
     "text": [
      "tuple'ın ilk elemanı 1\n",
      "tuple'ın ikinci elemanı 2\n",
      "-----------------------------\n",
      "tuple'ın ilk elemanı 10\n",
      "tuple'ın ikinci elemanı 20\n",
      "-----------------------------\n"
     ]
    }
   ],
   "source": [
    "for a, b in l:\n",
    "    print(\"tuple'ın ilk elemanı\", a)\n",
    "    print(\"tuple'ın ikinci elemanı\", b)\n",
    "    print(\"-----------------------------\")"
   ]
  },
  {
   "cell_type": "markdown",
   "id": "521c0f5f",
   "metadata": {},
   "source": [
    "- **enumerate()** bize (index, element) olarak verecek."
   ]
  },
  {
   "cell_type": "code",
   "execution_count": 405,
   "id": "a8a19569",
   "metadata": {},
   "outputs": [],
   "source": [
    "isimler = ['Tyler', 'Blake', 'Cory', 'Cameron']"
   ]
  },
  {
   "cell_type": "code",
   "execution_count": 406,
   "id": "c1ca3935",
   "metadata": {},
   "outputs": [
    {
     "name": "stdout",
     "output_type": "stream",
     "text": [
      "Tyler\n",
      "Blake\n",
      "Cory\n",
      "Cameron\n"
     ]
    }
   ],
   "source": [
    "for i in isimler:\n",
    "    print(i)"
   ]
  },
  {
   "cell_type": "code",
   "execution_count": 407,
   "id": "8a444ee2",
   "metadata": {},
   "outputs": [
    {
     "name": "stdout",
     "output_type": "stream",
     "text": [
      "0 indexindeki eleman: Tyler\n",
      "1 indexindeki eleman: Blake\n",
      "2 indexindeki eleman: Cory\n",
      "3 indexindeki eleman: Cameron\n"
     ]
    }
   ],
   "source": [
    "for i, e in enumerate(isimler):\n",
    "    print(i, \"indexindeki eleman:\", e)"
   ]
  },
  {
   "cell_type": "markdown",
   "id": "362170e1",
   "metadata": {},
   "source": [
    "- **enumerate()** 0'dan başlamak zorunda değil, özellikle kaçtan başlayacağını belirtebiliriz."
   ]
  },
  {
   "cell_type": "code",
   "execution_count": 408,
   "id": "64aada58",
   "metadata": {},
   "outputs": [
    {
     "name": "stdout",
     "output_type": "stream",
     "text": [
      "100 lokasyonunda bulunan eleman: Tyler\n",
      "101 lokasyonunda bulunan eleman: Blake\n",
      "102 lokasyonunda bulunan eleman: Cory\n",
      "103 lokasyonunda bulunan eleman: Cameron\n"
     ]
    }
   ],
   "source": [
    "for i, e in enumerate(isimler, start = 100):\n",
    "    print(i, \"lokasyonunda bulunan eleman:\", e)"
   ]
  },
  {
   "cell_type": "markdown",
   "id": "b7da8fdb",
   "metadata": {},
   "source": [
    "# zip()\n",
    "---\n",
    "- Farklı yapıların içinde paralel iterasyon yapmamızı sağlar. **zip()**"
   ]
  },
  {
   "cell_type": "code",
   "execution_count": 410,
   "id": "20bbfcfa",
   "metadata": {},
   "outputs": [],
   "source": [
    "ogrenciler = [\"ogrenci_1\", \"ogrenci_2\", \"ogrenci_3\"]"
   ]
  },
  {
   "cell_type": "code",
   "execution_count": 411,
   "id": "9cc7196c",
   "metadata": {},
   "outputs": [],
   "source": [
    "notlar = [90,80,72]"
   ]
  },
  {
   "cell_type": "code",
   "execution_count": 412,
   "id": "c28d6284",
   "metadata": {},
   "outputs": [
    {
     "name": "stdout",
     "output_type": "stream",
     "text": [
      "ogrenci_1 90\n",
      "ogrenci_2 80\n",
      "ogrenci_3 72\n"
     ]
    }
   ],
   "source": [
    "for s, g in zip(ogrenciler, notlar):\n",
    "    print(s, g)"
   ]
  },
  {
   "cell_type": "code",
   "execution_count": 413,
   "id": "197faef9",
   "metadata": {},
   "outputs": [
    {
     "name": "stdout",
     "output_type": "stream",
     "text": [
      "('ogrenci_1', 90)\n",
      "('ogrenci_2', 80)\n",
      "('ogrenci_3', 72)\n"
     ]
    }
   ],
   "source": [
    "for e in zip(ogrenciler, notlar):\n",
    "    print(e)"
   ]
  },
  {
   "cell_type": "code",
   "execution_count": 414,
   "id": "9b360ef0",
   "metadata": {},
   "outputs": [
    {
     "name": "stdout",
     "output_type": "stream",
     "text": [
      "ogrenci_1 90\n",
      "ogrenci_2 80\n",
      "ogrenci_3 72\n"
     ]
    }
   ],
   "source": [
    "for i in range(len(ogrenciler)):\n",
    "    print(ogrenciler[i], notlar[i])"
   ]
  },
  {
   "cell_type": "markdown",
   "id": "da6eef71",
   "metadata": {},
   "source": [
    "- **zip()** Örnek:"
   ]
  },
  {
   "cell_type": "code",
   "execution_count": 415,
   "id": "a21f5fb8",
   "metadata": {},
   "outputs": [],
   "source": [
    "# Her ayki karı hesaplamak\n",
    "satis = [3500.00, 76300.00, 67200.00]"
   ]
  },
  {
   "cell_type": "code",
   "execution_count": 416,
   "id": "19945098",
   "metadata": {},
   "outputs": [],
   "source": [
    "maliyet = [56700.00, 21900.00, 12100.00]"
   ]
  },
  {
   "cell_type": "code",
   "execution_count": 417,
   "id": "c7717250",
   "metadata": {
    "scrolled": true
   },
   "outputs": [
    {
     "name": "stdout",
     "output_type": "stream",
     "text": [
      "Total profit: -53200.0\n",
      "Total profit: 54400.0\n",
      "Total profit: 55100.0\n"
     ]
    }
   ],
   "source": [
    "for i in range(len(maliyet)):\n",
    "    s = satis[i]\n",
    "    c = maliyet[i]ss\n",
    "    \n",
    "    kar = s - c \n",
    "    print(f\"Total profit: {kar}\")"
   ]
  },
  {
   "cell_type": "code",
   "execution_count": 419,
   "id": "107095be",
   "metadata": {},
   "outputs": [
    {
     "name": "stdout",
     "output_type": "stream",
     "text": [
      "Total profit: -53200.0\n",
      "Total profit: 54400.0\n",
      "Total profit: 55100.0\n"
     ]
    }
   ],
   "source": [
    "satis = [3500.00, 76300.00, 67200.00]\n",
    "maliyet = [56700.00, 21900.00, 12100.00]\n",
    "for s, c in zip(satis, maliyet):\n",
    "    kar = s - c\n",
    "    print(f'Total profit: {kar}')"
   ]
  }
 ],
 "metadata": {
  "kernelspec": {
   "display_name": "Python 3 (ipykernel)",
   "language": "python",
   "name": "python3"
  },
  "language_info": {
   "codemirror_mode": {
    "name": "ipython",
    "version": 3
   },
   "file_extension": ".py",
   "mimetype": "text/x-python",
   "name": "python",
   "nbconvert_exporter": "python",
   "pygments_lexer": "ipython3",
   "version": "3.9.12"
  }
 },
 "nbformat": 4,
 "nbformat_minor": 5
}
