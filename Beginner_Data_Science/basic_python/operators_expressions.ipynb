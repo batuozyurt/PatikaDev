{
 "cells": [
  {
   "cell_type": "markdown",
   "id": "663e2f4e",
   "metadata": {},
   "source": [
    "# Expressions (İfadeler)\n",
    "---\n",
    "\n",
    "- Objeler(object) ve operatörlerin(operator) birleşimi expression'ları oluşturur.\n",
    "\n",
    "- Expression'ların değerleri (value)'ları vardır ve tabii ki de bunların tipleri vardır.\n",
    "\n",
    "- İfadeler şöyler oluşturulur: (object) (operator) (object)\n",
    "\n",
    "- Expression'ların tiplerini operator'un uygulandığı objelerin tipleri belirler."
   ]
  },
  {
   "cell_type": "markdown",
   "id": "cee22bc4",
   "metadata": {},
   "source": [
    "### + operator \n",
    "---"
   ]
  },
  {
   "cell_type": "code",
   "execution_count": 1,
   "id": "734329a6",
   "metadata": {},
   "outputs": [
    {
     "data": {
      "text/plain": [
       "4"
      ]
     },
     "execution_count": 1,
     "metadata": {},
     "output_type": "execute_result"
    }
   ],
   "source": [
    "# İki tane integer'ın toplamı integer verir.\n",
    "2 + 2"
   ]
  },
  {
   "cell_type": "code",
   "execution_count": 2,
   "id": "73704bf6",
   "metadata": {},
   "outputs": [
    {
     "data": {
      "text/plain": [
       "int"
      ]
     },
     "execution_count": 2,
     "metadata": {},
     "output_type": "execute_result"
    }
   ],
   "source": [
    "type(2 + 2)"
   ]
  },
  {
   "cell_type": "code",
   "execution_count": 3,
   "id": "8addf32b",
   "metadata": {},
   "outputs": [
    {
     "data": {
      "text/plain": [
       "4.9"
      ]
     },
     "execution_count": 3,
     "metadata": {},
     "output_type": "execute_result"
    }
   ],
   "source": [
    "# İki tane float'un toplamı float verir.\n",
    "2.4 + 2.5"
   ]
  },
  {
   "cell_type": "code",
   "execution_count": 4,
   "id": "5b2ed334",
   "metadata": {},
   "outputs": [
    {
     "data": {
      "text/plain": [
       "float"
      ]
     },
     "execution_count": 4,
     "metadata": {},
     "output_type": "execute_result"
    }
   ],
   "source": [
    "type(2.4 + 2.5)"
   ]
  },
  {
   "cell_type": "markdown",
   "id": "3708fe4e",
   "metadata": {},
   "source": [
    "- Eğer objelerden biri bile float ise toplama işleminde expression'un tipi float olur."
   ]
  },
  {
   "cell_type": "code",
   "execution_count": 5,
   "id": "8f5108f5",
   "metadata": {},
   "outputs": [
    {
     "data": {
      "text/plain": [
       "5.4"
      ]
     },
     "execution_count": 5,
     "metadata": {},
     "output_type": "execute_result"
    }
   ],
   "source": [
    "2.4 + 3"
   ]
  },
  {
   "cell_type": "code",
   "execution_count": 6,
   "id": "c89c34e2",
   "metadata": {},
   "outputs": [
    {
     "data": {
      "text/plain": [
       "float"
      ]
     },
     "execution_count": 6,
     "metadata": {},
     "output_type": "execute_result"
    }
   ],
   "source": [
    "type(2.4 + 3) "
   ]
  },
  {
   "cell_type": "markdown",
   "id": "eb735336",
   "metadata": {},
   "source": [
    "### - operator\n",
    "---"
   ]
  },
  {
   "cell_type": "code",
   "execution_count": 7,
   "id": "f2351c8a",
   "metadata": {},
   "outputs": [
    {
     "data": {
      "text/plain": [
       "1"
      ]
     },
     "execution_count": 7,
     "metadata": {},
     "output_type": "execute_result"
    }
   ],
   "source": [
    "# İki tane integer'ın farkı integer verir.\n",
    "3 - 2"
   ]
  },
  {
   "cell_type": "code",
   "execution_count": 8,
   "id": "8549953e",
   "metadata": {},
   "outputs": [
    {
     "data": {
      "text/plain": [
       "int"
      ]
     },
     "execution_count": 8,
     "metadata": {},
     "output_type": "execute_result"
    }
   ],
   "source": [
    "type(3-2)"
   ]
  },
  {
   "cell_type": "code",
   "execution_count": 9,
   "id": "dd580fd1",
   "metadata": {},
   "outputs": [
    {
     "data": {
      "text/plain": [
       "0.5"
      ]
     },
     "execution_count": 9,
     "metadata": {},
     "output_type": "execute_result"
    }
   ],
   "source": [
    "# İki tane float'un farkı float verir.\n",
    "2.6 - 2.1"
   ]
  },
  {
   "cell_type": "code",
   "execution_count": 10,
   "id": "0fdb2b36",
   "metadata": {},
   "outputs": [
    {
     "data": {
      "text/plain": [
       "float"
      ]
     },
     "execution_count": 10,
     "metadata": {},
     "output_type": "execute_result"
    }
   ],
   "source": [
    "type(2 - 2.1)"
   ]
  },
  {
   "cell_type": "markdown",
   "id": "1101611c",
   "metadata": {},
   "source": [
    "- Eğer objelerden biri bile float ise çıkarma işleminde expression'un tipi float olur."
   ]
  },
  {
   "cell_type": "code",
   "execution_count": 11,
   "id": "5c707278",
   "metadata": {},
   "outputs": [
    {
     "data": {
      "text/plain": [
       "-0.5"
      ]
     },
     "execution_count": 11,
     "metadata": {},
     "output_type": "execute_result"
    }
   ],
   "source": [
    "2.5 - 3"
   ]
  },
  {
   "cell_type": "code",
   "execution_count": 12,
   "id": "3654a2d3",
   "metadata": {},
   "outputs": [
    {
     "data": {
      "text/plain": [
       "float"
      ]
     },
     "execution_count": 12,
     "metadata": {},
     "output_type": "execute_result"
    }
   ],
   "source": [
    "type(2.5 - 3)"
   ]
  },
  {
   "cell_type": "markdown",
   "id": "c9ec472c",
   "metadata": {},
   "source": [
    "### * operator \n",
    "---"
   ]
  },
  {
   "cell_type": "code",
   "execution_count": 13,
   "id": "1c9e1dab",
   "metadata": {},
   "outputs": [
    {
     "data": {
      "text/plain": [
       "6"
      ]
     },
     "execution_count": 13,
     "metadata": {},
     "output_type": "execute_result"
    }
   ],
   "source": [
    "# İki tane integer'ın çarpımı integer verir.\n",
    "3 * 2"
   ]
  },
  {
   "cell_type": "code",
   "execution_count": 14,
   "id": "0f117f9d",
   "metadata": {},
   "outputs": [
    {
     "data": {
      "text/plain": [
       "int"
      ]
     },
     "execution_count": 14,
     "metadata": {},
     "output_type": "execute_result"
    }
   ],
   "source": [
    "type(3*2)"
   ]
  },
  {
   "cell_type": "code",
   "execution_count": 15,
   "id": "808c2b1c",
   "metadata": {},
   "outputs": [
    {
     "data": {
      "text/plain": [
       "6.24"
      ]
     },
     "execution_count": 15,
     "metadata": {},
     "output_type": "execute_result"
    }
   ],
   "source": [
    "# İki tane float'un çarpımı float verir.\n",
    "2.6 * 2.4"
   ]
  },
  {
   "cell_type": "code",
   "execution_count": 16,
   "id": "a9b9e1e7",
   "metadata": {},
   "outputs": [
    {
     "data": {
      "text/plain": [
       "float"
      ]
     },
     "execution_count": 16,
     "metadata": {},
     "output_type": "execute_result"
    }
   ],
   "source": [
    "type(2.6 * 2.4)"
   ]
  },
  {
   "cell_type": "markdown",
   "id": "6773dc0b",
   "metadata": {},
   "source": [
    "- Eğer objelerden biri bile float ise çarpma işleminde expression'un tipi float olur."
   ]
  },
  {
   "cell_type": "code",
   "execution_count": 17,
   "id": "859b6c0c",
   "metadata": {},
   "outputs": [
    {
     "data": {
      "text/plain": [
       "7.5"
      ]
     },
     "execution_count": 17,
     "metadata": {},
     "output_type": "execute_result"
    }
   ],
   "source": [
    "2.5 * 3"
   ]
  },
  {
   "cell_type": "code",
   "execution_count": 18,
   "id": "d862f38d",
   "metadata": {},
   "outputs": [
    {
     "data": {
      "text/plain": [
       "float"
      ]
     },
     "execution_count": 18,
     "metadata": {},
     "output_type": "execute_result"
    }
   ],
   "source": [
    "type(2.5 * 3)"
   ]
  },
  {
   "cell_type": "markdown",
   "id": "a5ffe9a3",
   "metadata": {},
   "source": [
    "### / operator\n",
    "---\n",
    "- İşleme giren objelerin tipi ne olursa olsun cevap float olur."
   ]
  },
  {
   "cell_type": "code",
   "execution_count": 19,
   "id": "89ba8ae5",
   "metadata": {},
   "outputs": [
    {
     "data": {
      "text/plain": [
       "1.5"
      ]
     },
     "execution_count": 19,
     "metadata": {},
     "output_type": "execute_result"
    }
   ],
   "source": [
    "3 / 2"
   ]
  },
  {
   "cell_type": "code",
   "execution_count": 20,
   "id": "c7432d65",
   "metadata": {},
   "outputs": [
    {
     "data": {
      "text/plain": [
       "2.0"
      ]
     },
     "execution_count": 20,
     "metadata": {},
     "output_type": "execute_result"
    }
   ],
   "source": [
    "3 / 1.5"
   ]
  },
  {
   "cell_type": "code",
   "execution_count": 21,
   "id": "24df80c6",
   "metadata": {},
   "outputs": [
    {
     "data": {
      "text/plain": [
       "4.0"
      ]
     },
     "execution_count": 21,
     "metadata": {},
     "output_type": "execute_result"
    }
   ],
   "source": [
    "2.4 / 0.6"
   ]
  },
  {
   "cell_type": "markdown",
   "id": "bee7c93c",
   "metadata": {},
   "source": [
    "### // operator (int division)\n",
    "---\n",
    "- Eğer işleme girenlerden biri bile float ise cevap float olur."
   ]
  },
  {
   "cell_type": "code",
   "execution_count": 22,
   "id": "b077ee6d",
   "metadata": {},
   "outputs": [
    {
     "data": {
      "text/plain": [
       "2"
      ]
     },
     "execution_count": 22,
     "metadata": {},
     "output_type": "execute_result"
    }
   ],
   "source": [
    "5 // 2"
   ]
  },
  {
   "cell_type": "code",
   "execution_count": 23,
   "id": "9f1c8d7e",
   "metadata": {},
   "outputs": [
    {
     "data": {
      "text/plain": [
       "2.0"
      ]
     },
     "execution_count": 23,
     "metadata": {},
     "output_type": "execute_result"
    }
   ],
   "source": [
    "5 // 2.5"
   ]
  },
  {
   "cell_type": "code",
   "execution_count": 24,
   "id": "a9775b00",
   "metadata": {},
   "outputs": [
    {
     "data": {
      "text/plain": [
       "0.0"
      ]
     },
     "execution_count": 24,
     "metadata": {},
     "output_type": "execute_result"
    }
   ],
   "source": [
    "4.2 // 5"
   ]
  },
  {
   "cell_type": "code",
   "execution_count": 25,
   "id": "c861091b",
   "metadata": {},
   "outputs": [
    {
     "data": {
      "text/plain": [
       "1.0"
      ]
     },
     "execution_count": 25,
     "metadata": {},
     "output_type": "execute_result"
    }
   ],
   "source": [
    "8.2 // 5"
   ]
  },
  {
   "cell_type": "markdown",
   "id": "d2103823",
   "metadata": {},
   "source": [
    "### % operator (Remainder/kalan)\n",
    "---\n",
    "- Eğer kalan float ise cevap float olur yoksa integer olur."
   ]
  },
  {
   "cell_type": "code",
   "execution_count": 26,
   "id": "5466a6dd",
   "metadata": {},
   "outputs": [
    {
     "data": {
      "text/plain": [
       "1"
      ]
     },
     "execution_count": 26,
     "metadata": {},
     "output_type": "execute_result"
    }
   ],
   "source": [
    "5 % 2"
   ]
  },
  {
   "cell_type": "code",
   "execution_count": 27,
   "id": "eefc3979",
   "metadata": {},
   "outputs": [
    {
     "data": {
      "text/plain": [
       "1"
      ]
     },
     "execution_count": 27,
     "metadata": {},
     "output_type": "execute_result"
    }
   ],
   "source": [
    "10 % 3"
   ]
  },
  {
   "cell_type": "code",
   "execution_count": 28,
   "id": "97355ecc",
   "metadata": {},
   "outputs": [
    {
     "data": {
      "text/plain": [
       "0.5"
      ]
     },
     "execution_count": 28,
     "metadata": {},
     "output_type": "execute_result"
    }
   ],
   "source": [
    "2.5 % 2"
   ]
  },
  {
   "cell_type": "markdown",
   "id": "60af1526",
   "metadata": {},
   "source": [
    "### ** operator \n",
    "---\n",
    "- Üst alma işlemi yapar."
   ]
  },
  {
   "cell_type": "code",
   "execution_count": 29,
   "id": "cb52875f",
   "metadata": {},
   "outputs": [
    {
     "data": {
      "text/plain": [
       "8"
      ]
     },
     "execution_count": 29,
     "metadata": {},
     "output_type": "execute_result"
    }
   ],
   "source": [
    "2 ** 3"
   ]
  },
  {
   "cell_type": "code",
   "execution_count": 30,
   "id": "df5b1fb7",
   "metadata": {},
   "outputs": [
    {
     "data": {
      "text/plain": [
       "9"
      ]
     },
     "execution_count": 30,
     "metadata": {},
     "output_type": "execute_result"
    }
   ],
   "source": [
    "3 ** 2"
   ]
  },
  {
   "cell_type": "code",
   "execution_count": 31,
   "id": "0454d114",
   "metadata": {},
   "outputs": [
    {
     "data": {
      "text/plain": [
       "5.76"
      ]
     },
     "execution_count": 31,
     "metadata": {},
     "output_type": "execute_result"
    }
   ],
   "source": [
    "2.4 ** 2"
   ]
  },
  {
   "cell_type": "code",
   "execution_count": 32,
   "id": "3cfe53c2",
   "metadata": {},
   "outputs": [
    {
     "data": {
      "text/plain": [
       "0.2"
      ]
     },
     "execution_count": 32,
     "metadata": {},
     "output_type": "execute_result"
    }
   ],
   "source": [
    "5 ** -1"
   ]
  },
  {
   "cell_type": "markdown",
   "id": "b6acf582",
   "metadata": {},
   "source": [
    "### print()\n",
    "---\n",
    "- Bazen sadece değerleri bastırmak isteriz, bunun için print() metodunu kullanabiliriz."
   ]
  },
  {
   "cell_type": "code",
   "execution_count": 33,
   "id": "63077268",
   "metadata": {},
   "outputs": [
    {
     "name": "stdout",
     "output_type": "stream",
     "text": [
      "5\n"
     ]
    }
   ],
   "source": [
    "print(5)"
   ]
  }
 ],
 "metadata": {
  "kernelspec": {
   "display_name": "Python 3 (ipykernel)",
   "language": "python",
   "name": "python3"
  },
  "language_info": {
   "codemirror_mode": {
    "name": "ipython",
    "version": 3
   },
   "file_extension": ".py",
   "mimetype": "text/x-python",
   "name": "python",
   "nbconvert_exporter": "python",
   "pygments_lexer": "ipython3",
   "version": "3.9.12"
  }
 },
 "nbformat": 4,
 "nbformat_minor": 5
}
