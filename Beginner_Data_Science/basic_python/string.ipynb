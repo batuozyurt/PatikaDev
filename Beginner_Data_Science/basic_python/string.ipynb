{
 "cells": [
  {
   "cell_type": "markdown",
   "id": "8e76b384",
   "metadata": {},
   "source": [
    "# String\n",
    "---\n",
    "- Stringler karakterlerden oluşan bir dizidir aslında. Stringlerin elemanları karakterlerdir.\n",
    "\n",
    "\n",
    "- **Karakterler:** (a,b,c,d...) gibi harfler, (*, ?, =, <, >, /...) gibi özel karakterler, (1,2,3...) gibi yazı biçiminde sayılar, boşluk(space) karakter olarak adlandırılabilir.\n",
    "\n",
    "\n",
    "- **String**'ler karakterlerden veya bunların kombinasyonlarından oluşabilirler.\n",
    "\n",
    "\n",
    "- Bir şeyin String olduğunu belirtmek için yazacaklarımızı ikili tırnak (\"örnek\") veya tekli tırnak ('örnek') içine yazarız.\n",
    "\n",
    "\n",
    "- Tırnak işaretlerinin yaptığı şey aslında: **Bu tırnak işaretlerinin içinde verdiğim diziye karakterler dizisi olarak davran, öyle algıla demek.**\n",
    "\n",
    "\n",
    "- İkili tırnak içine de yazsak, tekli tırnak içine de yazsak aynı şekilde algılanır. Önemli olan hangisiyle başladıysak onunla bitirmek.\n",
    "\n",
    "\n",
    "- Non-scalar veri tiplerinin daha alt parçalara bölünebilen, elemanlar içeren yapılar olduğunu biliyoruz. String non-scalar bir veri tipi. İçsel yapı olarak karakterlerden oluşuyor.\n",
    "\n",
    "\n",
    "- Stringler immutable veri tipidir.\n",
    "\n",
    "\n",
    "- **Immutable**: Elemanlarının değerleri değiştirilemez."
   ]
  },
  {
   "cell_type": "code",
   "execution_count": 1,
   "id": "b7bf9e97",
   "metadata": {},
   "outputs": [
    {
     "data": {
      "text/plain": [
       "5"
      ]
     },
     "execution_count": 1,
     "metadata": {},
     "output_type": "execute_result"
    }
   ],
   "source": [
    "5"
   ]
  },
  {
   "cell_type": "code",
   "execution_count": 2,
   "id": "cad4f076",
   "metadata": {},
   "outputs": [
    {
     "data": {
      "text/plain": [
       "'5'"
      ]
     },
     "execution_count": 2,
     "metadata": {},
     "output_type": "execute_result"
    }
   ],
   "source": [
    "\"5\""
   ]
  },
  {
   "cell_type": "code",
   "execution_count": 3,
   "id": "15421fad",
   "metadata": {},
   "outputs": [
    {
     "ename": "SyntaxError",
     "evalue": "EOL while scanning string literal (2742994915.py, line 2)",
     "output_type": "error",
     "traceback": [
      "\u001b[0;36m  Input \u001b[0;32mIn [3]\u001b[0;36m\u001b[0m\n\u001b[0;31m    \"a'\u001b[0m\n\u001b[0m       ^\u001b[0m\n\u001b[0;31mSyntaxError\u001b[0m\u001b[0;31m:\u001b[0m EOL while scanning string literal\n"
     ]
    }
   ],
   "source": [
    "# Hangisiyle başladıysak onunla bitirmeliyiz\n",
    "\"a'"
   ]
  },
  {
   "cell_type": "code",
   "execution_count": 4,
   "id": "73c679df",
   "metadata": {},
   "outputs": [
    {
     "data": {
      "text/plain": [
       "'a'"
      ]
     },
     "execution_count": 4,
     "metadata": {},
     "output_type": "execute_result"
    }
   ],
   "source": [
    "\"a\""
   ]
  },
  {
   "cell_type": "code",
   "execution_count": 5,
   "id": "3b09bae8",
   "metadata": {},
   "outputs": [
    {
     "data": {
      "text/plain": [
       "'5 + 10'"
      ]
     },
     "execution_count": 5,
     "metadata": {},
     "output_type": "execute_result"
    }
   ],
   "source": [
    "# Burada +'ya operatör olarak davranılmıyor, yazı olarak davranılıyor.\n",
    "\"5 + 10\""
   ]
  },
  {
   "cell_type": "code",
   "execution_count": 6,
   "id": "5b114cf1",
   "metadata": {},
   "outputs": [
    {
     "data": {
      "text/plain": [
       "str"
      ]
     },
     "execution_count": 6,
     "metadata": {},
     "output_type": "execute_result"
    }
   ],
   "source": [
    "type('Hmm o zaman x=5 diyebilir miyiz?')"
   ]
  },
  {
   "cell_type": "markdown",
   "id": "e6928bb1",
   "metadata": {},
   "source": [
    "- Hangisiyle başladıysak onunla bitireceğimiz için kesme işareti ve alıntı yapmada hangisiyle başladığımız önemli olabilir."
   ]
  },
  {
   "cell_type": "code",
   "execution_count": 7,
   "id": "1b74ff19",
   "metadata": {},
   "outputs": [
    {
     "data": {
      "text/plain": [
       "\"Bugün Kadıköy'e gidiyorum\""
      ]
     },
     "execution_count": 7,
     "metadata": {},
     "output_type": "execute_result"
    }
   ],
   "source": [
    "\"Bugün Kadıköy'e gidiyorum\""
   ]
  },
  {
   "cell_type": "code",
   "execution_count": 8,
   "id": "3f3bf13a",
   "metadata": {},
   "outputs": [
    {
     "ename": "SyntaxError",
     "evalue": "invalid syntax (1141162360.py, line 1)",
     "output_type": "error",
     "traceback": [
      "\u001b[0;36m  Input \u001b[0;32mIn [8]\u001b[0;36m\u001b[0m\n\u001b[0;31m    'Bugün Kadıköy'e gidiyorum'\u001b[0m\n\u001b[0m                   ^\u001b[0m\n\u001b[0;31mSyntaxError\u001b[0m\u001b[0;31m:\u001b[0m invalid syntax\n"
     ]
    }
   ],
   "source": [
    "'Bugün Kadıköy'e gidiyorum'"
   ]
  },
  {
   "cell_type": "code",
   "execution_count": 9,
   "id": "873e5f12",
   "metadata": {},
   "outputs": [
    {
     "ename": "SyntaxError",
     "evalue": "invalid syntax (767657247.py, line 1)",
     "output_type": "error",
     "traceback": [
      "\u001b[0;36m  Input \u001b[0;32mIn [9]\u001b[0;36m\u001b[0m\n\u001b[0;31m    \"Bana \"Bugün Kadıköy'e gidiyorum\" dedi\"\u001b[0m\n\u001b[0m           ^\u001b[0m\n\u001b[0;31mSyntaxError\u001b[0m\u001b[0;31m:\u001b[0m invalid syntax\n"
     ]
    }
   ],
   "source": [
    "\"Bana \"Bugün Kadıköy'e gidiyorum\" dedi\""
   ]
  },
  {
   "cell_type": "markdown",
   "id": "585592c8",
   "metadata": {},
   "source": [
    "### Escape Sequence"
   ]
  },
  {
   "cell_type": "code",
   "execution_count": 10,
   "id": "96298ca6",
   "metadata": {},
   "outputs": [
    {
     "data": {
      "text/plain": [
       "'Bana \"Bugün ne yapıyorsun\" dedi'"
      ]
     },
     "execution_count": 10,
     "metadata": {},
     "output_type": "execute_result"
    }
   ],
   "source": [
    "\"Bana \\\"Bugün ne yapıyorsun\\\" dedi\""
   ]
  },
  {
   "cell_type": "code",
   "execution_count": 11,
   "id": "3d26f019",
   "metadata": {},
   "outputs": [
    {
     "data": {
      "text/plain": [
       "\"Bugün Kadıköy'e gidiyorum\""
      ]
     },
     "execution_count": 11,
     "metadata": {},
     "output_type": "execute_result"
    }
   ],
   "source": [
    "'Bugün Kadıköy\\'e gidiyorum'"
   ]
  },
  {
   "cell_type": "code",
   "execution_count": 12,
   "id": "66d58ec0",
   "metadata": {},
   "outputs": [
    {
     "name": "stdout",
     "output_type": "stream",
     "text": [
      "hey\n",
      "nasılsın\n"
     ]
    }
   ],
   "source": [
    "print(\"hey\\nnasılsın\")"
   ]
  },
  {
   "cell_type": "code",
   "execution_count": 13,
   "id": "f39f5611",
   "metadata": {},
   "outputs": [
    {
     "name": "stdout",
     "output_type": "stream",
     "text": [
      "hey\tnasılsın\n"
     ]
    }
   ],
   "source": [
    "print(\"hey\\tnasılsın\")"
   ]
  },
  {
   "cell_type": "markdown",
   "id": "95aae77b",
   "metadata": {},
   "source": [
    "### String'lerde Değer Atama (Variable Assignment)\n",
    "---\n",
    "- Sayısal veri tiplerinde nasıl ki değer atayabiliyor, verilerin değerlerine isim verebiliyorsak, aynısını stringler için de yapabiliyoruz."
   ]
  },
  {
   "cell_type": "code",
   "execution_count": 16,
   "id": "7825847e",
   "metadata": {},
   "outputs": [],
   "source": [
    "merhaba = \"Merhaba nasılsın bugün?\""
   ]
  },
  {
   "cell_type": "code",
   "execution_count": 17,
   "id": "365c354e",
   "metadata": {},
   "outputs": [
    {
     "name": "stdout",
     "output_type": "stream",
     "text": [
      "Merhaba nasılsın bugün?\n"
     ]
    }
   ],
   "source": [
    "print(merhaba)"
   ]
  },
  {
   "cell_type": "markdown",
   "id": "15f31ff8",
   "metadata": {},
   "source": [
    "### String Concatenation\n",
    "---\n",
    "- Operatörlerin uygulandıkları objelere göre değişik şeyler ifade edebileceğini biliyoruz.\n",
    "- \"+\" operatörü sayısal veri tipleri üzerine etki edince toplama işlemi yapıyor. Ama uygulandığı objeler string ise yapacağı işlem concatenation (birleştirme) olacak. İki string'i art arta birleştirecek.\n",
    "- En çok karıştırılan durumlardan biri string olarak ifade edilen sayıları + operatörüne sokmak."
   ]
  },
  {
   "cell_type": "code",
   "execution_count": 18,
   "id": "8b30efcf",
   "metadata": {},
   "outputs": [
    {
     "data": {
      "text/plain": [
       "'54'"
      ]
     },
     "execution_count": 18,
     "metadata": {},
     "output_type": "execute_result"
    }
   ],
   "source": [
    "\"5\" + \"4\""
   ]
  },
  {
   "cell_type": "markdown",
   "id": "2ba75fa6",
   "metadata": {},
   "source": [
    "- Python tırnak işareti içinde verdiklerimize karater olarak davrandığı için artık 5 ve 4 ü sayı olarak algılamıyor. \"+\" işlemi burada artık bu iki değeri yan yana koy demek, topla demek değil!"
   ]
  },
  {
   "cell_type": "code",
   "execution_count": 19,
   "id": "4fc4ee6e",
   "metadata": {},
   "outputs": [
    {
     "data": {
      "text/plain": [
       "'heynasılsın?'"
      ]
     },
     "execution_count": 19,
     "metadata": {},
     "output_type": "execute_result"
    }
   ],
   "source": [
    "\"hey\"+\"nasılsın?\""
   ]
  },
  {
   "cell_type": "markdown",
   "id": "d1e80756",
   "metadata": {},
   "source": [
    "- \"+\" operatörünün tek yaptığı birleştirmek, stringlerde boşluk(space) olmadığı için ifadenin sonucu boşluksuz çıktı."
   ]
  },
  {
   "cell_type": "code",
   "execution_count": 20,
   "id": "b6ed521c",
   "metadata": {},
   "outputs": [
    {
     "data": {
      "text/plain": [
       "'hey nasılsın?'"
      ]
     },
     "execution_count": 20,
     "metadata": {},
     "output_type": "execute_result"
    }
   ],
   "source": [
    "\"hey\" + \" nasılsın?\""
   ]
  },
  {
   "cell_type": "code",
   "execution_count": 21,
   "id": "7f929ece",
   "metadata": {},
   "outputs": [
    {
     "data": {
      "text/plain": [
       "'hey nasılsın?'"
      ]
     },
     "execution_count": 21,
     "metadata": {},
     "output_type": "execute_result"
    }
   ],
   "source": [
    "\"hey\" + \" \" + \"nasılsın?\""
   ]
  },
  {
   "cell_type": "markdown",
   "id": "6a01aef8",
   "metadata": {},
   "source": [
    "- Aynısını değer ataması yaparak da yapabilirdik\n",
    "\n",
    "- Diyelim ki karşılama mesajı yazmak istiyoruz. İsim ve karşılama kısmını ayrı tutacağız. Çünkü belki karşılayacağımız kişinin ismi değişecek ve ben kodumda sadece o değeri değiştirerek karşılama mantığını korumaya devam edeyim istiyorum."
   ]
  },
  {
   "cell_type": "code",
   "execution_count": 22,
   "id": "7481852b",
   "metadata": {},
   "outputs": [],
   "source": [
    "mesaj = \"Merhaba\""
   ]
  },
  {
   "cell_type": "code",
   "execution_count": 23,
   "id": "092dd920",
   "metadata": {},
   "outputs": [],
   "source": [
    "isim = \"Batuhan\""
   ]
  },
  {
   "cell_type": "code",
   "execution_count": 24,
   "id": "9922b1d0",
   "metadata": {},
   "outputs": [
    {
     "data": {
      "text/plain": [
       "'Merhaba Batuhan'"
      ]
     },
     "execution_count": 24,
     "metadata": {},
     "output_type": "execute_result"
    }
   ],
   "source": [
    "mesaj + \" \" + isim"
   ]
  },
  {
   "cell_type": "markdown",
   "id": "193e2832",
   "metadata": {},
   "source": [
    "- Bu ifadenin değerini de başka bir değişkende tutabilirdik."
   ]
  },
  {
   "cell_type": "code",
   "execution_count": 25,
   "id": "fa92e0e5",
   "metadata": {},
   "outputs": [],
   "source": [
    "karsilama = mesaj + \" \" + isim"
   ]
  },
  {
   "cell_type": "code",
   "execution_count": 26,
   "id": "54843b2b",
   "metadata": {},
   "outputs": [
    {
     "name": "stdout",
     "output_type": "stream",
     "text": [
      "Merhaba Batuhan\n"
     ]
    }
   ],
   "source": [
    "print(karsilama)"
   ]
  },
  {
   "cell_type": "markdown",
   "id": "ab5b1126",
   "metadata": {},
   "source": [
    "### Successive Concatenation (Ardışık Birleştirme)\n",
    "---\n",
    "- (*) operatörü sayı objeleri için çarpım olarak tanımlanmışken, stringler için ard arda birleştirme işlemi yapıyor."
   ]
  },
  {
   "cell_type": "code",
   "execution_count": 27,
   "id": "75f6c418",
   "metadata": {},
   "outputs": [
    {
     "data": {
      "text/plain": [
       "'heyheyheyhey'"
      ]
     },
     "execution_count": 27,
     "metadata": {},
     "output_type": "execute_result"
    }
   ],
   "source": [
    "4 * \"hey\""
   ]
  },
  {
   "cell_type": "code",
   "execution_count": 28,
   "id": "e7d4f7f3",
   "metadata": {},
   "outputs": [
    {
     "data": {
      "text/plain": [
       "'10000000000'"
      ]
     },
     "execution_count": 28,
     "metadata": {},
     "output_type": "execute_result"
    }
   ],
   "source": [
    "\"1\" + \"0\" * 10"
   ]
  },
  {
   "cell_type": "markdown",
   "id": "53fcb4a7",
   "metadata": {},
   "source": [
    "### len()\n",
    "---\n",
    "- Bu metod ile, elimizdeki string'in kaç karakterden oluştuğunu öğrenebiliriz (boşluklar da karakter olduğu için onlar da sayılıyor)"
   ]
  },
  {
   "cell_type": "code",
   "execution_count": 29,
   "id": "f6666974",
   "metadata": {},
   "outputs": [
    {
     "data": {
      "text/plain": [
       "1"
      ]
     },
     "execution_count": 29,
     "metadata": {},
     "output_type": "execute_result"
    }
   ],
   "source": [
    "len(\"4\")"
   ]
  },
  {
   "cell_type": "code",
   "execution_count": 30,
   "id": "ba18fdc7",
   "metadata": {},
   "outputs": [
    {
     "data": {
      "text/plain": [
       "2"
      ]
     },
     "execution_count": 30,
     "metadata": {},
     "output_type": "execute_result"
    }
   ],
   "source": [
    "len(\"42\")"
   ]
  },
  {
   "cell_type": "code",
   "execution_count": 31,
   "id": "af8d9043",
   "metadata": {},
   "outputs": [
    {
     "data": {
      "text/plain": [
       "3"
      ]
     },
     "execution_count": 31,
     "metadata": {},
     "output_type": "execute_result"
    }
   ],
   "source": [
    "len(\"hey\")"
   ]
  },
  {
   "cell_type": "code",
   "execution_count": 32,
   "id": "eb9dd0e2",
   "metadata": {},
   "outputs": [
    {
     "data": {
      "text/plain": [
       "4"
      ]
     },
     "execution_count": 32,
     "metadata": {},
     "output_type": "execute_result"
    }
   ],
   "source": [
    "len(\"hey!\")"
   ]
  },
  {
   "cell_type": "code",
   "execution_count": 33,
   "id": "3e8e60ed",
   "metadata": {},
   "outputs": [
    {
     "data": {
      "text/plain": [
       "13"
      ]
     },
     "execution_count": 33,
     "metadata": {},
     "output_type": "execute_result"
    }
   ],
   "source": [
    "len(\"hey nasılsın?\")"
   ]
  },
  {
   "cell_type": "code",
   "execution_count": 34,
   "id": "5d196190",
   "metadata": {},
   "outputs": [
    {
     "data": {
      "text/plain": [
       "1"
      ]
     },
     "execution_count": 34,
     "metadata": {},
     "output_type": "execute_result"
    }
   ],
   "source": [
    "len(\" \")"
   ]
  },
  {
   "cell_type": "code",
   "execution_count": 35,
   "id": "7aa70ce3",
   "metadata": {},
   "outputs": [
    {
     "data": {
      "text/plain": [
       "0"
      ]
     },
     "execution_count": 35,
     "metadata": {},
     "output_type": "execute_result"
    }
   ],
   "source": [
    "len(\"\")"
   ]
  },
  {
   "cell_type": "markdown",
   "id": "11091b84",
   "metadata": {},
   "source": [
    "### Indexing (Elemanlara Erişme)\n",
    "---\n",
    "- Stringlerin non-scalar veri tiplerine örnek olduğunu biliyoruz. Stringler elemanları karakter olan, alt birim olarak karakterler içeren bir veri tipi.\n",
    "\n",
    "- Stringler karakterler dizisi olduğu için, bu dizideki spesifik konumdaki elemanlara erişmek isteyebiliriz. Mesela string'in ilk karakteri nedir gibi.\n",
    "\n",
    "- Bir yapının alt elemanına erişmek için yapacağımız işleme **indexing** deniyor. Bunu köşeli parantez **[]** ile sağlayacağız."
   ]
  },
  {
   "cell_type": "code",
   "execution_count": 36,
   "id": "9e03acf8",
   "metadata": {},
   "outputs": [],
   "source": [
    "isim = \"Batuhan\""
   ]
  },
  {
   "cell_type": "code",
   "execution_count": 37,
   "id": "28306260",
   "metadata": {},
   "outputs": [
    {
     "data": {
      "text/plain": [
       "'a'"
      ]
     },
     "execution_count": 37,
     "metadata": {},
     "output_type": "execute_result"
    }
   ],
   "source": [
    "isim[1]"
   ]
  },
  {
   "cell_type": "code",
   "execution_count": 38,
   "id": "d5a01da9",
   "metadata": {},
   "outputs": [
    {
     "data": {
      "text/plain": [
       "'a'"
      ]
     },
     "execution_count": 38,
     "metadata": {},
     "output_type": "execute_result"
    }
   ],
   "source": [
    "\"Batuhan\"[1]"
   ]
  },
  {
   "cell_type": "markdown",
   "id": "525f37b1",
   "metadata": {},
   "source": [
    "- Python'da indexler **0**'dan başlıyor. Yani biz ilk elemana ulaşmak istiyorsak **[0]** ile sorgulamamız lazım."
   ]
  },
  {
   "cell_type": "code",
   "execution_count": 39,
   "id": "fc5fcb92",
   "metadata": {},
   "outputs": [
    {
     "data": {
      "text/plain": [
       "'B'"
      ]
     },
     "execution_count": 39,
     "metadata": {},
     "output_type": "execute_result"
    }
   ],
   "source": [
    "isim[0]"
   ]
  },
  {
   "cell_type": "markdown",
   "id": "cb50d0b2",
   "metadata": {},
   "source": [
    "- Son elemanı elde etmek için [-1] yazabiliriz."
   ]
  },
  {
   "cell_type": "code",
   "execution_count": 40,
   "id": "790f7021",
   "metadata": {},
   "outputs": [
    {
     "data": {
      "text/plain": [
       "'n'"
      ]
     },
     "execution_count": 40,
     "metadata": {},
     "output_type": "execute_result"
    }
   ],
   "source": [
    "isim[-1]"
   ]
  },
  {
   "cell_type": "markdown",
   "id": "11127fbe",
   "metadata": {},
   "source": [
    "- Sondan ikinci için [-2]"
   ]
  },
  {
   "cell_type": "code",
   "execution_count": 41,
   "id": "4a25dabf",
   "metadata": {},
   "outputs": [
    {
     "data": {
      "text/plain": [
       "'a'"
      ]
     },
     "execution_count": 41,
     "metadata": {},
     "output_type": "execute_result"
    }
   ],
   "source": [
    "isim[-2]"
   ]
  },
  {
   "cell_type": "markdown",
   "id": "9d6c1686",
   "metadata": {},
   "source": [
    "- Batuhan 7 karakterden oluşuyor. Indexleri 0,1,2,3,4,5,6. Eğer ben 6 dan büyük bir index verirsem o indexte bir elemanı olmadığı için hata alırım."
   ]
  },
  {
   "cell_type": "code",
   "execution_count": 42,
   "id": "d21f482d",
   "metadata": {},
   "outputs": [
    {
     "data": {
      "text/plain": [
       "7"
      ]
     },
     "execution_count": 42,
     "metadata": {},
     "output_type": "execute_result"
    }
   ],
   "source": [
    "len(isim)"
   ]
  },
  {
   "cell_type": "code",
   "execution_count": 44,
   "id": "3e702608",
   "metadata": {},
   "outputs": [
    {
     "ename": "IndexError",
     "evalue": "string index out of range",
     "output_type": "error",
     "traceback": [
      "\u001b[0;31m---------------------------------------------------------------------------\u001b[0m",
      "\u001b[0;31mIndexError\u001b[0m                                Traceback (most recent call last)",
      "Input \u001b[0;32mIn [44]\u001b[0m, in \u001b[0;36m<cell line: 1>\u001b[0;34m()\u001b[0m\n\u001b[0;32m----> 1\u001b[0m \u001b[43misim\u001b[49m\u001b[43m[\u001b[49m\u001b[38;5;241;43m7\u001b[39;49m\u001b[43m]\u001b[49m\n",
      "\u001b[0;31mIndexError\u001b[0m: string index out of range"
     ]
    }
   ],
   "source": [
    "isim[7]"
   ]
  },
  {
   "cell_type": "markdown",
   "id": "2a55bd7c",
   "metadata": {},
   "source": [
    "- Stringlerin elemanlarının değiştirilemez olduğundan bahsetmiştik **(immutable)**. O yüzden şöyle şeyler yapamayız:"
   ]
  },
  {
   "cell_type": "code",
   "execution_count": 45,
   "id": "98598b1b",
   "metadata": {},
   "outputs": [
    {
     "data": {
      "text/plain": [
       "'Batuhan'"
      ]
     },
     "execution_count": 45,
     "metadata": {},
     "output_type": "execute_result"
    }
   ],
   "source": [
    "isim"
   ]
  },
  {
   "cell_type": "code",
   "execution_count": 46,
   "id": "2c197b0f",
   "metadata": {},
   "outputs": [
    {
     "ename": "TypeError",
     "evalue": "'str' object does not support item assignment",
     "output_type": "error",
     "traceback": [
      "\u001b[0;31m---------------------------------------------------------------------------\u001b[0m",
      "\u001b[0;31mTypeError\u001b[0m                                 Traceback (most recent call last)",
      "Input \u001b[0;32mIn [46]\u001b[0m, in \u001b[0;36m<cell line: 1>\u001b[0;34m()\u001b[0m\n\u001b[0;32m----> 1\u001b[0m isim[\u001b[38;5;241m3\u001b[39m] \u001b[38;5;241m=\u001b[39m \u001b[38;5;124m\"\u001b[39m\u001b[38;5;124mk\u001b[39m\u001b[38;5;124m\"\u001b[39m\n",
      "\u001b[0;31mTypeError\u001b[0m: 'str' object does not support item assignment"
     ]
    }
   ],
   "source": [
    "isim[3] = \"k\""
   ]
  },
  {
   "cell_type": "markdown",
   "id": "542eb266",
   "metadata": {},
   "source": [
    "### Slicing (Dilimleme)\n",
    "---\n",
    "- Indexing ile sonuç olarak sadece bir eleman elde ettik. Ama birkaç tanesini arka arkaya, bir öbek olarak istiyorsam ne yapardım?\n",
    "- Diyelim ki ilk elemandan başlayarak 3. elemana kadar olan karakterleri elde etmek istiyorum (0. indexten 3. indexe kadar olanları)"
   ]
  },
  {
   "cell_type": "code",
   "execution_count": 47,
   "id": "b44df39a",
   "metadata": {},
   "outputs": [
    {
     "data": {
      "text/plain": [
       "'Batuhan'"
      ]
     },
     "execution_count": 47,
     "metadata": {},
     "output_type": "execute_result"
    }
   ],
   "source": [
    "isim"
   ]
  },
  {
   "cell_type": "code",
   "execution_count": 48,
   "id": "557d4623",
   "metadata": {},
   "outputs": [
    {
     "data": {
      "text/plain": [
       "'Bat'"
      ]
     },
     "execution_count": 48,
     "metadata": {},
     "output_type": "execute_result"
    }
   ],
   "source": [
    "# Burada önemli olan nokta ilk belirtilen indexing dahil edilip son olarak yazılanın dahil edilmemesi\n",
    "# 0,1,2 indexlerindekileri döndürdü sonuç olarak\n",
    "\n",
    "isim[0:3]"
   ]
  },
  {
   "cell_type": "markdown",
   "id": "bcde064c",
   "metadata": {},
   "source": [
    "- **başlangıç:bitiş** olarak veriyoruz ve bitiş olarak verdiğimiz index dahil olmuyor. Başlangıcı belirtmezsek Python default olarak başlangıç değerini 0 alıyor."
   ]
  },
  {
   "cell_type": "code",
   "execution_count": 49,
   "id": "683ce4fe",
   "metadata": {},
   "outputs": [
    {
     "data": {
      "text/plain": [
       "'Bat'"
      ]
     },
     "execution_count": 49,
     "metadata": {},
     "output_type": "execute_result"
    }
   ],
   "source": [
    "isim[:3]"
   ]
  },
  {
   "cell_type": "markdown",
   "id": "e2809815",
   "metadata": {},
   "source": [
    "- Bitişi belirtmezseniz Python String'in sonuna kadar alıyor, bu sefer son elemanını da dahil ediyor."
   ]
  },
  {
   "cell_type": "code",
   "execution_count": 50,
   "id": "949f0ec6",
   "metadata": {},
   "outputs": [
    {
     "data": {
      "text/plain": [
       "'atuhan'"
      ]
     },
     "execution_count": 50,
     "metadata": {},
     "output_type": "execute_result"
    }
   ],
   "source": [
    "isim[1:]"
   ]
  },
  {
   "cell_type": "markdown",
   "id": "f2bff78d",
   "metadata": {},
   "source": [
    "- Slicing yaparken bitiş olarak verdiğimiz değer en büyük indeximizden büyükse hata almayız, sadece sonuna kadar almış olur (sadece indexing yaparken en büyük indexten büyük değer verince hata alıyorduk.)"
   ]
  },
  {
   "cell_type": "code",
   "execution_count": 51,
   "id": "a8a1763a",
   "metadata": {},
   "outputs": [
    {
     "data": {
      "text/plain": [
       "7"
      ]
     },
     "execution_count": 51,
     "metadata": {},
     "output_type": "execute_result"
    }
   ],
   "source": [
    "len(isim)"
   ]
  },
  {
   "cell_type": "code",
   "execution_count": 52,
   "id": "4235db24",
   "metadata": {},
   "outputs": [
    {
     "data": {
      "text/plain": [
       "'atuhan'"
      ]
     },
     "execution_count": 52,
     "metadata": {},
     "output_type": "execute_result"
    }
   ],
   "source": [
    "isim[1:20]"
   ]
  },
  {
   "cell_type": "code",
   "execution_count": 53,
   "id": "969685c2",
   "metadata": {},
   "outputs": [
    {
     "data": {
      "text/plain": [
       "'atuhan'"
      ]
     },
     "execution_count": 53,
     "metadata": {},
     "output_type": "execute_result"
    }
   ],
   "source": [
    "isim[1:200]"
   ]
  },
  {
   "cell_type": "markdown",
   "id": "96d10c30",
   "metadata": {},
   "source": [
    "- **başlangıç:bitiş** olarak slicing yapabileceğimiz gibi, **başlangıç:bitiş:adım** formunda da slicing yapabiliriz. Burada adım parametresi kaçar kaçar gideceğimizi belirler."
   ]
  },
  {
   "cell_type": "code",
   "execution_count": 55,
   "id": "d0f75203",
   "metadata": {},
   "outputs": [
    {
     "data": {
      "text/plain": [
       "'Batuhan'"
      ]
     },
     "execution_count": 55,
     "metadata": {},
     "output_type": "execute_result"
    }
   ],
   "source": [
    "isim"
   ]
  },
  {
   "cell_type": "code",
   "execution_count": 54,
   "id": "f9c79101",
   "metadata": {},
   "outputs": [
    {
     "data": {
      "text/plain": [
       "'Bthn'"
      ]
     },
     "execution_count": 54,
     "metadata": {},
     "output_type": "execute_result"
    }
   ],
   "source": [
    "isim[0:10:2]"
   ]
  },
  {
   "cell_type": "markdown",
   "id": "6519e75d",
   "metadata": {},
   "source": [
    "- Adım eksi bir değer de olabilir. Böylece ters yönce gitmiş oluruz. Ama başlangıç değerinin bitiş değerinden büyük olması lazım bunu yapabilmem için."
   ]
  },
  {
   "cell_type": "code",
   "execution_count": 56,
   "id": "82994c46",
   "metadata": {},
   "outputs": [
    {
     "data": {
      "text/plain": [
       "''"
      ]
     },
     "execution_count": 56,
     "metadata": {},
     "output_type": "execute_result"
    }
   ],
   "source": [
    "# 0. indexten 10. indexe 2 azalarak gidemez, o yüzden boş string döndürür\n",
    "isim[0:10:-1]"
   ]
  },
  {
   "cell_type": "code",
   "execution_count": 57,
   "id": "d593f08a",
   "metadata": {},
   "outputs": [
    {
     "data": {
      "text/plain": [
       "'nahuta'"
      ]
     },
     "execution_count": 57,
     "metadata": {},
     "output_type": "execute_result"
    }
   ],
   "source": [
    "isim[10:0:-1]"
   ]
  },
  {
   "cell_type": "code",
   "execution_count": 58,
   "id": "0add048d",
   "metadata": {},
   "outputs": [
    {
     "data": {
      "text/plain": [
       "'nahutaB'"
      ]
     },
     "execution_count": 58,
     "metadata": {},
     "output_type": "execute_result"
    }
   ],
   "source": [
    "isim[::-1]"
   ]
  },
  {
   "cell_type": "code",
   "execution_count": 59,
   "id": "b222767e",
   "metadata": {},
   "outputs": [
    {
     "data": {
      "text/plain": [
       "'nhtB'"
      ]
     },
     "execution_count": 59,
     "metadata": {},
     "output_type": "execute_result"
    }
   ],
   "source": [
    "isim[::-2]"
   ]
  },
  {
   "cell_type": "markdown",
   "id": "8aaced87",
   "metadata": {},
   "source": [
    "### Casting in Strings\n",
    "---"
   ]
  },
  {
   "cell_type": "code",
   "execution_count": 62,
   "id": "4480d826",
   "metadata": {},
   "outputs": [],
   "source": [
    "a = \"5\""
   ]
  },
  {
   "cell_type": "code",
   "execution_count": 63,
   "id": "3000dea6",
   "metadata": {},
   "outputs": [],
   "source": [
    "b = \"5.3\""
   ]
  },
  {
   "cell_type": "code",
   "execution_count": 64,
   "id": "9231aa75",
   "metadata": {},
   "outputs": [
    {
     "data": {
      "text/plain": [
       "5"
      ]
     },
     "execution_count": 64,
     "metadata": {},
     "output_type": "execute_result"
    }
   ],
   "source": [
    "int(a)"
   ]
  },
  {
   "cell_type": "code",
   "execution_count": 65,
   "id": "4c6240d2",
   "metadata": {},
   "outputs": [
    {
     "data": {
      "text/plain": [
       "5.3"
      ]
     },
     "execution_count": 65,
     "metadata": {},
     "output_type": "execute_result"
    }
   ],
   "source": [
    "float(b)"
   ]
  },
  {
   "cell_type": "code",
   "execution_count": 66,
   "id": "977a11f3",
   "metadata": {},
   "outputs": [
    {
     "ename": "ValueError",
     "evalue": "invalid literal for int() with base 10: '5.3'",
     "output_type": "error",
     "traceback": [
      "\u001b[0;31m---------------------------------------------------------------------------\u001b[0m",
      "\u001b[0;31mValueError\u001b[0m                                Traceback (most recent call last)",
      "Input \u001b[0;32mIn [66]\u001b[0m, in \u001b[0;36m<cell line: 1>\u001b[0;34m()\u001b[0m\n\u001b[0;32m----> 1\u001b[0m \u001b[38;5;28;43mint\u001b[39;49m\u001b[43m(\u001b[49m\u001b[43mb\u001b[49m\u001b[43m)\u001b[49m\n",
      "\u001b[0;31mValueError\u001b[0m: invalid literal for int() with base 10: '5.3'"
     ]
    }
   ],
   "source": [
    "int(b)"
   ]
  },
  {
   "cell_type": "code",
   "execution_count": 67,
   "id": "63e60153",
   "metadata": {},
   "outputs": [
    {
     "data": {
      "text/plain": [
       "5"
      ]
     },
     "execution_count": 67,
     "metadata": {},
     "output_type": "execute_result"
    }
   ],
   "source": [
    "int(float(b))"
   ]
  }
 ],
 "metadata": {
  "kernelspec": {
   "display_name": "Python 3 (ipykernel)",
   "language": "python",
   "name": "python3"
  },
  "language_info": {
   "codemirror_mode": {
    "name": "ipython",
    "version": 3
   },
   "file_extension": ".py",
   "mimetype": "text/x-python",
   "name": "python",
   "nbconvert_exporter": "python",
   "pygments_lexer": "ipython3",
   "version": "3.9.12"
  }
 },
 "nbformat": 4,
 "nbformat_minor": 5
}
