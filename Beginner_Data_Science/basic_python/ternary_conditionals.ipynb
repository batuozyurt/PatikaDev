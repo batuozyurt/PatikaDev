{
 "cells": [
  {
   "cell_type": "markdown",
   "id": "605c0377",
   "metadata": {},
   "source": [
    "# Ternary Conditionals\n",
    "---\n",
    "- **Ternary Conditionals** aslında daha önce yapamadığımız bir şeyi yapabilmemize olanak sağlamayacak. **if-else** mantığını tek satırda kullanıp döndürülecek, sonucu ona göre belirlememizi sağlayacak.\n",
    "\n",
    "- Diyelim ki belirli bir durumu test edip, **x** değişkeninin değerini bu testin sonucuna göre belirlemek istiyorum. Soruya cevabım \"y\" olursa değeri 2'ye, yoksa 0'a eşitleyeceğim."
   ]
  },
  {
   "cell_type": "code",
   "execution_count": 1,
   "id": "f19fb828",
   "metadata": {},
   "outputs": [
    {
     "name": "stdout",
     "output_type": "stream",
     "text": [
      "x in değeri 2 olsun mu? y/ny\n",
      "2\n"
     ]
    }
   ],
   "source": [
    "# cevap olarak \"y\" (yes->evet) veya \"n\"(no->hayır) vereceğiz\n",
    "cevap = input(\"x in değeri 2 olsun mu? y/n\")\n",
    "\n",
    "if cevap == \"y\": # cevap == \"y\" testimiz oluyor\n",
    "    x = 2\n",
    "else:\n",
    "    x = 0\n",
    "\n",
    "print(x)"
   ]
  },
  {
   "cell_type": "markdown",
   "id": "88ea74f4",
   "metadata": {},
   "source": [
    "- Bunun aynısını tek satırda şu şekilde yapabilirdik:"
   ]
  },
  {
   "cell_type": "code",
   "execution_count": 2,
   "id": "7bc63bab",
   "metadata": {},
   "outputs": [
    {
     "name": "stdout",
     "output_type": "stream",
     "text": [
      "x in değeri 2 olsun mu? y/ny\n"
     ]
    }
   ],
   "source": [
    "cevap = input(\"x in değeri 2 olsun mu? y/n\")"
   ]
  },
  {
   "cell_type": "code",
   "execution_count": 3,
   "id": "1b1c3fde",
   "metadata": {},
   "outputs": [],
   "source": [
    "x = 2 if cevap==\"y\" else 0"
   ]
  },
  {
   "cell_type": "code",
   "execution_count": 4,
   "id": "ff4d42e6",
   "metadata": {},
   "outputs": [
    {
     "name": "stdout",
     "output_type": "stream",
     "text": [
      "2\n"
     ]
    }
   ],
   "source": [
    "print(x)"
   ]
  },
  {
   "cell_type": "markdown",
   "id": "08304b9e",
   "metadata": {},
   "source": [
    "- Hatta daha düzenli bir şekilde:"
   ]
  },
  {
   "cell_type": "code",
   "execution_count": 9,
   "id": "15cb85bd",
   "metadata": {},
   "outputs": [
    {
     "name": "stdout",
     "output_type": "stream",
     "text": [
      "x in değeri 2 olsun mu? y/ny\n"
     ]
    }
   ],
   "source": [
    "cevap = input(\"x in değeri 2 olsun mu? y/n\")"
   ]
  },
  {
   "cell_type": "code",
   "execution_count": 10,
   "id": "04162ec4",
   "metadata": {},
   "outputs": [],
   "source": [
    "condition = cevap == \"y\""
   ]
  },
  {
   "cell_type": "code",
   "execution_count": 11,
   "id": "4b6324c9",
   "metadata": {},
   "outputs": [],
   "source": [
    "x = 2 if condition else 0"
   ]
  },
  {
   "cell_type": "code",
   "execution_count": 12,
   "id": "5083a167",
   "metadata": {},
   "outputs": [
    {
     "data": {
      "text/plain": [
       "2"
      ]
     },
     "execution_count": 12,
     "metadata": {},
     "output_type": "execute_result"
    }
   ],
   "source": [
    "x"
   ]
  }
 ],
 "metadata": {
  "kernelspec": {
   "display_name": "Python 3 (ipykernel)",
   "language": "python",
   "name": "python3"
  },
  "language_info": {
   "codemirror_mode": {
    "name": "ipython",
    "version": 3
   },
   "file_extension": ".py",
   "mimetype": "text/x-python",
   "name": "python",
   "nbconvert_exporter": "python",
   "pygments_lexer": "ipython3",
   "version": "3.9.12"
  }
 },
 "nbformat": 4,
 "nbformat_minor": 5
}
