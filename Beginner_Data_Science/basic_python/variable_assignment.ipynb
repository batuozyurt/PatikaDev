{
 "cells": [
  {
   "cell_type": "markdown",
   "id": "5f179efb",
   "metadata": {},
   "source": [
    "# Variables (Değişkenler)\n",
    "\n",
    "---\n",
    "\n",
    "- Bazı değerleri bilgisayarın hafızasında tutmak ve daha sonra bunlara verdiğimiz adlarla erişmek isteyebiliriz. Bu işlemleri variables ile gerçekleştireceğiz. \n",
    "\n",
    "- İlk olarak yapacağımız şey variable'a vereceğimiz ismi yazmak. Bu isim penguen, uzunluk, maaş gibi istediğiniz bir isim olabilir (burada dikkat edilmesi gereken yer, verilecek ismin daha önceden Python'un default olarak kullanmadığı isimler olması. Mesela if, continue, for gibi keyword'ler daha önceden ayrıldığı için bunları variable ismi olarak kullanamayız)\n",
    "\n",
    "- Variable ismini seçtikten sonra bu ismin değerinin ne olacağını söylemeliyiz. Bu aşamadan sonra Python verdiğimiz ismi gördüğünde aslında verdiğimiz değeri çağırıyor olacaktır.\n",
    "\n",
    "- Bu değer atama işlemlerini \"=\" sembolü ile yapacağız. Eşitliğin sağındaki değeri solda yazdığımızın değeri olarak ata demiş oluyoruz bununla. Bu işleme variable assignment deniyor."
   ]
  },
  {
   "cell_type": "code",
   "execution_count": 1,
   "id": "d4feafe2",
   "metadata": {},
   "outputs": [],
   "source": [
    "a = 2"
   ]
  },
  {
   "cell_type": "code",
   "execution_count": 2,
   "id": "cc9ac4f2",
   "metadata": {},
   "outputs": [
    {
     "data": {
      "text/plain": [
       "2"
      ]
     },
     "execution_count": 2,
     "metadata": {},
     "output_type": "execute_result"
    }
   ],
   "source": [
    "a"
   ]
  },
  {
   "cell_type": "code",
   "execution_count": 3,
   "id": "60abe554",
   "metadata": {},
   "outputs": [
    {
     "data": {
      "text/plain": [
       "7"
      ]
     },
     "execution_count": 3,
     "metadata": {},
     "output_type": "execute_result"
    }
   ],
   "source": [
    "a + 5"
   ]
  },
  {
   "cell_type": "code",
   "execution_count": 4,
   "id": "9d680193",
   "metadata": {},
   "outputs": [],
   "source": [
    "b = 2 + 4"
   ]
  },
  {
   "cell_type": "code",
   "execution_count": 5,
   "id": "e0325f29",
   "metadata": {},
   "outputs": [
    {
     "data": {
      "text/plain": [
       "6"
      ]
     },
     "execution_count": 5,
     "metadata": {},
     "output_type": "execute_result"
    }
   ],
   "source": [
    "b"
   ]
  },
  {
   "cell_type": "code",
   "execution_count": 6,
   "id": "38381a50",
   "metadata": {},
   "outputs": [
    {
     "data": {
      "text/plain": [
       "10"
      ]
     },
     "execution_count": 6,
     "metadata": {},
     "output_type": "execute_result"
    }
   ],
   "source": [
    "b + 4"
   ]
  },
  {
   "cell_type": "markdown",
   "id": "26c80c96",
   "metadata": {},
   "source": [
    "- Artık kodun başka bir yerinde a ile işlem yapmaya çalışsam python a'ya 2 olarak davranacak."
   ]
  },
  {
   "cell_type": "code",
   "execution_count": 10,
   "id": "25d17146",
   "metadata": {},
   "outputs": [],
   "source": [
    "limon_fiyati = 10"
   ]
  },
  {
   "cell_type": "code",
   "execution_count": 11,
   "id": "aaa0a4ed",
   "metadata": {},
   "outputs": [],
   "source": [
    "s1 = limon_fiyati * 100"
   ]
  },
  {
   "cell_type": "code",
   "execution_count": 12,
   "id": "b0b841ec",
   "metadata": {},
   "outputs": [],
   "source": [
    "s2 = limon_fiyati * 70"
   ]
  },
  {
   "cell_type": "code",
   "execution_count": 13,
   "id": "516aeda8",
   "metadata": {},
   "outputs": [],
   "source": [
    "s3 = limon_fiyati * 30"
   ]
  },
  {
   "cell_type": "code",
   "execution_count": 14,
   "id": "b0cd6172",
   "metadata": {},
   "outputs": [
    {
     "name": "stdout",
     "output_type": "stream",
     "text": [
      "1000\n"
     ]
    }
   ],
   "source": [
    "print(s1)"
   ]
  },
  {
   "cell_type": "code",
   "execution_count": 15,
   "id": "290aa766",
   "metadata": {},
   "outputs": [
    {
     "name": "stdout",
     "output_type": "stream",
     "text": [
      "700\n"
     ]
    }
   ],
   "source": [
    "print(s2)"
   ]
  },
  {
   "cell_type": "code",
   "execution_count": 16,
   "id": "70325c0c",
   "metadata": {},
   "outputs": [
    {
     "name": "stdout",
     "output_type": "stream",
     "text": [
      "300\n"
     ]
    }
   ],
   "source": [
    "print(s3)"
   ]
  }
 ],
 "metadata": {
  "kernelspec": {
   "display_name": "Python 3 (ipykernel)",
   "language": "python",
   "name": "python3"
  },
  "language_info": {
   "codemirror_mode": {
    "name": "ipython",
    "version": 3
   },
   "file_extension": ".py",
   "mimetype": "text/x-python",
   "name": "python",
   "nbconvert_exporter": "python",
   "pygments_lexer": "ipython3",
   "version": "3.9.12"
  }
 },
 "nbformat": 4,
 "nbformat_minor": 5
}
